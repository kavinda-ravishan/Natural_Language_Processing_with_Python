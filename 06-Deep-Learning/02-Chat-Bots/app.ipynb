{
 "metadata": {
  "language_info": {
   "codemirror_mode": {
    "name": "ipython",
    "version": 3
   },
   "file_extension": ".py",
   "mimetype": "text/x-python",
   "name": "python",
   "nbconvert_exporter": "python",
   "pygments_lexer": "ipython3",
   "version": "3.8.5"
  },
  "orig_nbformat": 4,
  "kernelspec": {
   "name": "python3",
   "display_name": "Python 3.8.5 64-bit ('base': conda)"
  },
  "interpreter": {
   "hash": "293c111297a61481508202fcd690d673b0775ece2d2d867b62b8842b676a9a30"
  }
 },
 "nbformat": 4,
 "nbformat_minor": 2,
 "cells": [
  {
   "source": [
    "## Data preprocessing"
   ],
   "cell_type": "markdown",
   "metadata": {}
  },
  {
   "cell_type": "code",
   "execution_count": 1,
   "metadata": {},
   "outputs": [],
   "source": [
    "import pickle\n",
    "import numpy as np"
   ]
  },
  {
   "cell_type": "code",
   "execution_count": 2,
   "metadata": {},
   "outputs": [],
   "source": [
    "with open('train_qa.txt','rb') as f:\n",
    "    train_data = pickle.load(f)"
   ]
  },
  {
   "cell_type": "code",
   "execution_count": 3,
   "metadata": {},
   "outputs": [],
   "source": [
    "with open('test_qa.txt','rb') as f:\n",
    "    test_data = pickle.load(f)"
   ]
  },
  {
   "cell_type": "code",
   "execution_count": 4,
   "metadata": {},
   "outputs": [
    {
     "output_type": "stream",
     "name": "stdout",
     "text": [
      "<class 'list'> <class 'list'>\n"
     ]
    }
   ],
   "source": [
    "print(type(train_data),type(train_data))"
   ]
  },
  {
   "cell_type": "code",
   "execution_count": 5,
   "metadata": {},
   "outputs": [
    {
     "output_type": "stream",
     "name": "stdout",
     "text": [
      "10000 1000\n"
     ]
    }
   ],
   "source": [
    "print(len(train_data),len(test_data))"
   ]
  },
  {
   "cell_type": "code",
   "execution_count": 6,
   "metadata": {},
   "outputs": [
    {
     "output_type": "stream",
     "name": "stdout",
     "text": [
      "Story    : Mary moved to the bathroom . Sandra journeyed to the bedroom . \nQuestion : Is Sandra in the hallway ? \nAnswer   : no \n\n"
     ]
    }
   ],
   "source": [
    "print(\n",
    "    f\"Story    : {' '.join(train_data[0][0])} \\n\"\n",
    "    f\"Question : {' '.join(train_data[0][1])} \\n\"\n",
    "    f\"Answer   : {train_data[0][2]} \\n\"\n",
    "    )"
   ]
  },
  {
   "cell_type": "code",
   "execution_count": 7,
   "metadata": {},
   "outputs": [
    {
     "output_type": "stream",
     "name": "stdout",
     "text": [
      "Story    : Mary got the milk there . John moved to the bedroom . \n",
      "Question : Is John in the kitchen ? \n",
      "Answer   : no \n",
      "\n"
     ]
    }
   ],
   "source": [
    "print(\n",
    "    f\"Story    : {' '.join(test_data[0][0])} \\n\"\n",
    "    f\"Question : {' '.join(test_data[0][1])} \\n\"\n",
    "    f\"Answer   : {test_data[0][2]} \\n\"\n",
    "    )"
   ]
  },
  {
   "cell_type": "code",
   "execution_count": 8,
   "metadata": {},
   "outputs": [],
   "source": [
    "all_data = train_data + test_data"
   ]
  },
  {
   "cell_type": "code",
   "execution_count": 9,
   "metadata": {},
   "outputs": [
    {
     "output_type": "execute_result",
     "data": {
      "text/plain": [
       "11000"
      ]
     },
     "metadata": {},
     "execution_count": 9
    }
   ],
   "source": [
    "len(all_data)"
   ]
  },
  {
   "cell_type": "code",
   "execution_count": 10,
   "metadata": {},
   "outputs": [
    {
     "output_type": "execute_result",
     "data": {
      "text/plain": [
       "{'.',\n",
       " 'Mary',\n",
       " 'Sandra',\n",
       " 'bathroom',\n",
       " 'bedroom',\n",
       " 'journeyed',\n",
       " 'moved',\n",
       " 'the',\n",
       " 'to'}"
      ]
     },
     "metadata": {},
     "execution_count": 10
    }
   ],
   "source": [
    "set(train_data[0][0])"
   ]
  },
  {
   "cell_type": "code",
   "execution_count": 11,
   "metadata": {},
   "outputs": [],
   "source": [
    "# get all unique words\n",
    "\n",
    "vocab = set()\n",
    "\n",
    "for story, question, answer in all_data:\n",
    "    vocab = vocab.union(set(story))\n",
    "    vocab = vocab.union(set(question))\n",
    "\n",
    "vocab.add('yes')\n",
    "vocab.add('no')"
   ]
  },
  {
   "cell_type": "code",
   "execution_count": 12,
   "metadata": {},
   "outputs": [
    {
     "output_type": "execute_result",
     "data": {
      "text/plain": [
       "{'.',\n",
       " '?',\n",
       " 'Daniel',\n",
       " 'Is',\n",
       " 'John',\n",
       " 'Mary',\n",
       " 'Sandra',\n",
       " 'apple',\n",
       " 'back',\n",
       " 'bathroom',\n",
       " 'bedroom',\n",
       " 'discarded',\n",
       " 'down',\n",
       " 'dropped',\n",
       " 'football',\n",
       " 'garden',\n",
       " 'got',\n",
       " 'grabbed',\n",
       " 'hallway',\n",
       " 'in',\n",
       " 'journeyed',\n",
       " 'kitchen',\n",
       " 'left',\n",
       " 'milk',\n",
       " 'moved',\n",
       " 'no',\n",
       " 'office',\n",
       " 'picked',\n",
       " 'put',\n",
       " 'the',\n",
       " 'there',\n",
       " 'to',\n",
       " 'took',\n",
       " 'travelled',\n",
       " 'up',\n",
       " 'went',\n",
       " 'yes'}"
      ]
     },
     "metadata": {},
     "execution_count": 12
    }
   ],
   "source": [
    "vocab"
   ]
  },
  {
   "cell_type": "code",
   "execution_count": 13,
   "metadata": {},
   "outputs": [],
   "source": [
    "# For keras pad sequences ( add one for place holder later use )\n",
    "vocab_len = len(vocab) + 1"
   ]
  },
  {
   "cell_type": "code",
   "execution_count": 14,
   "metadata": {},
   "outputs": [
    {
     "output_type": "execute_result",
     "data": {
      "text/plain": [
       "38"
      ]
     },
     "metadata": {},
     "execution_count": 14
    }
   ],
   "source": [
    "vocab_len"
   ]
  },
  {
   "cell_type": "code",
   "execution_count": 15,
   "metadata": {},
   "outputs": [],
   "source": [
    "# calculate the longest story\n",
    "all_story_len = [len(data[0]) for data in all_data]\n",
    "max_story_len = max(all_story_len)"
   ]
  },
  {
   "cell_type": "code",
   "execution_count": 16,
   "metadata": {},
   "outputs": [
    {
     "output_type": "execute_result",
     "data": {
      "text/plain": [
       "156"
      ]
     },
     "metadata": {},
     "execution_count": 16
    }
   ],
   "source": [
    "max_story_len"
   ]
  },
  {
   "cell_type": "code",
   "execution_count": 17,
   "metadata": {},
   "outputs": [],
   "source": [
    "# calculate the longest question\n",
    "all_question_len = [len(data[1]) for data in all_data]\n",
    "max_question_len = max(all_question_len)"
   ]
  },
  {
   "cell_type": "code",
   "execution_count": 18,
   "metadata": {},
   "outputs": [
    {
     "output_type": "execute_result",
     "data": {
      "text/plain": [
       "6"
      ]
     },
     "metadata": {},
     "execution_count": 18
    }
   ],
   "source": [
    "max_question_len"
   ]
  },
  {
   "cell_type": "code",
   "execution_count": 19,
   "metadata": {},
   "outputs": [],
   "source": [
    "from keras.preprocessing.sequence import pad_sequences\n",
    "from keras.preprocessing.text import Tokenizer"
   ]
  },
  {
   "cell_type": "code",
   "execution_count": 20,
   "metadata": {},
   "outputs": [],
   "source": [
    "tokenizer = Tokenizer(filters=[])\n",
    "#                             |__ disable all filters\n",
    "tokenizer.fit_on_texts(vocab)"
   ]
  },
  {
   "cell_type": "code",
   "execution_count": 21,
   "metadata": {},
   "outputs": [
    {
     "output_type": "execute_result",
     "data": {
      "text/plain": [
       "{'journeyed': 1,\n",
       " 'bathroom': 2,\n",
       " 'picked': 3,\n",
       " '.': 4,\n",
       " 'daniel': 5,\n",
       " 'there': 6,\n",
       " 'garden': 7,\n",
       " 'up': 8,\n",
       " 'in': 9,\n",
       " 'apple': 10,\n",
       " 'discarded': 11,\n",
       " 'office': 12,\n",
       " 'down': 13,\n",
       " 'yes': 14,\n",
       " 'bedroom': 15,\n",
       " 'travelled': 16,\n",
       " 'put': 17,\n",
       " 'milk': 18,\n",
       " 'no': 19,\n",
       " 'left': 20,\n",
       " 'to': 21,\n",
       " 'john': 22,\n",
       " '?': 23,\n",
       " 'grabbed': 24,\n",
       " 'dropped': 25,\n",
       " 'kitchen': 26,\n",
       " 'the': 27,\n",
       " 'took': 28,\n",
       " 'mary': 29,\n",
       " 'is': 30,\n",
       " 'sandra': 31,\n",
       " 'hallway': 32,\n",
       " 'football': 33,\n",
       " 'moved': 34,\n",
       " 'got': 35,\n",
       " 'back': 36,\n",
       " 'went': 37}"
      ]
     },
     "metadata": {},
     "execution_count": 21
    }
   ],
   "source": [
    "tokenizer.word_index"
   ]
  },
  {
   "cell_type": "code",
   "execution_count": 22,
   "metadata": {},
   "outputs": [],
   "source": [
    "train_story_text = []\n",
    "train_question_text = []\n",
    "train_answers = []"
   ]
  },
  {
   "cell_type": "code",
   "execution_count": 23,
   "metadata": {},
   "outputs": [],
   "source": [
    "for story, question, answer in train_data:\n",
    "    train_story_text.append(story)\n",
    "    train_question_text.append(question)\n",
    "    train_answers.append(answer)"
   ]
  },
  {
   "cell_type": "code",
   "execution_count": 24,
   "metadata": {},
   "outputs": [],
   "source": [
    "#train_question_seq = tokenizer.texts_to_sequences(train_question_text)\n",
    "#train_story_seq = tokenizer.texts_to_sequences(train_story_text)"
   ]
  },
  {
   "cell_type": "code",
   "execution_count": 25,
   "metadata": {},
   "outputs": [],
   "source": [
    "def vectorize_stories(data, word_index=tokenizer.word_index, max_story_len=max_story_len, max_question_len=max_question_len):\n",
    "    \n",
    "    # X = STORIES\n",
    "    X = []\n",
    "    # Xq = QUERY/QUESTION\n",
    "    Xq = []\n",
    "    # Y = CORRECT ANSWER\n",
    "    Y = []\n",
    "    \n",
    "    \n",
    "    for story, query, answer in data:\n",
    "        \n",
    "        # Grab the word index for every word in story\n",
    "        x = [word_index[word.lower()] for word in story]\n",
    "        # Grab the word index for every word in query\n",
    "        xq = [word_index[word.lower()] for word in query]\n",
    "        \n",
    "        # Grab the Answers (either Yes/No so we don't need to use list comprehension here)\n",
    "        # Index 0 is reserved so we're going to use + 1\n",
    "        y = np.zeros(len(word_index) + 1)\n",
    "        \n",
    "        # Now that y is all zeros and we know its just Yes/No , we can use numpy logic to create this assignment\n",
    "        #\n",
    "        y[word_index[answer]] = 1\n",
    "        \n",
    "        # Append each set of story,query, and answer to their respective holding lists\n",
    "        X.append(x)\n",
    "        Xq.append(xq)\n",
    "        Y.append(y)\n",
    "        \n",
    "    # Finally, pad the sequences based on their max length so the RNN can be trained on uniformly long sequences.\n",
    "        \n",
    "    # RETURN TUPLE FOR UNPACKING\n",
    "    return (pad_sequences(X, maxlen=max_story_len),pad_sequences(Xq, maxlen=max_question_len), np.array(Y))"
   ]
  },
  {
   "cell_type": "code",
   "execution_count": 26,
   "metadata": {},
   "outputs": [],
   "source": [
    "inputs_train, queries_train, answers_train = vectorize_stories(train_data)\n",
    "inputs_test, queries_test, answers_test = vectorize_stories(test_data)"
   ]
  },
  {
   "cell_type": "code",
   "execution_count": 27,
   "metadata": {},
   "outputs": [
    {
     "output_type": "execute_result",
     "data": {
      "text/plain": [
       "14"
      ]
     },
     "metadata": {},
     "execution_count": 27
    }
   ],
   "source": [
    "tokenizer.word_index['yes']"
   ]
  },
  {
   "cell_type": "code",
   "execution_count": 28,
   "metadata": {},
   "outputs": [
    {
     "output_type": "execute_result",
     "data": {
      "text/plain": [
       "19"
      ]
     },
     "metadata": {},
     "execution_count": 28
    }
   ],
   "source": [
    "tokenizer.word_index['no']"
   ]
  },
  {
   "cell_type": "code",
   "execution_count": 29,
   "metadata": {},
   "outputs": [
    {
     "output_type": "execute_result",
     "data": {
      "text/plain": [
       "array([  0.,   0.,   0.,   0.,   0.,   0.,   0.,   0.,   0.,   0.,   0.,\n",
       "         0.,   0.,   0., 497.,   0.,   0.,   0.,   0., 503.,   0.,   0.,\n",
       "         0.,   0.,   0.,   0.,   0.,   0.,   0.,   0.,   0.,   0.,   0.,\n",
       "         0.,   0.,   0.,   0.,   0.])"
      ]
     },
     "metadata": {},
     "execution_count": 29
    }
   ],
   "source": [
    "sum(answers_test)"
   ]
  },
  {
   "source": [
    "## Build the model"
   ],
   "cell_type": "markdown",
   "metadata": {}
  },
  {
   "cell_type": "code",
   "execution_count": 30,
   "metadata": {},
   "outputs": [],
   "source": [
    "from keras.models import Sequential, Model\n",
    "from keras.layers.embeddings import Embedding\n",
    "from keras.layers import Input, Activation, Dense, Permute, Dropout\n",
    "from keras.layers import add, dot, concatenate\n",
    "from keras.layers import LSTM"
   ]
  },
  {
   "cell_type": "code",
   "execution_count": 31,
   "metadata": {},
   "outputs": [],
   "source": [
    "# , is for place holder for batch size in tuple (max_story_len, batch_size)\n",
    "input_sequence = Input((max_story_len, ))\n",
    "question = Input((max_question_len, ))"
   ]
  },
  {
   "source": [
    "## Encoders"
   ],
   "cell_type": "markdown",
   "metadata": {}
  },
  {
   "source": [
    "### Input Encoder m"
   ],
   "cell_type": "markdown",
   "metadata": {}
  },
  {
   "cell_type": "code",
   "execution_count": 32,
   "metadata": {},
   "outputs": [],
   "source": [
    "# Input gets embedded to a sequence of vectors\n",
    "input_encoder_m = Sequential()\n",
    "input_encoder_m.add(Embedding(input_dim=vocab_len,output_dim=64))\n",
    "input_encoder_m.add(Dropout(0.3))\n",
    "\n",
    "# This encoder will output:\n",
    "# (samples, story_maxlen, embedding_dim)"
   ]
  },
  {
   "source": [
    "### Input Encoder c"
   ],
   "cell_type": "markdown",
   "metadata": {}
  },
  {
   "cell_type": "code",
   "execution_count": 33,
   "metadata": {},
   "outputs": [],
   "source": [
    "# embed the input into a sequence of vectors of size query_maxlen\n",
    "input_encoder_c = Sequential()\n",
    "input_encoder_c.add(Embedding(input_dim=vocab_len,output_dim=max_question_len))\n",
    "input_encoder_c.add(Dropout(0.3))\n",
    "# output: (samples, story_maxlen, query_maxlen)"
   ]
  },
  {
   "source": [
    "### Question Encoder"
   ],
   "cell_type": "markdown",
   "metadata": {}
  },
  {
   "cell_type": "code",
   "execution_count": 34,
   "metadata": {},
   "outputs": [],
   "source": [
    "# embed the question into a sequence of vectors\n",
    "question_encoder = Sequential()\n",
    "question_encoder.add(Embedding(input_dim=vocab_len, output_dim=64, input_length=max_question_len))\n",
    "question_encoder.add(Dropout(0.3))\n",
    "# output: (samples, query_maxlen, embedding_dim)"
   ]
  },
  {
   "source": [
    "### Encode the Sequences"
   ],
   "cell_type": "markdown",
   "metadata": {}
  },
  {
   "cell_type": "code",
   "execution_count": 35,
   "metadata": {},
   "outputs": [],
   "source": [
    "# encode input sequence and questions (which are indices)\n",
    "# to sequences of dense vectors\n",
    "input_encoded_m = input_encoder_m(input_sequence)\n",
    "input_encoded_c = input_encoder_c(input_sequence)\n",
    "question_encoded = question_encoder(question)"
   ]
  },
  {
   "cell_type": "code",
   "execution_count": 36,
   "metadata": {},
   "outputs": [],
   "source": [
    "# shape: `(samples, story_maxlen, query_maxlen)`\n",
    "match = dot([input_encoded_m, question_encoded], axes=(2, 2))\n",
    "match = Activation('softmax')(match)"
   ]
  },
  {
   "cell_type": "code",
   "execution_count": 37,
   "metadata": {},
   "outputs": [],
   "source": [
    "# add the match matrix with the second input vector sequence\n",
    "response = add([match, input_encoded_c])  # (samples, story_maxlen, query_maxlen)\n",
    "response = Permute((2, 1))(response)  # (samples, query_maxlen, story_maxlen)"
   ]
  },
  {
   "cell_type": "code",
   "execution_count": 38,
   "metadata": {},
   "outputs": [],
   "source": [
    "# concatenate the match matrix with the question vector sequence\n",
    "answer = concatenate([response, question_encoded])"
   ]
  },
  {
   "cell_type": "code",
   "execution_count": 39,
   "metadata": {},
   "outputs": [
    {
     "output_type": "execute_result",
     "data": {
      "text/plain": [
       "<KerasTensor: shape=(None, 6, 220) dtype=float32 (created by layer 'concatenate')>"
      ]
     },
     "metadata": {},
     "execution_count": 39
    }
   ],
   "source": [
    "answer"
   ]
  },
  {
   "cell_type": "code",
   "execution_count": 40,
   "metadata": {},
   "outputs": [],
   "source": [
    "# Reduce with RNN (LSTM)\n",
    "answer = LSTM(32)(answer)  # (samples, 32)"
   ]
  },
  {
   "cell_type": "code",
   "execution_count": 41,
   "metadata": {},
   "outputs": [],
   "source": [
    "# Regularization with Dropout\n",
    "answer = Dropout(0.5)(answer)\n",
    "answer = Dense(vocab_len)(answer)  # (samples, vocab_size) yes/no"
   ]
  },
  {
   "cell_type": "code",
   "execution_count": 42,
   "metadata": {},
   "outputs": [],
   "source": [
    "# we output a probability distribution over the vocabulary\n",
    "answer = Activation('softmax')(answer)\n",
    "\n",
    "# build the final model\n",
    "model = Model([input_sequence, question], answer)\n",
    "model.compile(optimizer='rmsprop', loss='categorical_crossentropy',\n",
    "              metrics=['accuracy'])"
   ]
  },
  {
   "cell_type": "code",
   "execution_count": 43,
   "metadata": {},
   "outputs": [
    {
     "output_type": "stream",
     "name": "stdout",
     "text": [
      "Model: \"model\"\n__________________________________________________________________________________________________\nLayer (type)                    Output Shape         Param #     Connected to                     \n==================================================================================================\ninput_1 (InputLayer)            [(None, 156)]        0                                            \n__________________________________________________________________________________________________\ninput_2 (InputLayer)            [(None, 6)]          0                                            \n__________________________________________________________________________________________________\nsequential (Sequential)         (None, None, 64)     2432        input_1[0][0]                    \n__________________________________________________________________________________________________\nsequential_2 (Sequential)       (None, 6, 64)        2432        input_2[0][0]                    \n__________________________________________________________________________________________________\ndot (Dot)                       (None, 156, 6)       0           sequential[0][0]                 \n                                                                 sequential_2[0][0]               \n__________________________________________________________________________________________________\nactivation (Activation)         (None, 156, 6)       0           dot[0][0]                        \n__________________________________________________________________________________________________\nsequential_1 (Sequential)       (None, None, 6)      228         input_1[0][0]                    \n__________________________________________________________________________________________________\nadd (Add)                       (None, 156, 6)       0           activation[0][0]                 \n                                                                 sequential_1[0][0]               \n__________________________________________________________________________________________________\npermute (Permute)               (None, 6, 156)       0           add[0][0]                        \n__________________________________________________________________________________________________\nconcatenate (Concatenate)       (None, 6, 220)       0           permute[0][0]                    \n                                                                 sequential_2[0][0]               \n__________________________________________________________________________________________________\nlstm (LSTM)                     (None, 32)           32384       concatenate[0][0]                \n__________________________________________________________________________________________________\ndropout_3 (Dropout)             (None, 32)           0           lstm[0][0]                       \n__________________________________________________________________________________________________\ndense (Dense)                   (None, 38)           1254        dropout_3[0][0]                  \n__________________________________________________________________________________________________\nactivation_1 (Activation)       (None, 38)           0           dense[0][0]                      \n==================================================================================================\nTotal params: 38,730\nTrainable params: 38,730\nNon-trainable params: 0\n__________________________________________________________________________________________________\n"
     ]
    }
   ],
   "source": [
    "model.summary()"
   ]
  },
  {
   "source": [
    "## Fit and Train"
   ],
   "cell_type": "markdown",
   "metadata": {}
  },
  {
   "cell_type": "code",
   "execution_count": 44,
   "metadata": {},
   "outputs": [
    {
     "output_type": "stream",
     "name": "stdout",
     "text": [
      "Epoch 1/120\n",
      "313/313 [==============================] - 70s 40ms/step - loss: 1.2305 - accuracy: 0.4918 - val_loss: 0.6947 - val_accuracy: 0.4820\n",
      "Epoch 2/120\n",
      "313/313 [==============================] - 9s 29ms/step - loss: 0.7071 - accuracy: 0.5089 - val_loss: 0.6977 - val_accuracy: 0.4970\n",
      "Epoch 3/120\n",
      "313/313 [==============================] - 9s 30ms/step - loss: 0.6981 - accuracy: 0.4945 - val_loss: 0.6938 - val_accuracy: 0.4970\n",
      "Epoch 4/120\n",
      "313/313 [==============================] - 9s 29ms/step - loss: 0.6953 - accuracy: 0.4962 - val_loss: 0.6936 - val_accuracy: 0.5030\n",
      "Epoch 5/120\n",
      "313/313 [==============================] - 10s 31ms/step - loss: 0.6945 - accuracy: 0.5047 - val_loss: 0.6953 - val_accuracy: 0.4970\n",
      "Epoch 6/120\n",
      "313/313 [==============================] - 10s 33ms/step - loss: 0.6949 - accuracy: 0.5001 - val_loss: 0.6933 - val_accuracy: 0.5030\n",
      "Epoch 7/120\n",
      "313/313 [==============================] - 10s 33ms/step - loss: 0.6943 - accuracy: 0.4975 - val_loss: 0.6934 - val_accuracy: 0.5030\n",
      "Epoch 8/120\n",
      "313/313 [==============================] - 9s 30ms/step - loss: 0.6946 - accuracy: 0.4940 - val_loss: 0.6944 - val_accuracy: 0.5030\n",
      "Epoch 9/120\n",
      "313/313 [==============================] - 9s 29ms/step - loss: 0.6948 - accuracy: 0.4962 - val_loss: 0.6942 - val_accuracy: 0.4820\n",
      "Epoch 10/120\n",
      "313/313 [==============================] - 9s 30ms/step - loss: 0.6938 - accuracy: 0.5053 - val_loss: 0.6960 - val_accuracy: 0.5090\n",
      "Epoch 11/120\n",
      "313/313 [==============================] - 9s 30ms/step - loss: 0.6921 - accuracy: 0.5191 - val_loss: 0.6921 - val_accuracy: 0.4850\n",
      "Epoch 12/120\n",
      "313/313 [==============================] - 9s 30ms/step - loss: 0.6833 - accuracy: 0.5324 - val_loss: 0.6619 - val_accuracy: 0.6200\n",
      "Epoch 13/120\n",
      "313/313 [==============================] - 10s 32ms/step - loss: 0.6484 - accuracy: 0.6349 - val_loss: 0.6340 - val_accuracy: 0.6410\n",
      "Epoch 14/120\n",
      "313/313 [==============================] - 9s 30ms/step - loss: 0.6271 - accuracy: 0.6573 - val_loss: 0.6183 - val_accuracy: 0.6700\n",
      "Epoch 15/120\n",
      "313/313 [==============================] - 9s 29ms/step - loss: 0.6050 - accuracy: 0.6809 - val_loss: 0.6061 - val_accuracy: 0.6590\n",
      "Epoch 16/120\n",
      "313/313 [==============================] - 10s 31ms/step - loss: 0.6090 - accuracy: 0.6705 - val_loss: 0.5847 - val_accuracy: 0.6830\n",
      "Epoch 17/120\n",
      "313/313 [==============================] - 11s 35ms/step - loss: 0.5857 - accuracy: 0.6938 - val_loss: 0.5590 - val_accuracy: 0.7000\n",
      "Epoch 18/120\n",
      "313/313 [==============================] - 11s 34ms/step - loss: 0.5482 - accuracy: 0.7304 - val_loss: 0.5202 - val_accuracy: 0.7470\n",
      "Epoch 19/120\n",
      "313/313 [==============================] - 11s 35ms/step - loss: 0.5110 - accuracy: 0.7546 - val_loss: 0.4789 - val_accuracy: 0.7820\n",
      "Epoch 20/120\n",
      "313/313 [==============================] - 10s 32ms/step - loss: 0.4935 - accuracy: 0.7709 - val_loss: 0.4773 - val_accuracy: 0.7720\n",
      "Epoch 21/120\n",
      "313/313 [==============================] - 9s 30ms/step - loss: 0.4595 - accuracy: 0.7934 - val_loss: 0.4583 - val_accuracy: 0.7950\n",
      "Epoch 22/120\n",
      "313/313 [==============================] - 10s 32ms/step - loss: 0.4537 - accuracy: 0.8077 - val_loss: 0.4311 - val_accuracy: 0.8070\n",
      "Epoch 23/120\n",
      "313/313 [==============================] - 10s 30ms/step - loss: 0.4496 - accuracy: 0.8076 - val_loss: 0.4313 - val_accuracy: 0.7950\n",
      "Epoch 24/120\n",
      "313/313 [==============================] - 9s 29ms/step - loss: 0.4286 - accuracy: 0.8122 - val_loss: 0.4459 - val_accuracy: 0.8000\n",
      "Epoch 25/120\n",
      "313/313 [==============================] - 9s 30ms/step - loss: 0.4230 - accuracy: 0.8206 - val_loss: 0.4066 - val_accuracy: 0.8180\n",
      "Epoch 26/120\n",
      "313/313 [==============================] - 9s 30ms/step - loss: 0.4098 - accuracy: 0.8237 - val_loss: 0.4071 - val_accuracy: 0.8250\n",
      "Epoch 27/120\n",
      "313/313 [==============================] - 9s 30ms/step - loss: 0.4016 - accuracy: 0.8279 - val_loss: 0.4162 - val_accuracy: 0.8220\n",
      "Epoch 28/120\n",
      "313/313 [==============================] - 9s 28ms/step - loss: 0.3959 - accuracy: 0.8367 - val_loss: 0.4056 - val_accuracy: 0.8100\n",
      "Epoch 29/120\n",
      "313/313 [==============================] - 9s 28ms/step - loss: 0.3928 - accuracy: 0.8333 - val_loss: 0.4015 - val_accuracy: 0.8260\n",
      "Epoch 30/120\n",
      "313/313 [==============================] - 8s 27ms/step - loss: 0.3746 - accuracy: 0.8424 - val_loss: 0.3881 - val_accuracy: 0.8290\n",
      "Epoch 31/120\n",
      "313/313 [==============================] - 9s 29ms/step - loss: 0.3726 - accuracy: 0.8450 - val_loss: 0.3971 - val_accuracy: 0.8190\n",
      "Epoch 32/120\n",
      "313/313 [==============================] - 9s 29ms/step - loss: 0.3663 - accuracy: 0.8434 - val_loss: 0.3932 - val_accuracy: 0.8170\n",
      "Epoch 33/120\n",
      "313/313 [==============================] - 9s 28ms/step - loss: 0.3761 - accuracy: 0.8370 - val_loss: 0.3727 - val_accuracy: 0.8280\n",
      "Epoch 34/120\n",
      "313/313 [==============================] - 9s 28ms/step - loss: 0.3588 - accuracy: 0.8428 - val_loss: 0.3813 - val_accuracy: 0.8280\n",
      "Epoch 35/120\n",
      "313/313 [==============================] - 9s 29ms/step - loss: 0.3507 - accuracy: 0.8521 - val_loss: 0.3886 - val_accuracy: 0.8330\n",
      "Epoch 36/120\n",
      "313/313 [==============================] - 8s 27ms/step - loss: 0.3614 - accuracy: 0.8466 - val_loss: 0.3870 - val_accuracy: 0.8360\n",
      "Epoch 37/120\n",
      "313/313 [==============================] - 9s 27ms/step - loss: 0.3568 - accuracy: 0.8480 - val_loss: 0.3654 - val_accuracy: 0.8310\n",
      "Epoch 38/120\n",
      "313/313 [==============================] - 9s 28ms/step - loss: 0.3393 - accuracy: 0.8555 - val_loss: 0.3737 - val_accuracy: 0.8320\n",
      "Epoch 39/120\n",
      "313/313 [==============================] - 9s 28ms/step - loss: 0.3498 - accuracy: 0.8500 - val_loss: 0.3796 - val_accuracy: 0.8240\n",
      "Epoch 40/120\n",
      "313/313 [==============================] - 8s 27ms/step - loss: 0.3455 - accuracy: 0.8458 - val_loss: 0.3725 - val_accuracy: 0.8190\n",
      "Epoch 41/120\n",
      "313/313 [==============================] - 8s 27ms/step - loss: 0.3268 - accuracy: 0.8641 - val_loss: 0.3632 - val_accuracy: 0.8340\n",
      "Epoch 42/120\n",
      "313/313 [==============================] - 8s 26ms/step - loss: 0.3265 - accuracy: 0.8649 - val_loss: 0.3705 - val_accuracy: 0.8300\n",
      "Epoch 43/120\n",
      "313/313 [==============================] - 9s 29ms/step - loss: 0.3282 - accuracy: 0.8642 - val_loss: 0.3694 - val_accuracy: 0.8310\n",
      "Epoch 44/120\n",
      "313/313 [==============================] - 8s 25ms/step - loss: 0.3285 - accuracy: 0.8587 - val_loss: 0.3891 - val_accuracy: 0.8320\n",
      "Epoch 45/120\n",
      "313/313 [==============================] - 8s 26ms/step - loss: 0.3233 - accuracy: 0.8631 - val_loss: 0.3806 - val_accuracy: 0.8270\n",
      "Epoch 46/120\n",
      "313/313 [==============================] - 9s 29ms/step - loss: 0.3228 - accuracy: 0.8642 - val_loss: 0.3648 - val_accuracy: 0.8310\n",
      "Epoch 47/120\n",
      "313/313 [==============================] - 8s 27ms/step - loss: 0.3203 - accuracy: 0.8601 - val_loss: 0.3777 - val_accuracy: 0.8300\n",
      "Epoch 48/120\n",
      "313/313 [==============================] - 9s 27ms/step - loss: 0.3150 - accuracy: 0.8624 - val_loss: 0.3762 - val_accuracy: 0.8260\n",
      "Epoch 49/120\n",
      "313/313 [==============================] - 8s 26ms/step - loss: 0.3247 - accuracy: 0.8592 - val_loss: 0.3777 - val_accuracy: 0.8270\n",
      "Epoch 50/120\n",
      "313/313 [==============================] - 10s 31ms/step - loss: 0.3247 - accuracy: 0.8614 - val_loss: 0.3719 - val_accuracy: 0.8200\n",
      "Epoch 51/120\n",
      "313/313 [==============================] - 9s 29ms/step - loss: 0.3208 - accuracy: 0.8660 - val_loss: 0.3611 - val_accuracy: 0.8260\n",
      "Epoch 52/120\n",
      "313/313 [==============================] - 9s 29ms/step - loss: 0.3106 - accuracy: 0.8696 - val_loss: 0.3729 - val_accuracy: 0.8270\n",
      "Epoch 53/120\n",
      "313/313 [==============================] - 9s 30ms/step - loss: 0.3197 - accuracy: 0.8583 - val_loss: 0.3624 - val_accuracy: 0.8280\n",
      "Epoch 54/120\n",
      "313/313 [==============================] - 10s 31ms/step - loss: 0.3187 - accuracy: 0.8620 - val_loss: 0.3751 - val_accuracy: 0.8190\n",
      "Epoch 55/120\n",
      "313/313 [==============================] - 9s 30ms/step - loss: 0.3173 - accuracy: 0.8610 - val_loss: 0.3849 - val_accuracy: 0.8340\n",
      "Epoch 56/120\n",
      "313/313 [==============================] - 10s 31ms/step - loss: 0.3039 - accuracy: 0.8681 - val_loss: 0.3712 - val_accuracy: 0.8260\n",
      "Epoch 57/120\n",
      "313/313 [==============================] - 11s 34ms/step - loss: 0.3116 - accuracy: 0.8614 - val_loss: 0.4043 - val_accuracy: 0.8210\n",
      "Epoch 58/120\n",
      "313/313 [==============================] - 11s 34ms/step - loss: 0.3091 - accuracy: 0.8638 - val_loss: 0.3683 - val_accuracy: 0.8230\n",
      "Epoch 59/120\n",
      "313/313 [==============================] - 10s 32ms/step - loss: 0.3057 - accuracy: 0.8661 - val_loss: 0.3785 - val_accuracy: 0.8220\n",
      "Epoch 60/120\n",
      "313/313 [==============================] - 10s 31ms/step - loss: 0.3068 - accuracy: 0.8679 - val_loss: 0.3775 - val_accuracy: 0.8280\n",
      "Epoch 61/120\n",
      "313/313 [==============================] - 10s 32ms/step - loss: 0.3014 - accuracy: 0.8670 - val_loss: 0.3873 - val_accuracy: 0.8230\n",
      "Epoch 62/120\n",
      "313/313 [==============================] - 10s 32ms/step - loss: 0.3065 - accuracy: 0.8665 - val_loss: 0.3873 - val_accuracy: 0.8280\n",
      "Epoch 63/120\n",
      "313/313 [==============================] - 10s 31ms/step - loss: 0.3073 - accuracy: 0.8686 - val_loss: 0.3879 - val_accuracy: 0.8310\n",
      "Epoch 64/120\n",
      "313/313 [==============================] - 11s 35ms/step - loss: 0.2996 - accuracy: 0.8738 - val_loss: 0.3843 - val_accuracy: 0.8240\n",
      "Epoch 65/120\n",
      "313/313 [==============================] - 11s 34ms/step - loss: 0.2903 - accuracy: 0.8769 - val_loss: 0.3755 - val_accuracy: 0.8230\n",
      "Epoch 66/120\n",
      "313/313 [==============================] - 11s 36ms/step - loss: 0.2986 - accuracy: 0.8687 - val_loss: 0.3984 - val_accuracy: 0.8240\n",
      "Epoch 67/120\n",
      "313/313 [==============================] - 10s 33ms/step - loss: 0.2811 - accuracy: 0.8820 - val_loss: 0.3728 - val_accuracy: 0.8280\n",
      "Epoch 68/120\n",
      "313/313 [==============================] - 10s 33ms/step - loss: 0.2972 - accuracy: 0.8731 - val_loss: 0.4060 - val_accuracy: 0.8190\n",
      "Epoch 69/120\n",
      "313/313 [==============================] - 10s 32ms/step - loss: 0.2895 - accuracy: 0.8711 - val_loss: 0.4065 - val_accuracy: 0.8350\n",
      "Epoch 70/120\n",
      "313/313 [==============================] - 9s 29ms/step - loss: 0.2895 - accuracy: 0.8757 - val_loss: 0.4019 - val_accuracy: 0.8220\n",
      "Epoch 71/120\n",
      "313/313 [==============================] - 9s 30ms/step - loss: 0.2887 - accuracy: 0.8753 - val_loss: 0.3891 - val_accuracy: 0.8260\n",
      "Epoch 72/120\n",
      "313/313 [==============================] - 9s 30ms/step - loss: 0.2845 - accuracy: 0.8730 - val_loss: 0.3712 - val_accuracy: 0.8330\n",
      "Epoch 73/120\n",
      "313/313 [==============================] - 9s 30ms/step - loss: 0.2893 - accuracy: 0.8733 - val_loss: 0.4474 - val_accuracy: 0.8250\n",
      "Epoch 74/120\n",
      "313/313 [==============================] - 10s 31ms/step - loss: 0.2895 - accuracy: 0.8720 - val_loss: 0.3740 - val_accuracy: 0.8420\n",
      "Epoch 75/120\n",
      "313/313 [==============================] - 9s 30ms/step - loss: 0.2884 - accuracy: 0.8738 - val_loss: 0.3840 - val_accuracy: 0.8260\n",
      "Epoch 76/120\n",
      "313/313 [==============================] - 10s 31ms/step - loss: 0.2834 - accuracy: 0.8736 - val_loss: 0.3641 - val_accuracy: 0.8290\n",
      "Epoch 77/120\n",
      "313/313 [==============================] - 10s 31ms/step - loss: 0.2880 - accuracy: 0.8701 - val_loss: 0.3723 - val_accuracy: 0.8320\n",
      "Epoch 78/120\n",
      "313/313 [==============================] - 9s 30ms/step - loss: 0.2738 - accuracy: 0.8783 - val_loss: 0.3761 - val_accuracy: 0.8300\n",
      "Epoch 79/120\n",
      "313/313 [==============================] - 9s 30ms/step - loss: 0.2717 - accuracy: 0.8831 - val_loss: 0.3833 - val_accuracy: 0.8230\n",
      "Epoch 80/120\n",
      "313/313 [==============================] - 9s 30ms/step - loss: 0.2704 - accuracy: 0.8837 - val_loss: 0.3840 - val_accuracy: 0.8210\n",
      "Epoch 81/120\n",
      "313/313 [==============================] - 10s 31ms/step - loss: 0.2698 - accuracy: 0.8827 - val_loss: 0.4105 - val_accuracy: 0.8260\n",
      "Epoch 82/120\n",
      "313/313 [==============================] - 11s 35ms/step - loss: 0.2631 - accuracy: 0.8844 - val_loss: 0.4258 - val_accuracy: 0.8180\n",
      "Epoch 83/120\n",
      "313/313 [==============================] - 11s 34ms/step - loss: 0.2607 - accuracy: 0.8885 - val_loss: 0.4089 - val_accuracy: 0.8200\n",
      "Epoch 84/120\n",
      "313/313 [==============================] - 11s 34ms/step - loss: 0.2761 - accuracy: 0.8752 - val_loss: 0.3972 - val_accuracy: 0.8140\n",
      "Epoch 85/120\n",
      "313/313 [==============================] - 10s 33ms/step - loss: 0.2797 - accuracy: 0.8795 - val_loss: 0.3920 - val_accuracy: 0.8300\n",
      "Epoch 86/120\n",
      "313/313 [==============================] - 10s 31ms/step - loss: 0.2595 - accuracy: 0.8902 - val_loss: 0.4038 - val_accuracy: 0.8180\n",
      "Epoch 87/120\n",
      "313/313 [==============================] - 9s 29ms/step - loss: 0.2462 - accuracy: 0.8927 - val_loss: 0.4115 - val_accuracy: 0.8140\n",
      "Epoch 88/120\n",
      "313/313 [==============================] - 9s 29ms/step - loss: 0.2659 - accuracy: 0.8883 - val_loss: 0.4192 - val_accuracy: 0.8240\n",
      "Epoch 89/120\n",
      "313/313 [==============================] - 9s 28ms/step - loss: 0.2549 - accuracy: 0.8909 - val_loss: 0.4163 - val_accuracy: 0.8280\n",
      "Epoch 90/120\n",
      "313/313 [==============================] - 9s 29ms/step - loss: 0.2561 - accuracy: 0.8919 - val_loss: 0.3967 - val_accuracy: 0.8270\n",
      "Epoch 91/120\n",
      "313/313 [==============================] - 9s 30ms/step - loss: 0.2475 - accuracy: 0.8943 - val_loss: 0.3887 - val_accuracy: 0.8220\n",
      "Epoch 92/120\n",
      "313/313 [==============================] - 9s 29ms/step - loss: 0.2511 - accuracy: 0.8890 - val_loss: 0.4242 - val_accuracy: 0.8240\n",
      "Epoch 93/120\n",
      "313/313 [==============================] - 9s 29ms/step - loss: 0.2520 - accuracy: 0.8917 - val_loss: 0.4215 - val_accuracy: 0.8220\n",
      "Epoch 94/120\n",
      "313/313 [==============================] - 9s 29ms/step - loss: 0.2602 - accuracy: 0.8914 - val_loss: 0.4197 - val_accuracy: 0.8250\n",
      "Epoch 95/120\n",
      "313/313 [==============================] - 9s 29ms/step - loss: 0.2615 - accuracy: 0.8915 - val_loss: 0.4256 - val_accuracy: 0.8180\n",
      "Epoch 96/120\n",
      "313/313 [==============================] - 9s 29ms/step - loss: 0.2448 - accuracy: 0.8980 - val_loss: 0.4212 - val_accuracy: 0.8210\n",
      "Epoch 97/120\n",
      "313/313 [==============================] - 9s 29ms/step - loss: 0.2458 - accuracy: 0.8976 - val_loss: 0.4512 - val_accuracy: 0.8200\n",
      "Epoch 98/120\n",
      "313/313 [==============================] - 9s 29ms/step - loss: 0.2518 - accuracy: 0.8912 - val_loss: 0.4243 - val_accuracy: 0.8290\n",
      "Epoch 99/120\n",
      "313/313 [==============================] - 9s 30ms/step - loss: 0.2433 - accuracy: 0.9000 - val_loss: 0.5022 - val_accuracy: 0.8140\n",
      "Epoch 100/120\n",
      "313/313 [==============================] - 10s 32ms/step - loss: 0.2403 - accuracy: 0.8977 - val_loss: 0.4218 - val_accuracy: 0.8270\n",
      "Epoch 101/120\n",
      "313/313 [==============================] - 11s 35ms/step - loss: 0.2485 - accuracy: 0.8937 - val_loss: 0.4563 - val_accuracy: 0.8210\n",
      "Epoch 102/120\n",
      "313/313 [==============================] - 10s 32ms/step - loss: 0.2437 - accuracy: 0.8986 - val_loss: 0.4410 - val_accuracy: 0.8200\n",
      "Epoch 103/120\n",
      "313/313 [==============================] - 9s 30ms/step - loss: 0.2504 - accuracy: 0.8966 - val_loss: 0.4532 - val_accuracy: 0.8250\n",
      "Epoch 104/120\n",
      "313/313 [==============================] - 10s 32ms/step - loss: 0.2397 - accuracy: 0.8949 - val_loss: 0.4568 - val_accuracy: 0.8300\n",
      "Epoch 105/120\n",
      "313/313 [==============================] - 9s 29ms/step - loss: 0.2361 - accuracy: 0.8968 - val_loss: 0.4633 - val_accuracy: 0.8250\n",
      "Epoch 106/120\n",
      "313/313 [==============================] - 9s 30ms/step - loss: 0.2436 - accuracy: 0.8927 - val_loss: 0.4745 - val_accuracy: 0.8220\n",
      "Epoch 107/120\n",
      "313/313 [==============================] - 9s 29ms/step - loss: 0.2400 - accuracy: 0.8996 - val_loss: 0.4460 - val_accuracy: 0.8300\n",
      "Epoch 108/120\n",
      "313/313 [==============================] - 9s 28ms/step - loss: 0.2464 - accuracy: 0.8933 - val_loss: 0.4706 - val_accuracy: 0.8210\n",
      "Epoch 109/120\n",
      "313/313 [==============================] - 9s 28ms/step - loss: 0.2384 - accuracy: 0.8973 - val_loss: 0.4380 - val_accuracy: 0.8300\n",
      "Epoch 110/120\n",
      "313/313 [==============================] - 9s 28ms/step - loss: 0.2394 - accuracy: 0.8955 - val_loss: 0.4673 - val_accuracy: 0.8270\n",
      "Epoch 111/120\n",
      "313/313 [==============================] - 9s 27ms/step - loss: 0.2425 - accuracy: 0.8974 - val_loss: 0.4653 - val_accuracy: 0.8220\n",
      "Epoch 112/120\n",
      "313/313 [==============================] - 9s 28ms/step - loss: 0.2346 - accuracy: 0.8971 - val_loss: 0.5171 - val_accuracy: 0.8130\n",
      "Epoch 113/120\n",
      "313/313 [==============================] - 8s 27ms/step - loss: 0.2469 - accuracy: 0.8913 - val_loss: 0.4997 - val_accuracy: 0.8330\n",
      "Epoch 114/120\n",
      "313/313 [==============================] - 9s 28ms/step - loss: 0.2203 - accuracy: 0.9090 - val_loss: 0.4679 - val_accuracy: 0.8250\n",
      "Epoch 115/120\n",
      "313/313 [==============================] - 9s 27ms/step - loss: 0.2423 - accuracy: 0.8954 - val_loss: 0.4544 - val_accuracy: 0.8210\n",
      "Epoch 116/120\n",
      "313/313 [==============================] - 9s 27ms/step - loss: 0.2266 - accuracy: 0.9040 - val_loss: 0.4676 - val_accuracy: 0.8370\n",
      "Epoch 117/120\n",
      "313/313 [==============================] - 9s 29ms/step - loss: 0.2302 - accuracy: 0.9030 - val_loss: 0.4490 - val_accuracy: 0.8270\n",
      "Epoch 118/120\n",
      "313/313 [==============================] - 9s 30ms/step - loss: 0.2305 - accuracy: 0.9020 - val_loss: 0.4920 - val_accuracy: 0.8270\n",
      "Epoch 119/120\n",
      "313/313 [==============================] - 10s 33ms/step - loss: 0.2301 - accuracy: 0.9039 - val_loss: 0.5068 - val_accuracy: 0.8170\n",
      "Epoch 120/120\n",
      "313/313 [==============================] - 11s 34ms/step - loss: 0.2458 - accuracy: 0.8932 - val_loss: 0.4673 - val_accuracy: 0.8290\n"
     ]
    }
   ],
   "source": [
    "# train\n",
    "history = model.fit([inputs_train, queries_train], answers_train,batch_size=32,epochs=120,validation_data=([inputs_test, queries_test], answers_test))"
   ]
  },
  {
   "source": [
    "## Saving the Model"
   ],
   "cell_type": "markdown",
   "metadata": {}
  },
  {
   "cell_type": "code",
   "execution_count": 45,
   "metadata": {},
   "outputs": [
    {
     "output_type": "stream",
     "name": "stderr",
     "text": [
      "C:\\Users\\kavinda\\anaconda3\\lib\\site-packages\\keras\\utils\\generic_utils.py:494: CustomMaskWarning: Custom mask layers require a config and must override get_config. When loading, the custom mask layer must be passed to the custom_objects argument.\n  warnings.warn('Custom mask layers require a config and must override '\n"
     ]
    }
   ],
   "source": [
    "filename = 'chatbot_120_epochs.h5'\n",
    "model.save(filename)"
   ]
  },
  {
   "source": [
    "## Plotting Out Training History"
   ],
   "cell_type": "markdown",
   "metadata": {}
  },
  {
   "cell_type": "code",
   "execution_count": 46,
   "metadata": {},
   "outputs": [
    {
     "output_type": "stream",
     "name": "stdout",
     "text": [
      "dict_keys(['loss', 'accuracy', 'val_loss', 'val_accuracy'])\n"
     ]
    },
    {
     "output_type": "display_data",
     "data": {
      "text/plain": "<Figure size 432x288 with 1 Axes>",
      "image/svg+xml": "<?xml version=\"1.0\" encoding=\"utf-8\" standalone=\"no\"?>\r\n<!DOCTYPE svg PUBLIC \"-//W3C//DTD SVG 1.1//EN\"\r\n  \"http://www.w3.org/Graphics/SVG/1.1/DTD/svg11.dtd\">\r\n<!-- Created with matplotlib (https://matplotlib.org/) -->\r\n<svg height=\"277.314375pt\" version=\"1.1\" viewBox=\"0 0 385.78125 277.314375\" width=\"385.78125pt\" xmlns=\"http://www.w3.org/2000/svg\" xmlns:xlink=\"http://www.w3.org/1999/xlink\">\r\n <metadata>\r\n  <rdf:RDF xmlns:cc=\"http://creativecommons.org/ns#\" xmlns:dc=\"http://purl.org/dc/elements/1.1/\" xmlns:rdf=\"http://www.w3.org/1999/02/22-rdf-syntax-ns#\">\r\n   <cc:Work>\r\n    <dc:type rdf:resource=\"http://purl.org/dc/dcmitype/StillImage\"/>\r\n    <dc:date>2021-06-27T20:11:17.791670</dc:date>\r\n    <dc:format>image/svg+xml</dc:format>\r\n    <dc:creator>\r\n     <cc:Agent>\r\n      <dc:title>Matplotlib v3.3.2, https://matplotlib.org/</dc:title>\r\n     </cc:Agent>\r\n    </dc:creator>\r\n   </cc:Work>\r\n  </rdf:RDF>\r\n </metadata>\r\n <defs>\r\n  <style type=\"text/css\">*{stroke-linecap:butt;stroke-linejoin:round;}</style>\r\n </defs>\r\n <g id=\"figure_1\">\r\n  <g id=\"patch_1\">\r\n   <path d=\"M 0 277.314375 \r\nL 385.78125 277.314375 \r\nL 385.78125 0 \r\nL 0 0 \r\nz\r\n\" style=\"fill:none;\"/>\r\n  </g>\r\n  <g id=\"axes_1\">\r\n   <g id=\"patch_2\">\r\n    <path d=\"M 43.78125 239.758125 \r\nL 378.58125 239.758125 \r\nL 378.58125 22.318125 \r\nL 43.78125 22.318125 \r\nz\r\n\" style=\"fill:#ffffff;\"/>\r\n   </g>\r\n   <g id=\"matplotlib.axis_1\">\r\n    <g id=\"xtick_1\">\r\n     <g id=\"line2d_1\">\r\n      <defs>\r\n       <path d=\"M 0 0 \r\nL 0 3.5 \r\n\" id=\"m68e3975147\" style=\"stroke:#000000;stroke-width:0.8;\"/>\r\n      </defs>\r\n      <g>\r\n       <use style=\"stroke:#000000;stroke-width:0.8;\" x=\"58.999432\" xlink:href=\"#m68e3975147\" y=\"239.758125\"/>\r\n      </g>\r\n     </g>\r\n     <g id=\"text_1\">\r\n      <!-- 0 -->\r\n      <g transform=\"translate(55.818182 254.356562)scale(0.1 -0.1)\">\r\n       <defs>\r\n        <path d=\"M 31.78125 66.40625 \r\nQ 24.171875 66.40625 20.328125 58.90625 \r\nQ 16.5 51.421875 16.5 36.375 \r\nQ 16.5 21.390625 20.328125 13.890625 \r\nQ 24.171875 6.390625 31.78125 6.390625 \r\nQ 39.453125 6.390625 43.28125 13.890625 \r\nQ 47.125 21.390625 47.125 36.375 \r\nQ 47.125 51.421875 43.28125 58.90625 \r\nQ 39.453125 66.40625 31.78125 66.40625 \r\nz\r\nM 31.78125 74.21875 \r\nQ 44.046875 74.21875 50.515625 64.515625 \r\nQ 56.984375 54.828125 56.984375 36.375 \r\nQ 56.984375 17.96875 50.515625 8.265625 \r\nQ 44.046875 -1.421875 31.78125 -1.421875 \r\nQ 19.53125 -1.421875 13.0625 8.265625 \r\nQ 6.59375 17.96875 6.59375 36.375 \r\nQ 6.59375 54.828125 13.0625 64.515625 \r\nQ 19.53125 74.21875 31.78125 74.21875 \r\nz\r\n\" id=\"DejaVuSans-48\"/>\r\n       </defs>\r\n       <use xlink:href=\"#DejaVuSans-48\"/>\r\n      </g>\r\n     </g>\r\n    </g>\r\n    <g id=\"xtick_2\">\r\n     <g id=\"line2d_2\">\r\n      <g>\r\n       <use style=\"stroke:#000000;stroke-width:0.8;\" x=\"110.152984\" xlink:href=\"#m68e3975147\" y=\"239.758125\"/>\r\n      </g>\r\n     </g>\r\n     <g id=\"text_2\">\r\n      <!-- 20 -->\r\n      <g transform=\"translate(103.790484 254.356562)scale(0.1 -0.1)\">\r\n       <defs>\r\n        <path d=\"M 19.1875 8.296875 \r\nL 53.609375 8.296875 \r\nL 53.609375 0 \r\nL 7.328125 0 \r\nL 7.328125 8.296875 \r\nQ 12.9375 14.109375 22.625 23.890625 \r\nQ 32.328125 33.6875 34.8125 36.53125 \r\nQ 39.546875 41.84375 41.421875 45.53125 \r\nQ 43.3125 49.21875 43.3125 52.78125 \r\nQ 43.3125 58.59375 39.234375 62.25 \r\nQ 35.15625 65.921875 28.609375 65.921875 \r\nQ 23.96875 65.921875 18.8125 64.3125 \r\nQ 13.671875 62.703125 7.8125 59.421875 \r\nL 7.8125 69.390625 \r\nQ 13.765625 71.78125 18.9375 73 \r\nQ 24.125 74.21875 28.421875 74.21875 \r\nQ 39.75 74.21875 46.484375 68.546875 \r\nQ 53.21875 62.890625 53.21875 53.421875 \r\nQ 53.21875 48.921875 51.53125 44.890625 \r\nQ 49.859375 40.875 45.40625 35.40625 \r\nQ 44.1875 33.984375 37.640625 27.21875 \r\nQ 31.109375 20.453125 19.1875 8.296875 \r\nz\r\n\" id=\"DejaVuSans-50\"/>\r\n       </defs>\r\n       <use xlink:href=\"#DejaVuSans-50\"/>\r\n       <use x=\"63.623047\" xlink:href=\"#DejaVuSans-48\"/>\r\n      </g>\r\n     </g>\r\n    </g>\r\n    <g id=\"xtick_3\">\r\n     <g id=\"line2d_3\">\r\n      <g>\r\n       <use style=\"stroke:#000000;stroke-width:0.8;\" x=\"161.306536\" xlink:href=\"#m68e3975147\" y=\"239.758125\"/>\r\n      </g>\r\n     </g>\r\n     <g id=\"text_3\">\r\n      <!-- 40 -->\r\n      <g transform=\"translate(154.944036 254.356562)scale(0.1 -0.1)\">\r\n       <defs>\r\n        <path d=\"M 37.796875 64.3125 \r\nL 12.890625 25.390625 \r\nL 37.796875 25.390625 \r\nz\r\nM 35.203125 72.90625 \r\nL 47.609375 72.90625 \r\nL 47.609375 25.390625 \r\nL 58.015625 25.390625 \r\nL 58.015625 17.1875 \r\nL 47.609375 17.1875 \r\nL 47.609375 0 \r\nL 37.796875 0 \r\nL 37.796875 17.1875 \r\nL 4.890625 17.1875 \r\nL 4.890625 26.703125 \r\nz\r\n\" id=\"DejaVuSans-52\"/>\r\n       </defs>\r\n       <use xlink:href=\"#DejaVuSans-52\"/>\r\n       <use x=\"63.623047\" xlink:href=\"#DejaVuSans-48\"/>\r\n      </g>\r\n     </g>\r\n    </g>\r\n    <g id=\"xtick_4\">\r\n     <g id=\"line2d_4\">\r\n      <g>\r\n       <use style=\"stroke:#000000;stroke-width:0.8;\" x=\"212.460089\" xlink:href=\"#m68e3975147\" y=\"239.758125\"/>\r\n      </g>\r\n     </g>\r\n     <g id=\"text_4\">\r\n      <!-- 60 -->\r\n      <g transform=\"translate(206.097589 254.356562)scale(0.1 -0.1)\">\r\n       <defs>\r\n        <path d=\"M 33.015625 40.375 \r\nQ 26.375 40.375 22.484375 35.828125 \r\nQ 18.609375 31.296875 18.609375 23.390625 \r\nQ 18.609375 15.53125 22.484375 10.953125 \r\nQ 26.375 6.390625 33.015625 6.390625 \r\nQ 39.65625 6.390625 43.53125 10.953125 \r\nQ 47.40625 15.53125 47.40625 23.390625 \r\nQ 47.40625 31.296875 43.53125 35.828125 \r\nQ 39.65625 40.375 33.015625 40.375 \r\nz\r\nM 52.59375 71.296875 \r\nL 52.59375 62.3125 \r\nQ 48.875 64.0625 45.09375 64.984375 \r\nQ 41.3125 65.921875 37.59375 65.921875 \r\nQ 27.828125 65.921875 22.671875 59.328125 \r\nQ 17.53125 52.734375 16.796875 39.40625 \r\nQ 19.671875 43.65625 24.015625 45.921875 \r\nQ 28.375 48.1875 33.59375 48.1875 \r\nQ 44.578125 48.1875 50.953125 41.515625 \r\nQ 57.328125 34.859375 57.328125 23.390625 \r\nQ 57.328125 12.15625 50.6875 5.359375 \r\nQ 44.046875 -1.421875 33.015625 -1.421875 \r\nQ 20.359375 -1.421875 13.671875 8.265625 \r\nQ 6.984375 17.96875 6.984375 36.375 \r\nQ 6.984375 53.65625 15.1875 63.9375 \r\nQ 23.390625 74.21875 37.203125 74.21875 \r\nQ 40.921875 74.21875 44.703125 73.484375 \r\nQ 48.484375 72.75 52.59375 71.296875 \r\nz\r\n\" id=\"DejaVuSans-54\"/>\r\n       </defs>\r\n       <use xlink:href=\"#DejaVuSans-54\"/>\r\n       <use x=\"63.623047\" xlink:href=\"#DejaVuSans-48\"/>\r\n      </g>\r\n     </g>\r\n    </g>\r\n    <g id=\"xtick_5\">\r\n     <g id=\"line2d_5\">\r\n      <g>\r\n       <use style=\"stroke:#000000;stroke-width:0.8;\" x=\"263.613641\" xlink:href=\"#m68e3975147\" y=\"239.758125\"/>\r\n      </g>\r\n     </g>\r\n     <g id=\"text_5\">\r\n      <!-- 80 -->\r\n      <g transform=\"translate(257.251141 254.356562)scale(0.1 -0.1)\">\r\n       <defs>\r\n        <path d=\"M 31.78125 34.625 \r\nQ 24.75 34.625 20.71875 30.859375 \r\nQ 16.703125 27.09375 16.703125 20.515625 \r\nQ 16.703125 13.921875 20.71875 10.15625 \r\nQ 24.75 6.390625 31.78125 6.390625 \r\nQ 38.8125 6.390625 42.859375 10.171875 \r\nQ 46.921875 13.96875 46.921875 20.515625 \r\nQ 46.921875 27.09375 42.890625 30.859375 \r\nQ 38.875 34.625 31.78125 34.625 \r\nz\r\nM 21.921875 38.8125 \r\nQ 15.578125 40.375 12.03125 44.71875 \r\nQ 8.5 49.078125 8.5 55.328125 \r\nQ 8.5 64.0625 14.71875 69.140625 \r\nQ 20.953125 74.21875 31.78125 74.21875 \r\nQ 42.671875 74.21875 48.875 69.140625 \r\nQ 55.078125 64.0625 55.078125 55.328125 \r\nQ 55.078125 49.078125 51.53125 44.71875 \r\nQ 48 40.375 41.703125 38.8125 \r\nQ 48.828125 37.15625 52.796875 32.3125 \r\nQ 56.78125 27.484375 56.78125 20.515625 \r\nQ 56.78125 9.90625 50.3125 4.234375 \r\nQ 43.84375 -1.421875 31.78125 -1.421875 \r\nQ 19.734375 -1.421875 13.25 4.234375 \r\nQ 6.78125 9.90625 6.78125 20.515625 \r\nQ 6.78125 27.484375 10.78125 32.3125 \r\nQ 14.796875 37.15625 21.921875 38.8125 \r\nz\r\nM 18.3125 54.390625 \r\nQ 18.3125 48.734375 21.84375 45.5625 \r\nQ 25.390625 42.390625 31.78125 42.390625 \r\nQ 38.140625 42.390625 41.71875 45.5625 \r\nQ 45.3125 48.734375 45.3125 54.390625 \r\nQ 45.3125 60.0625 41.71875 63.234375 \r\nQ 38.140625 66.40625 31.78125 66.40625 \r\nQ 25.390625 66.40625 21.84375 63.234375 \r\nQ 18.3125 60.0625 18.3125 54.390625 \r\nz\r\n\" id=\"DejaVuSans-56\"/>\r\n       </defs>\r\n       <use xlink:href=\"#DejaVuSans-56\"/>\r\n       <use x=\"63.623047\" xlink:href=\"#DejaVuSans-48\"/>\r\n      </g>\r\n     </g>\r\n    </g>\r\n    <g id=\"xtick_6\">\r\n     <g id=\"line2d_6\">\r\n      <g>\r\n       <use style=\"stroke:#000000;stroke-width:0.8;\" x=\"314.767193\" xlink:href=\"#m68e3975147\" y=\"239.758125\"/>\r\n      </g>\r\n     </g>\r\n     <g id=\"text_6\">\r\n      <!-- 100 -->\r\n      <g transform=\"translate(305.223443 254.356562)scale(0.1 -0.1)\">\r\n       <defs>\r\n        <path d=\"M 12.40625 8.296875 \r\nL 28.515625 8.296875 \r\nL 28.515625 63.921875 \r\nL 10.984375 60.40625 \r\nL 10.984375 69.390625 \r\nL 28.421875 72.90625 \r\nL 38.28125 72.90625 \r\nL 38.28125 8.296875 \r\nL 54.390625 8.296875 \r\nL 54.390625 0 \r\nL 12.40625 0 \r\nz\r\n\" id=\"DejaVuSans-49\"/>\r\n       </defs>\r\n       <use xlink:href=\"#DejaVuSans-49\"/>\r\n       <use x=\"63.623047\" xlink:href=\"#DejaVuSans-48\"/>\r\n       <use x=\"127.246094\" xlink:href=\"#DejaVuSans-48\"/>\r\n      </g>\r\n     </g>\r\n    </g>\r\n    <g id=\"xtick_7\">\r\n     <g id=\"line2d_7\">\r\n      <g>\r\n       <use style=\"stroke:#000000;stroke-width:0.8;\" x=\"365.920746\" xlink:href=\"#m68e3975147\" y=\"239.758125\"/>\r\n      </g>\r\n     </g>\r\n     <g id=\"text_7\">\r\n      <!-- 120 -->\r\n      <g transform=\"translate(356.376996 254.356562)scale(0.1 -0.1)\">\r\n       <use xlink:href=\"#DejaVuSans-49\"/>\r\n       <use x=\"63.623047\" xlink:href=\"#DejaVuSans-50\"/>\r\n       <use x=\"127.246094\" xlink:href=\"#DejaVuSans-48\"/>\r\n      </g>\r\n     </g>\r\n    </g>\r\n    <g id=\"text_8\">\r\n     <!-- epoch -->\r\n     <g transform=\"translate(195.953125 268.034687)scale(0.1 -0.1)\">\r\n      <defs>\r\n       <path d=\"M 56.203125 29.59375 \r\nL 56.203125 25.203125 \r\nL 14.890625 25.203125 \r\nQ 15.484375 15.921875 20.484375 11.0625 \r\nQ 25.484375 6.203125 34.421875 6.203125 \r\nQ 39.59375 6.203125 44.453125 7.46875 \r\nQ 49.3125 8.734375 54.109375 11.28125 \r\nL 54.109375 2.78125 \r\nQ 49.265625 0.734375 44.1875 -0.34375 \r\nQ 39.109375 -1.421875 33.890625 -1.421875 \r\nQ 20.796875 -1.421875 13.15625 6.1875 \r\nQ 5.515625 13.8125 5.515625 26.8125 \r\nQ 5.515625 40.234375 12.765625 48.109375 \r\nQ 20.015625 56 32.328125 56 \r\nQ 43.359375 56 49.78125 48.890625 \r\nQ 56.203125 41.796875 56.203125 29.59375 \r\nz\r\nM 47.21875 32.234375 \r\nQ 47.125 39.59375 43.09375 43.984375 \r\nQ 39.0625 48.390625 32.421875 48.390625 \r\nQ 24.90625 48.390625 20.390625 44.140625 \r\nQ 15.875 39.890625 15.1875 32.171875 \r\nz\r\n\" id=\"DejaVuSans-101\"/>\r\n       <path d=\"M 18.109375 8.203125 \r\nL 18.109375 -20.796875 \r\nL 9.078125 -20.796875 \r\nL 9.078125 54.6875 \r\nL 18.109375 54.6875 \r\nL 18.109375 46.390625 \r\nQ 20.953125 51.265625 25.265625 53.625 \r\nQ 29.59375 56 35.59375 56 \r\nQ 45.5625 56 51.78125 48.09375 \r\nQ 58.015625 40.1875 58.015625 27.296875 \r\nQ 58.015625 14.40625 51.78125 6.484375 \r\nQ 45.5625 -1.421875 35.59375 -1.421875 \r\nQ 29.59375 -1.421875 25.265625 0.953125 \r\nQ 20.953125 3.328125 18.109375 8.203125 \r\nz\r\nM 48.6875 27.296875 \r\nQ 48.6875 37.203125 44.609375 42.84375 \r\nQ 40.53125 48.484375 33.40625 48.484375 \r\nQ 26.265625 48.484375 22.1875 42.84375 \r\nQ 18.109375 37.203125 18.109375 27.296875 \r\nQ 18.109375 17.390625 22.1875 11.75 \r\nQ 26.265625 6.109375 33.40625 6.109375 \r\nQ 40.53125 6.109375 44.609375 11.75 \r\nQ 48.6875 17.390625 48.6875 27.296875 \r\nz\r\n\" id=\"DejaVuSans-112\"/>\r\n       <path d=\"M 30.609375 48.390625 \r\nQ 23.390625 48.390625 19.1875 42.75 \r\nQ 14.984375 37.109375 14.984375 27.296875 \r\nQ 14.984375 17.484375 19.15625 11.84375 \r\nQ 23.34375 6.203125 30.609375 6.203125 \r\nQ 37.796875 6.203125 41.984375 11.859375 \r\nQ 46.1875 17.53125 46.1875 27.296875 \r\nQ 46.1875 37.015625 41.984375 42.703125 \r\nQ 37.796875 48.390625 30.609375 48.390625 \r\nz\r\nM 30.609375 56 \r\nQ 42.328125 56 49.015625 48.375 \r\nQ 55.71875 40.765625 55.71875 27.296875 \r\nQ 55.71875 13.875 49.015625 6.21875 \r\nQ 42.328125 -1.421875 30.609375 -1.421875 \r\nQ 18.84375 -1.421875 12.171875 6.21875 \r\nQ 5.515625 13.875 5.515625 27.296875 \r\nQ 5.515625 40.765625 12.171875 48.375 \r\nQ 18.84375 56 30.609375 56 \r\nz\r\n\" id=\"DejaVuSans-111\"/>\r\n       <path d=\"M 48.78125 52.59375 \r\nL 48.78125 44.1875 \r\nQ 44.96875 46.296875 41.140625 47.34375 \r\nQ 37.3125 48.390625 33.40625 48.390625 \r\nQ 24.65625 48.390625 19.8125 42.84375 \r\nQ 14.984375 37.3125 14.984375 27.296875 \r\nQ 14.984375 17.28125 19.8125 11.734375 \r\nQ 24.65625 6.203125 33.40625 6.203125 \r\nQ 37.3125 6.203125 41.140625 7.25 \r\nQ 44.96875 8.296875 48.78125 10.40625 \r\nL 48.78125 2.09375 \r\nQ 45.015625 0.34375 40.984375 -0.53125 \r\nQ 36.96875 -1.421875 32.421875 -1.421875 \r\nQ 20.0625 -1.421875 12.78125 6.34375 \r\nQ 5.515625 14.109375 5.515625 27.296875 \r\nQ 5.515625 40.671875 12.859375 48.328125 \r\nQ 20.21875 56 33.015625 56 \r\nQ 37.15625 56 41.109375 55.140625 \r\nQ 45.0625 54.296875 48.78125 52.59375 \r\nz\r\n\" id=\"DejaVuSans-99\"/>\r\n       <path d=\"M 54.890625 33.015625 \r\nL 54.890625 0 \r\nL 45.90625 0 \r\nL 45.90625 32.71875 \r\nQ 45.90625 40.484375 42.875 44.328125 \r\nQ 39.84375 48.1875 33.796875 48.1875 \r\nQ 26.515625 48.1875 22.3125 43.546875 \r\nQ 18.109375 38.921875 18.109375 30.90625 \r\nL 18.109375 0 \r\nL 9.078125 0 \r\nL 9.078125 75.984375 \r\nL 18.109375 75.984375 \r\nL 18.109375 46.1875 \r\nQ 21.34375 51.125 25.703125 53.5625 \r\nQ 30.078125 56 35.796875 56 \r\nQ 45.21875 56 50.046875 50.171875 \r\nQ 54.890625 44.34375 54.890625 33.015625 \r\nz\r\n\" id=\"DejaVuSans-104\"/>\r\n      </defs>\r\n      <use xlink:href=\"#DejaVuSans-101\"/>\r\n      <use x=\"61.523438\" xlink:href=\"#DejaVuSans-112\"/>\r\n      <use x=\"125\" xlink:href=\"#DejaVuSans-111\"/>\r\n      <use x=\"186.181641\" xlink:href=\"#DejaVuSans-99\"/>\r\n      <use x=\"241.162109\" xlink:href=\"#DejaVuSans-104\"/>\r\n     </g>\r\n    </g>\r\n   </g>\r\n   <g id=\"matplotlib.axis_2\">\r\n    <g id=\"ytick_1\">\r\n     <g id=\"line2d_8\">\r\n      <defs>\r\n       <path d=\"M 0 0 \r\nL -3.5 0 \r\n\" id=\"mfcb07f5868\" style=\"stroke:#000000;stroke-width:0.8;\"/>\r\n      </defs>\r\n      <g>\r\n       <use style=\"stroke:#000000;stroke-width:0.8;\" x=\"43.78125\" xlink:href=\"#mfcb07f5868\" y=\"221.410858\"/>\r\n      </g>\r\n     </g>\r\n     <g id=\"text_9\">\r\n      <!-- 0.5 -->\r\n      <g transform=\"translate(20.878125 225.210077)scale(0.1 -0.1)\">\r\n       <defs>\r\n        <path d=\"M 10.6875 12.40625 \r\nL 21 12.40625 \r\nL 21 0 \r\nL 10.6875 0 \r\nz\r\n\" id=\"DejaVuSans-46\"/>\r\n        <path d=\"M 10.796875 72.90625 \r\nL 49.515625 72.90625 \r\nL 49.515625 64.59375 \r\nL 19.828125 64.59375 \r\nL 19.828125 46.734375 \r\nQ 21.96875 47.46875 24.109375 47.828125 \r\nQ 26.265625 48.1875 28.421875 48.1875 \r\nQ 40.625 48.1875 47.75 41.5 \r\nQ 54.890625 34.8125 54.890625 23.390625 \r\nQ 54.890625 11.625 47.5625 5.09375 \r\nQ 40.234375 -1.421875 26.90625 -1.421875 \r\nQ 22.3125 -1.421875 17.546875 -0.640625 \r\nQ 12.796875 0.140625 7.71875 1.703125 \r\nL 7.71875 11.625 \r\nQ 12.109375 9.234375 16.796875 8.0625 \r\nQ 21.484375 6.890625 26.703125 6.890625 \r\nQ 35.15625 6.890625 40.078125 11.328125 \r\nQ 45.015625 15.765625 45.015625 23.390625 \r\nQ 45.015625 31 40.078125 35.4375 \r\nQ 35.15625 39.890625 26.703125 39.890625 \r\nQ 22.75 39.890625 18.8125 39.015625 \r\nQ 14.890625 38.140625 10.796875 36.28125 \r\nz\r\n\" id=\"DejaVuSans-53\"/>\r\n       </defs>\r\n       <use xlink:href=\"#DejaVuSans-48\"/>\r\n       <use x=\"63.623047\" xlink:href=\"#DejaVuSans-46\"/>\r\n       <use x=\"95.410156\" xlink:href=\"#DejaVuSans-53\"/>\r\n      </g>\r\n     </g>\r\n    </g>\r\n    <g id=\"ytick_2\">\r\n     <g id=\"line2d_9\">\r\n      <g>\r\n       <use style=\"stroke:#000000;stroke-width:0.8;\" x=\"43.78125\" xlink:href=\"#mfcb07f5868\" y=\"174.390707\"/>\r\n      </g>\r\n     </g>\r\n     <g id=\"text_10\">\r\n      <!-- 0.6 -->\r\n      <g transform=\"translate(20.878125 178.189926)scale(0.1 -0.1)\">\r\n       <use xlink:href=\"#DejaVuSans-48\"/>\r\n       <use x=\"63.623047\" xlink:href=\"#DejaVuSans-46\"/>\r\n       <use x=\"95.410156\" xlink:href=\"#DejaVuSans-54\"/>\r\n      </g>\r\n     </g>\r\n    </g>\r\n    <g id=\"ytick_3\">\r\n     <g id=\"line2d_10\">\r\n      <g>\r\n       <use style=\"stroke:#000000;stroke-width:0.8;\" x=\"43.78125\" xlink:href=\"#mfcb07f5868\" y=\"127.370556\"/>\r\n      </g>\r\n     </g>\r\n     <g id=\"text_11\">\r\n      <!-- 0.7 -->\r\n      <g transform=\"translate(20.878125 131.169774)scale(0.1 -0.1)\">\r\n       <defs>\r\n        <path d=\"M 8.203125 72.90625 \r\nL 55.078125 72.90625 \r\nL 55.078125 68.703125 \r\nL 28.609375 0 \r\nL 18.3125 0 \r\nL 43.21875 64.59375 \r\nL 8.203125 64.59375 \r\nz\r\n\" id=\"DejaVuSans-55\"/>\r\n       </defs>\r\n       <use xlink:href=\"#DejaVuSans-48\"/>\r\n       <use x=\"63.623047\" xlink:href=\"#DejaVuSans-46\"/>\r\n       <use x=\"95.410156\" xlink:href=\"#DejaVuSans-55\"/>\r\n      </g>\r\n     </g>\r\n    </g>\r\n    <g id=\"ytick_4\">\r\n     <g id=\"line2d_11\">\r\n      <g>\r\n       <use style=\"stroke:#000000;stroke-width:0.8;\" x=\"43.78125\" xlink:href=\"#mfcb07f5868\" y=\"80.350404\"/>\r\n      </g>\r\n     </g>\r\n     <g id=\"text_12\">\r\n      <!-- 0.8 -->\r\n      <g transform=\"translate(20.878125 84.149623)scale(0.1 -0.1)\">\r\n       <use xlink:href=\"#DejaVuSans-48\"/>\r\n       <use x=\"63.623047\" xlink:href=\"#DejaVuSans-46\"/>\r\n       <use x=\"95.410156\" xlink:href=\"#DejaVuSans-56\"/>\r\n      </g>\r\n     </g>\r\n    </g>\r\n    <g id=\"ytick_5\">\r\n     <g id=\"line2d_12\">\r\n      <g>\r\n       <use style=\"stroke:#000000;stroke-width:0.8;\" x=\"43.78125\" xlink:href=\"#mfcb07f5868\" y=\"33.330253\"/>\r\n      </g>\r\n     </g>\r\n     <g id=\"text_13\">\r\n      <!-- 0.9 -->\r\n      <g transform=\"translate(20.878125 37.129472)scale(0.1 -0.1)\">\r\n       <defs>\r\n        <path d=\"M 10.984375 1.515625 \r\nL 10.984375 10.5 \r\nQ 14.703125 8.734375 18.5 7.8125 \r\nQ 22.3125 6.890625 25.984375 6.890625 \r\nQ 35.75 6.890625 40.890625 13.453125 \r\nQ 46.046875 20.015625 46.78125 33.40625 \r\nQ 43.953125 29.203125 39.59375 26.953125 \r\nQ 35.25 24.703125 29.984375 24.703125 \r\nQ 19.046875 24.703125 12.671875 31.3125 \r\nQ 6.296875 37.9375 6.296875 49.421875 \r\nQ 6.296875 60.640625 12.9375 67.421875 \r\nQ 19.578125 74.21875 30.609375 74.21875 \r\nQ 43.265625 74.21875 49.921875 64.515625 \r\nQ 56.59375 54.828125 56.59375 36.375 \r\nQ 56.59375 19.140625 48.40625 8.859375 \r\nQ 40.234375 -1.421875 26.421875 -1.421875 \r\nQ 22.703125 -1.421875 18.890625 -0.6875 \r\nQ 15.09375 0.046875 10.984375 1.515625 \r\nz\r\nM 30.609375 32.421875 \r\nQ 37.25 32.421875 41.125 36.953125 \r\nQ 45.015625 41.5 45.015625 49.421875 \r\nQ 45.015625 57.28125 41.125 61.84375 \r\nQ 37.25 66.40625 30.609375 66.40625 \r\nQ 23.96875 66.40625 20.09375 61.84375 \r\nQ 16.21875 57.28125 16.21875 49.421875 \r\nQ 16.21875 41.5 20.09375 36.953125 \r\nQ 23.96875 32.421875 30.609375 32.421875 \r\nz\r\n\" id=\"DejaVuSans-57\"/>\r\n       </defs>\r\n       <use xlink:href=\"#DejaVuSans-48\"/>\r\n       <use x=\"63.623047\" xlink:href=\"#DejaVuSans-46\"/>\r\n       <use x=\"95.410156\" xlink:href=\"#DejaVuSans-57\"/>\r\n      </g>\r\n     </g>\r\n    </g>\r\n    <g id=\"text_14\">\r\n     <!-- accuracy -->\r\n     <g transform=\"translate(14.798438 153.5975)rotate(-90)scale(0.1 -0.1)\">\r\n      <defs>\r\n       <path d=\"M 34.28125 27.484375 \r\nQ 23.390625 27.484375 19.1875 25 \r\nQ 14.984375 22.515625 14.984375 16.5 \r\nQ 14.984375 11.71875 18.140625 8.90625 \r\nQ 21.296875 6.109375 26.703125 6.109375 \r\nQ 34.1875 6.109375 38.703125 11.40625 \r\nQ 43.21875 16.703125 43.21875 25.484375 \r\nL 43.21875 27.484375 \r\nz\r\nM 52.203125 31.203125 \r\nL 52.203125 0 \r\nL 43.21875 0 \r\nL 43.21875 8.296875 \r\nQ 40.140625 3.328125 35.546875 0.953125 \r\nQ 30.953125 -1.421875 24.3125 -1.421875 \r\nQ 15.921875 -1.421875 10.953125 3.296875 \r\nQ 6 8.015625 6 15.921875 \r\nQ 6 25.140625 12.171875 29.828125 \r\nQ 18.359375 34.515625 30.609375 34.515625 \r\nL 43.21875 34.515625 \r\nL 43.21875 35.40625 \r\nQ 43.21875 41.609375 39.140625 45 \r\nQ 35.0625 48.390625 27.6875 48.390625 \r\nQ 23 48.390625 18.546875 47.265625 \r\nQ 14.109375 46.140625 10.015625 43.890625 \r\nL 10.015625 52.203125 \r\nQ 14.9375 54.109375 19.578125 55.046875 \r\nQ 24.21875 56 28.609375 56 \r\nQ 40.484375 56 46.34375 49.84375 \r\nQ 52.203125 43.703125 52.203125 31.203125 \r\nz\r\n\" id=\"DejaVuSans-97\"/>\r\n       <path d=\"M 8.5 21.578125 \r\nL 8.5 54.6875 \r\nL 17.484375 54.6875 \r\nL 17.484375 21.921875 \r\nQ 17.484375 14.15625 20.5 10.265625 \r\nQ 23.53125 6.390625 29.59375 6.390625 \r\nQ 36.859375 6.390625 41.078125 11.03125 \r\nQ 45.3125 15.671875 45.3125 23.6875 \r\nL 45.3125 54.6875 \r\nL 54.296875 54.6875 \r\nL 54.296875 0 \r\nL 45.3125 0 \r\nL 45.3125 8.40625 \r\nQ 42.046875 3.421875 37.71875 1 \r\nQ 33.40625 -1.421875 27.6875 -1.421875 \r\nQ 18.265625 -1.421875 13.375 4.4375 \r\nQ 8.5 10.296875 8.5 21.578125 \r\nz\r\nM 31.109375 56 \r\nz\r\n\" id=\"DejaVuSans-117\"/>\r\n       <path d=\"M 41.109375 46.296875 \r\nQ 39.59375 47.171875 37.8125 47.578125 \r\nQ 36.03125 48 33.890625 48 \r\nQ 26.265625 48 22.1875 43.046875 \r\nQ 18.109375 38.09375 18.109375 28.8125 \r\nL 18.109375 0 \r\nL 9.078125 0 \r\nL 9.078125 54.6875 \r\nL 18.109375 54.6875 \r\nL 18.109375 46.1875 \r\nQ 20.953125 51.171875 25.484375 53.578125 \r\nQ 30.03125 56 36.53125 56 \r\nQ 37.453125 56 38.578125 55.875 \r\nQ 39.703125 55.765625 41.0625 55.515625 \r\nz\r\n\" id=\"DejaVuSans-114\"/>\r\n       <path d=\"M 32.171875 -5.078125 \r\nQ 28.375 -14.84375 24.75 -17.8125 \r\nQ 21.140625 -20.796875 15.09375 -20.796875 \r\nL 7.90625 -20.796875 \r\nL 7.90625 -13.28125 \r\nL 13.1875 -13.28125 \r\nQ 16.890625 -13.28125 18.9375 -11.515625 \r\nQ 21 -9.765625 23.484375 -3.21875 \r\nL 25.09375 0.875 \r\nL 2.984375 54.6875 \r\nL 12.5 54.6875 \r\nL 29.59375 11.921875 \r\nL 46.6875 54.6875 \r\nL 56.203125 54.6875 \r\nz\r\n\" id=\"DejaVuSans-121\"/>\r\n      </defs>\r\n      <use xlink:href=\"#DejaVuSans-97\"/>\r\n      <use x=\"61.279297\" xlink:href=\"#DejaVuSans-99\"/>\r\n      <use x=\"116.259766\" xlink:href=\"#DejaVuSans-99\"/>\r\n      <use x=\"171.240234\" xlink:href=\"#DejaVuSans-117\"/>\r\n      <use x=\"234.619141\" xlink:href=\"#DejaVuSans-114\"/>\r\n      <use x=\"275.732422\" xlink:href=\"#DejaVuSans-97\"/>\r\n      <use x=\"337.011719\" xlink:href=\"#DejaVuSans-99\"/>\r\n      <use x=\"391.992188\" xlink:href=\"#DejaVuSans-121\"/>\r\n     </g>\r\n    </g>\r\n   </g>\r\n   <g id=\"line2d_13\">\r\n    <path clip-path=\"url(#p3ea620edec)\" d=\"M 58.999432 220.282384 \r\nL 61.557109 221.410858 \r\nL 64.114787 225.313534 \r\nL 66.672465 224.279087 \r\nL 69.230142 221.034691 \r\nL 71.78782 221.739998 \r\nL 74.345498 221.928082 \r\nL 76.903175 219.953244 \r\nL 79.460853 221.739998 \r\nL 82.01853 217.978378 \r\nL 84.576208 209.655832 \r\nL 87.133886 193.574934 \r\nL 89.691563 156.099877 \r\nL 92.249241 144.532906 \r\nL 94.806918 141.523621 \r\nL 97.364596 135.928219 \r\nL 99.922274 128.640092 \r\nL 102.479951 111.900915 \r\nL 105.037629 99.863776 \r\nL 107.595307 92.810732 \r\nL 110.152984 81.24379 \r\nL 112.710662 78.469589 \r\nL 115.268339 75.648388 \r\nL 117.826017 72.827187 \r\nL 120.383695 70.382126 \r\nL 122.941372 68.219204 \r\nL 125.49905 68.454316 \r\nL 128.056727 64.316529 \r\nL 130.614405 65.727143 \r\nL 133.172083 62.388719 \r\nL 135.72976 60.319825 \r\nL 138.287438 61.4483 \r\nL 140.845116 61.636384 \r\nL 143.402793 59.332407 \r\nL 145.960471 56.135038 \r\nL 148.518148 56.652262 \r\nL 151.075826 57.921792 \r\nL 153.633504 56.558206 \r\nL 156.191181 55.147591 \r\nL 158.748859 56.182038 \r\nL 161.306536 53.454865 \r\nL 163.864214 53.125726 \r\nL 166.421892 52.796586 \r\nL 168.979569 52.93767 \r\nL 171.537247 53.172754 \r\nL 174.094925 54.019117 \r\nL 176.652602 52.232363 \r\nL 179.21028 52.279363 \r\nL 181.767957 51.762139 \r\nL 184.325635 51.997251 \r\nL 186.883313 49.317106 \r\nL 189.44099 50.492609 \r\nL 191.998668 51.903223 \r\nL 194.556345 52.185335 \r\nL 197.114023 50.539637 \r\nL 199.671701 49.270078 \r\nL 202.229378 50.163469 \r\nL 204.787056 48.470743 \r\nL 207.344734 49.458162 \r\nL 209.902411 48.235631 \r\nL 212.460089 49.317106 \r\nL 215.017766 49.270078 \r\nL 217.575444 48.987966 \r\nL 220.133122 47.765436 \r\nL 222.690799 46.683989 \r\nL 225.248477 48.658827 \r\nL 227.806155 47.389268 \r\nL 230.363832 46.778017 \r\nL 232.92151 46.354821 \r\nL 235.479187 44.897207 \r\nL 238.036865 45.038263 \r\nL 240.594543 45.602514 \r\nL 243.15222 44.332956 \r\nL 245.709898 44.756151 \r\nL 248.267575 44.615095 \r\nL 250.825253 44.238928 \r\nL 253.382931 44.662123 \r\nL 255.940608 44.003816 \r\nL 258.498286 42.26409 \r\nL 261.055964 41.558783 \r\nL 263.613641 41.840894 \r\nL 266.171319 41.699839 \r\nL 268.728996 41.370699 \r\nL 271.286674 42.26409 \r\nL 273.844352 42.875341 \r\nL 276.402029 40.195196 \r\nL 278.959707 40.759448 \r\nL 281.517384 39.583945 \r\nL 284.075062 38.784582 \r\nL 286.63274 39.819029 \r\nL 289.190417 38.267358 \r\nL 291.748095 39.254805 \r\nL 294.305773 37.044856 \r\nL 296.86345 38.079275 \r\nL 299.421128 38.549498 \r\nL 301.978805 37.185912 \r\nL 304.536483 35.822325 \r\nL 307.094161 37.844191 \r\nL 309.651838 35.06999 \r\nL 312.209516 36.433577 \r\nL 314.767193 36.433577 \r\nL 317.324871 36.62166 \r\nL 319.882549 36.151465 \r\nL 322.440226 34.74085 \r\nL 324.997904 35.869353 \r\nL 327.555582 36.386577 \r\nL 330.113259 35.39913 \r\nL 332.670937 36.104437 \r\nL 335.228614 34.317683 \r\nL 337.786292 35.587214 \r\nL 340.34397 34.787878 \r\nL 342.901647 35.117018 \r\nL 345.459325 34.599795 \r\nL 348.017002 32.577929 \r\nL 350.57468 34.223627 \r\nL 353.132358 33.283236 \r\nL 355.690035 32.860041 \r\nL 358.247713 32.201761 \r\nL 360.805391 32.295817 \r\nL 363.363068 35.02299 \r\n\" style=\"fill:none;stroke:#1f77b4;stroke-linecap:square;stroke-width:1.5;\"/>\r\n   </g>\r\n   <g id=\"line2d_14\">\r\n    <path clip-path=\"url(#p3ea620edec)\" d=\"M 58.999432 229.874489 \r\nL 61.557109 222.821459 \r\nL 64.114787 222.821459 \r\nL 66.672465 220.000244 \r\nL 69.230142 222.821459 \r\nL 71.78782 220.000244 \r\nL 74.345498 220.000244 \r\nL 76.903175 220.000244 \r\nL 79.460853 229.874489 \r\nL 82.01853 217.179043 \r\nL 84.576208 228.463874 \r\nL 87.133886 164.986674 \r\nL 89.691563 155.112458 \r\nL 92.249241 141.476593 \r\nL 94.806918 146.648827 \r\nL 97.364596 135.363968 \r\nL 99.922274 127.370561 \r\nL 102.479951 105.271094 \r\nL 105.037629 88.814029 \r\nL 107.595307 93.51604 \r\nL 110.152984 82.701404 \r\nL 112.710662 77.059002 \r\nL 115.268339 82.701404 \r\nL 117.826017 80.350399 \r\nL 120.383695 71.886768 \r\nL 122.941372 68.595372 \r\nL 125.49905 70.005958 \r\nL 128.056727 75.648388 \r\nL 130.614405 68.125177 \r\nL 133.172083 66.714562 \r\nL 135.72976 71.416573 \r\nL 138.287438 72.356992 \r\nL 140.845116 67.184758 \r\nL 143.402793 67.184758 \r\nL 145.960471 64.833752 \r\nL 148.518148 63.423138 \r\nL 151.075826 65.774171 \r\nL 153.633504 65.303948 \r\nL 156.191181 69.065567 \r\nL 158.748859 71.416573 \r\nL 161.306536 64.363557 \r\nL 163.864214 66.244367 \r\nL 166.421892 65.774171 \r\nL 168.979569 65.303948 \r\nL 171.537247 67.654953 \r\nL 174.094925 65.774171 \r\nL 176.652602 66.244367 \r\nL 179.21028 68.125177 \r\nL 181.767957 67.654953 \r\nL 184.325635 70.946377 \r\nL 186.883313 68.125177 \r\nL 189.44099 67.654953 \r\nL 191.998668 67.184758 \r\nL 194.556345 71.416573 \r\nL 197.114023 64.363557 \r\nL 199.671701 68.125177 \r\nL 202.229378 70.476182 \r\nL 204.787056 69.535763 \r\nL 207.344734 70.005958 \r\nL 209.902411 67.184758 \r\nL 212.460089 69.535763 \r\nL 215.017766 67.184758 \r\nL 217.575444 65.774171 \r\nL 220.133122 69.065567 \r\nL 222.690799 69.535763 \r\nL 225.248477 69.065567 \r\nL 227.806155 67.184758 \r\nL 230.363832 71.416573 \r\nL 232.92151 63.893361 \r\nL 235.479187 70.005958 \r\nL 238.036865 68.125177 \r\nL 240.594543 64.833752 \r\nL 243.15222 68.595372 \r\nL 245.709898 60.601937 \r\nL 248.267575 68.125177 \r\nL 250.825253 66.714562 \r\nL 253.382931 65.303948 \r\nL 255.940608 66.244367 \r\nL 258.498286 69.535763 \r\nL 261.055964 70.476182 \r\nL 263.613641 68.125177 \r\nL 266.171319 71.886768 \r\nL 268.728996 70.946377 \r\nL 271.286674 73.767578 \r\nL 273.844352 66.244367 \r\nL 276.402029 71.886768 \r\nL 278.959707 73.767578 \r\nL 281.517384 69.065567 \r\nL 284.075062 67.184758 \r\nL 286.63274 67.654953 \r\nL 289.190417 70.005958 \r\nL 291.748095 69.065567 \r\nL 294.305773 70.005958 \r\nL 296.86345 68.595372 \r\nL 299.421128 71.886768 \r\nL 301.978805 70.476182 \r\nL 304.536483 70.946377 \r\nL 307.094161 66.714562 \r\nL 309.651838 73.767578 \r\nL 312.209516 67.654953 \r\nL 314.767193 70.476182 \r\nL 317.324871 70.946377 \r\nL 319.882549 68.595372 \r\nL 322.440226 66.244367 \r\nL 324.997904 68.595372 \r\nL 327.555582 70.005958 \r\nL 330.113259 66.244367 \r\nL 332.670937 70.476182 \r\nL 335.228614 66.244367 \r\nL 337.786292 67.654953 \r\nL 340.34397 70.005958 \r\nL 342.901647 74.237774 \r\nL 345.459325 64.833752 \r\nL 348.017002 68.595372 \r\nL 350.57468 70.476182 \r\nL 353.132358 62.952942 \r\nL 355.690035 67.654953 \r\nL 358.247713 67.654953 \r\nL 360.805391 72.356992 \r\nL 363.363068 66.714562 \r\n\" style=\"fill:none;stroke:#ff7f0e;stroke-linecap:square;stroke-width:1.5;\"/>\r\n   </g>\r\n   <g id=\"patch_3\">\r\n    <path d=\"M 43.78125 239.758125 \r\nL 43.78125 22.318125 \r\n\" style=\"fill:none;stroke:#000000;stroke-linecap:square;stroke-linejoin:miter;stroke-width:0.8;\"/>\r\n   </g>\r\n   <g id=\"patch_4\">\r\n    <path d=\"M 378.58125 239.758125 \r\nL 378.58125 22.318125 \r\n\" style=\"fill:none;stroke:#000000;stroke-linecap:square;stroke-linejoin:miter;stroke-width:0.8;\"/>\r\n   </g>\r\n   <g id=\"patch_5\">\r\n    <path d=\"M 43.78125 239.758125 \r\nL 378.58125 239.758125 \r\n\" style=\"fill:none;stroke:#000000;stroke-linecap:square;stroke-linejoin:miter;stroke-width:0.8;\"/>\r\n   </g>\r\n   <g id=\"patch_6\">\r\n    <path d=\"M 43.78125 22.318125 \r\nL 378.58125 22.318125 \r\n\" style=\"fill:none;stroke:#000000;stroke-linecap:square;stroke-linejoin:miter;stroke-width:0.8;\"/>\r\n   </g>\r\n   <g id=\"text_15\">\r\n    <!-- model accuracy -->\r\n    <g transform=\"translate(163.519688 16.318125)scale(0.12 -0.12)\">\r\n     <defs>\r\n      <path d=\"M 52 44.1875 \r\nQ 55.375 50.25 60.0625 53.125 \r\nQ 64.75 56 71.09375 56 \r\nQ 79.640625 56 84.28125 50.015625 \r\nQ 88.921875 44.046875 88.921875 33.015625 \r\nL 88.921875 0 \r\nL 79.890625 0 \r\nL 79.890625 32.71875 \r\nQ 79.890625 40.578125 77.09375 44.375 \r\nQ 74.3125 48.1875 68.609375 48.1875 \r\nQ 61.625 48.1875 57.5625 43.546875 \r\nQ 53.515625 38.921875 53.515625 30.90625 \r\nL 53.515625 0 \r\nL 44.484375 0 \r\nL 44.484375 32.71875 \r\nQ 44.484375 40.625 41.703125 44.40625 \r\nQ 38.921875 48.1875 33.109375 48.1875 \r\nQ 26.21875 48.1875 22.15625 43.53125 \r\nQ 18.109375 38.875 18.109375 30.90625 \r\nL 18.109375 0 \r\nL 9.078125 0 \r\nL 9.078125 54.6875 \r\nL 18.109375 54.6875 \r\nL 18.109375 46.1875 \r\nQ 21.1875 51.21875 25.484375 53.609375 \r\nQ 29.78125 56 35.6875 56 \r\nQ 41.65625 56 45.828125 52.96875 \r\nQ 50 49.953125 52 44.1875 \r\nz\r\n\" id=\"DejaVuSans-109\"/>\r\n      <path d=\"M 45.40625 46.390625 \r\nL 45.40625 75.984375 \r\nL 54.390625 75.984375 \r\nL 54.390625 0 \r\nL 45.40625 0 \r\nL 45.40625 8.203125 \r\nQ 42.578125 3.328125 38.25 0.953125 \r\nQ 33.9375 -1.421875 27.875 -1.421875 \r\nQ 17.96875 -1.421875 11.734375 6.484375 \r\nQ 5.515625 14.40625 5.515625 27.296875 \r\nQ 5.515625 40.1875 11.734375 48.09375 \r\nQ 17.96875 56 27.875 56 \r\nQ 33.9375 56 38.25 53.625 \r\nQ 42.578125 51.265625 45.40625 46.390625 \r\nz\r\nM 14.796875 27.296875 \r\nQ 14.796875 17.390625 18.875 11.75 \r\nQ 22.953125 6.109375 30.078125 6.109375 \r\nQ 37.203125 6.109375 41.296875 11.75 \r\nQ 45.40625 17.390625 45.40625 27.296875 \r\nQ 45.40625 37.203125 41.296875 42.84375 \r\nQ 37.203125 48.484375 30.078125 48.484375 \r\nQ 22.953125 48.484375 18.875 42.84375 \r\nQ 14.796875 37.203125 14.796875 27.296875 \r\nz\r\n\" id=\"DejaVuSans-100\"/>\r\n      <path d=\"M 9.421875 75.984375 \r\nL 18.40625 75.984375 \r\nL 18.40625 0 \r\nL 9.421875 0 \r\nz\r\n\" id=\"DejaVuSans-108\"/>\r\n      <path id=\"DejaVuSans-32\"/>\r\n     </defs>\r\n     <use xlink:href=\"#DejaVuSans-109\"/>\r\n     <use x=\"97.412109\" xlink:href=\"#DejaVuSans-111\"/>\r\n     <use x=\"158.59375\" xlink:href=\"#DejaVuSans-100\"/>\r\n     <use x=\"222.070312\" xlink:href=\"#DejaVuSans-101\"/>\r\n     <use x=\"283.59375\" xlink:href=\"#DejaVuSans-108\"/>\r\n     <use x=\"311.376953\" xlink:href=\"#DejaVuSans-32\"/>\r\n     <use x=\"343.164062\" xlink:href=\"#DejaVuSans-97\"/>\r\n     <use x=\"404.443359\" xlink:href=\"#DejaVuSans-99\"/>\r\n     <use x=\"459.423828\" xlink:href=\"#DejaVuSans-99\"/>\r\n     <use x=\"514.404297\" xlink:href=\"#DejaVuSans-117\"/>\r\n     <use x=\"577.783203\" xlink:href=\"#DejaVuSans-114\"/>\r\n     <use x=\"618.896484\" xlink:href=\"#DejaVuSans-97\"/>\r\n     <use x=\"680.175781\" xlink:href=\"#DejaVuSans-99\"/>\r\n     <use x=\"735.15625\" xlink:href=\"#DejaVuSans-121\"/>\r\n    </g>\r\n   </g>\r\n   <g id=\"legend_1\">\r\n    <g id=\"patch_7\">\r\n     <path d=\"M 50.78125 59.674375 \r\nL 106.05625 59.674375 \r\nQ 108.05625 59.674375 108.05625 57.674375 \r\nL 108.05625 29.318125 \r\nQ 108.05625 27.318125 106.05625 27.318125 \r\nL 50.78125 27.318125 \r\nQ 48.78125 27.318125 48.78125 29.318125 \r\nL 48.78125 57.674375 \r\nQ 48.78125 59.674375 50.78125 59.674375 \r\nz\r\n\" style=\"fill:#ffffff;opacity:0.8;stroke:#cccccc;stroke-linejoin:miter;\"/>\r\n    </g>\r\n    <g id=\"line2d_15\">\r\n     <path d=\"M 52.78125 35.416562 \r\nL 72.78125 35.416562 \r\n\" style=\"fill:none;stroke:#1f77b4;stroke-linecap:square;stroke-width:1.5;\"/>\r\n    </g>\r\n    <g id=\"line2d_16\"/>\r\n    <g id=\"text_16\">\r\n     <!-- train -->\r\n     <g transform=\"translate(80.78125 38.916562)scale(0.1 -0.1)\">\r\n      <defs>\r\n       <path d=\"M 18.3125 70.21875 \r\nL 18.3125 54.6875 \r\nL 36.8125 54.6875 \r\nL 36.8125 47.703125 \r\nL 18.3125 47.703125 \r\nL 18.3125 18.015625 \r\nQ 18.3125 11.328125 20.140625 9.421875 \r\nQ 21.96875 7.515625 27.59375 7.515625 \r\nL 36.8125 7.515625 \r\nL 36.8125 0 \r\nL 27.59375 0 \r\nQ 17.1875 0 13.234375 3.875 \r\nQ 9.28125 7.765625 9.28125 18.015625 \r\nL 9.28125 47.703125 \r\nL 2.6875 47.703125 \r\nL 2.6875 54.6875 \r\nL 9.28125 54.6875 \r\nL 9.28125 70.21875 \r\nz\r\n\" id=\"DejaVuSans-116\"/>\r\n       <path d=\"M 9.421875 54.6875 \r\nL 18.40625 54.6875 \r\nL 18.40625 0 \r\nL 9.421875 0 \r\nz\r\nM 9.421875 75.984375 \r\nL 18.40625 75.984375 \r\nL 18.40625 64.59375 \r\nL 9.421875 64.59375 \r\nz\r\n\" id=\"DejaVuSans-105\"/>\r\n       <path d=\"M 54.890625 33.015625 \r\nL 54.890625 0 \r\nL 45.90625 0 \r\nL 45.90625 32.71875 \r\nQ 45.90625 40.484375 42.875 44.328125 \r\nQ 39.84375 48.1875 33.796875 48.1875 \r\nQ 26.515625 48.1875 22.3125 43.546875 \r\nQ 18.109375 38.921875 18.109375 30.90625 \r\nL 18.109375 0 \r\nL 9.078125 0 \r\nL 9.078125 54.6875 \r\nL 18.109375 54.6875 \r\nL 18.109375 46.1875 \r\nQ 21.34375 51.125 25.703125 53.5625 \r\nQ 30.078125 56 35.796875 56 \r\nQ 45.21875 56 50.046875 50.171875 \r\nQ 54.890625 44.34375 54.890625 33.015625 \r\nz\r\n\" id=\"DejaVuSans-110\"/>\r\n      </defs>\r\n      <use xlink:href=\"#DejaVuSans-116\"/>\r\n      <use x=\"39.208984\" xlink:href=\"#DejaVuSans-114\"/>\r\n      <use x=\"80.322266\" xlink:href=\"#DejaVuSans-97\"/>\r\n      <use x=\"141.601562\" xlink:href=\"#DejaVuSans-105\"/>\r\n      <use x=\"169.384766\" xlink:href=\"#DejaVuSans-110\"/>\r\n     </g>\r\n    </g>\r\n    <g id=\"line2d_17\">\r\n     <path d=\"M 52.78125 50.094687 \r\nL 72.78125 50.094687 \r\n\" style=\"fill:none;stroke:#ff7f0e;stroke-linecap:square;stroke-width:1.5;\"/>\r\n    </g>\r\n    <g id=\"line2d_18\"/>\r\n    <g id=\"text_17\">\r\n     <!-- test -->\r\n     <g transform=\"translate(80.78125 53.594687)scale(0.1 -0.1)\">\r\n      <defs>\r\n       <path d=\"M 44.28125 53.078125 \r\nL 44.28125 44.578125 \r\nQ 40.484375 46.53125 36.375 47.5 \r\nQ 32.28125 48.484375 27.875 48.484375 \r\nQ 21.1875 48.484375 17.84375 46.4375 \r\nQ 14.5 44.390625 14.5 40.28125 \r\nQ 14.5 37.15625 16.890625 35.375 \r\nQ 19.28125 33.59375 26.515625 31.984375 \r\nL 29.59375 31.296875 \r\nQ 39.15625 29.25 43.1875 25.515625 \r\nQ 47.21875 21.78125 47.21875 15.09375 \r\nQ 47.21875 7.46875 41.1875 3.015625 \r\nQ 35.15625 -1.421875 24.609375 -1.421875 \r\nQ 20.21875 -1.421875 15.453125 -0.5625 \r\nQ 10.6875 0.296875 5.421875 2 \r\nL 5.421875 11.28125 \r\nQ 10.40625 8.6875 15.234375 7.390625 \r\nQ 20.0625 6.109375 24.8125 6.109375 \r\nQ 31.15625 6.109375 34.5625 8.28125 \r\nQ 37.984375 10.453125 37.984375 14.40625 \r\nQ 37.984375 18.0625 35.515625 20.015625 \r\nQ 33.0625 21.96875 24.703125 23.78125 \r\nL 21.578125 24.515625 \r\nQ 13.234375 26.265625 9.515625 29.90625 \r\nQ 5.8125 33.546875 5.8125 39.890625 \r\nQ 5.8125 47.609375 11.28125 51.796875 \r\nQ 16.75 56 26.8125 56 \r\nQ 31.78125 56 36.171875 55.265625 \r\nQ 40.578125 54.546875 44.28125 53.078125 \r\nz\r\n\" id=\"DejaVuSans-115\"/>\r\n      </defs>\r\n      <use xlink:href=\"#DejaVuSans-116\"/>\r\n      <use x=\"39.208984\" xlink:href=\"#DejaVuSans-101\"/>\r\n      <use x=\"100.732422\" xlink:href=\"#DejaVuSans-115\"/>\r\n      <use x=\"152.832031\" xlink:href=\"#DejaVuSans-116\"/>\r\n     </g>\r\n    </g>\r\n   </g>\r\n  </g>\r\n </g>\r\n <defs>\r\n  <clipPath id=\"p3ea620edec\">\r\n   <rect height=\"217.44\" width=\"334.8\" x=\"43.78125\" y=\"22.318125\"/>\r\n  </clipPath>\r\n </defs>\r\n</svg>\r\n",
      "image/png": "[encoded data removed]"
     },
     "metadata": {
      "needs_background": "light"
     }
    }
   ],
   "source": [
    "import matplotlib.pyplot as plt\n",
    "\n",
    "print(history.history.keys())\n",
    "# summarize history for accuracy\n",
    "plt.plot(history.history['accuracy'])\n",
    "plt.plot(history.history['val_accuracy'])\n",
    "plt.title('model accuracy')\n",
    "plt.ylabel('accuracy')\n",
    "plt.xlabel('epoch')\n",
    "plt.legend(['train', 'test'], loc='upper left')\n",
    "plt.show()"
   ]
  },
  {
   "source": [
    "## Load model"
   ],
   "cell_type": "markdown",
   "metadata": {}
  },
  {
   "cell_type": "code",
   "execution_count": null,
   "metadata": {},
   "outputs": [],
   "source": [
    "model.load_weights('chatbot_120_epochs.h5')"
   ]
  },
  {
   "cell_type": "code",
   "execution_count": 47,
   "metadata": {},
   "outputs": [],
   "source": [
    "pred_results = model.predict(([inputs_test, queries_test]))"
   ]
  },
  {
   "cell_type": "code",
   "execution_count": 48,
   "metadata": {},
   "outputs": [
    {
     "output_type": "execute_result",
     "data": {
      "text/plain": [
       "(1000, 38)"
      ]
     },
     "metadata": {},
     "execution_count": 48
    }
   ],
   "source": [
    "pred_results.shape"
   ]
  },
  {
   "cell_type": "code",
   "execution_count": 49,
   "metadata": {},
   "outputs": [
    {
     "output_type": "execute_result",
     "data": {
      "text/plain": [
       "array([4.6051233e-17, 4.8714817e-17, 4.4434941e-17, 4.8211229e-17,\n",
       "       5.0069444e-17, 4.5813990e-17, 4.7968346e-17, 5.4326030e-17,\n",
       "       5.0289957e-17, 5.0689413e-17, 4.7875116e-17, 4.6526580e-17,\n",
       "       5.4984231e-17, 4.1470726e-17, 1.5170582e-06, 4.8340878e-17,\n",
       "       5.0349849e-17, 5.0634915e-17, 4.7130362e-17, 9.9999845e-01,\n",
       "       4.7105200e-17, 4.8250970e-17, 4.7526112e-17, 4.8753112e-17,\n",
       "       4.9987001e-17, 4.8849545e-17, 4.5437352e-17, 4.7101246e-17,\n",
       "       4.6696208e-17, 4.8228154e-17, 4.5857702e-17, 5.9484345e-17,\n",
       "       4.9312372e-17, 4.8453127e-17, 5.7932428e-17, 4.3352820e-17,\n",
       "       5.7647825e-17, 4.6280881e-17], dtype=float32)"
      ]
     },
     "metadata": {},
     "execution_count": 49
    }
   ],
   "source": [
    "pred_results[0]"
   ]
  },
  {
   "cell_type": "code",
   "execution_count": 57,
   "metadata": {},
   "outputs": [
    {
     "output_type": "execute_result",
     "data": {
      "text/plain": [
       "14"
      ]
     },
     "metadata": {},
     "execution_count": 57
    }
   ],
   "source": [
    "tokenizer.word_index['yes']"
   ]
  },
  {
   "cell_type": "code",
   "execution_count": 58,
   "metadata": {},
   "outputs": [
    {
     "output_type": "execute_result",
     "data": {
      "text/plain": [
       "19"
      ]
     },
     "metadata": {},
     "execution_count": 58
    }
   ],
   "source": [
    "tokenizer.word_index['no']"
   ]
  },
  {
   "cell_type": "code",
   "execution_count": 55,
   "metadata": {},
   "outputs": [
    {
     "output_type": "execute_result",
     "data": {
      "text/plain": [
       "1.5170582e-06"
      ]
     },
     "metadata": {},
     "execution_count": 55
    }
   ],
   "source": [
    "pred_results[0][14] # yes or no"
   ]
  },
  {
   "cell_type": "code",
   "execution_count": 51,
   "metadata": {},
   "outputs": [
    {
     "output_type": "execute_result",
     "data": {
      "text/plain": [
       "0.99999845"
      ]
     },
     "metadata": {},
     "execution_count": 51
    }
   ],
   "source": [
    "pred_results[0][19] # yes or no"
   ]
  },
  {
   "cell_type": "code",
   "execution_count": 52,
   "metadata": {},
   "outputs": [],
   "source": [
    "val_max = np.argmax(pred_results[0])"
   ]
  },
  {
   "cell_type": "code",
   "execution_count": 53,
   "metadata": {},
   "outputs": [],
   "source": [
    "for key, val in tokenizer.word_index.items():\n",
    "    if val == val_max:\n",
    "        k = key"
   ]
  },
  {
   "cell_type": "code",
   "execution_count": 54,
   "metadata": {},
   "outputs": [
    {
     "output_type": "execute_result",
     "data": {
      "text/plain": [
       "'no'"
      ]
     },
     "metadata": {},
     "execution_count": 54
    }
   ],
   "source": [
    "k"
   ]
  },
  {
   "cell_type": "code",
   "execution_count": 59,
   "metadata": {},
   "outputs": [
    {
     "output_type": "execute_result",
     "data": {
      "text/plain": [
       "0.99999845"
      ]
     },
     "metadata": {},
     "execution_count": 59
    }
   ],
   "source": [
    "pred_results[0][val_max]"
   ]
  },
  {
   "source": [
    "## My story"
   ],
   "cell_type": "markdown",
   "metadata": {}
  },
  {
   "cell_type": "code",
   "execution_count": 60,
   "metadata": {},
   "outputs": [
    {
     "output_type": "execute_result",
     "data": {
      "text/plain": [
       "['John',\n",
       " 'left',\n",
       " 'the',\n",
       " 'kitchen',\n",
       " '.',\n",
       " 'Sandra',\n",
       " 'dropped',\n",
       " 'the',\n",
       " 'football',\n",
       " 'in',\n",
       " 'the',\n",
       " 'garden',\n",
       " '.']"
      ]
     },
     "metadata": {},
     "execution_count": 60
    }
   ],
   "source": [
    "# Note the whitespace of the periods\n",
    "my_story = \"John left the kitchen . Sandra dropped the football in the garden .\"\n",
    "my_story.split()"
   ]
  },
  {
   "cell_type": "code",
   "execution_count": 61,
   "metadata": {},
   "outputs": [
    {
     "output_type": "execute_result",
     "data": {
      "text/plain": [
       "['Is', 'the', 'football', 'in', 'the', 'garden', '?']"
      ]
     },
     "metadata": {},
     "execution_count": 61
    }
   ],
   "source": [
    "my_question = \"Is the football in the garden ?\"\n",
    "my_question.split()"
   ]
  },
  {
   "cell_type": "code",
   "execution_count": 62,
   "metadata": {},
   "outputs": [],
   "source": [
    "mydata = [(my_story.split(),my_question.split(),'yes')]"
   ]
  },
  {
   "cell_type": "code",
   "execution_count": 63,
   "metadata": {},
   "outputs": [
    {
     "output_type": "execute_result",
     "data": {
      "text/plain": [
       "[(['John',\n",
       "   'left',\n",
       "   'the',\n",
       "   'kitchen',\n",
       "   '.',\n",
       "   'Sandra',\n",
       "   'dropped',\n",
       "   'the',\n",
       "   'football',\n",
       "   'in',\n",
       "   'the',\n",
       "   'garden',\n",
       "   '.'],\n",
       "  ['Is', 'the', 'football', 'in', 'the', 'garden', '?'],\n",
       "  'yes')]"
      ]
     },
     "metadata": {},
     "execution_count": 63
    }
   ],
   "source": [
    "mydata"
   ]
  },
  {
   "cell_type": "code",
   "execution_count": 64,
   "metadata": {},
   "outputs": [],
   "source": [
    "my_story,my_ques,my_ans = vectorize_stories(mydata)"
   ]
  },
  {
   "source": [
    "pred_results = model.predict(([ my_story, my_ques]))"
   ],
   "cell_type": "code",
   "metadata": {},
   "execution_count": 67,
   "outputs": []
  },
  {
   "cell_type": "code",
   "execution_count": 68,
   "metadata": {},
   "outputs": [
    {
     "output_type": "stream",
     "name": "stdout",
     "text": [
      "Predicted answer is:  yes\nProbability of certainty was:  0.99617434\n"
     ]
    }
   ],
   "source": [
    "#Generate prediction from model\n",
    "val_max = np.argmax(pred_results[0])\n",
    "\n",
    "for key, val in tokenizer.word_index.items():\n",
    "    if val == val_max:\n",
    "        k = key\n",
    "\n",
    "print(\"Predicted answer is: \", k)\n",
    "print(\"Probability of certainty was: \", pred_results[0][val_max])"
   ]
  }
 ]
}