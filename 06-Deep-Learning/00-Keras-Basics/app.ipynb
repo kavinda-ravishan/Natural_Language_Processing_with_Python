{
 "metadata": {
  "language_info": {
   "codemirror_mode": {
    "name": "ipython",
    "version": 3
   },
   "file_extension": ".py",
   "mimetype": "text/x-python",
   "name": "python",
   "nbconvert_exporter": "python",
   "pygments_lexer": "ipython3",
   "version": "3.8.5"
  },
  "orig_nbformat": 4,
  "kernelspec": {
   "name": "python3",
   "display_name": "Python 3.8.5 64-bit ('base': conda)"
  },
  "interpreter": {
   "hash": "293c111297a61481508202fcd690d673b0775ece2d2d867b62b8842b676a9a30"
  }
 },
 "nbformat": 4,
 "nbformat_minor": 2,
 "cells": [
  {
   "cell_type": "code",
   "execution_count": 1,
   "metadata": {},
   "outputs": [],
   "source": [
    "import numpy as np"
   ]
  },
  {
   "cell_type": "code",
   "execution_count": 2,
   "metadata": {},
   "outputs": [],
   "source": [
    "from sklearn.datasets import load_iris"
   ]
  },
  {
   "cell_type": "code",
   "execution_count": 3,
   "metadata": {},
   "outputs": [],
   "source": [
    "iris = load_iris()"
   ]
  },
  {
   "cell_type": "code",
   "execution_count": 4,
   "metadata": {},
   "outputs": [
    {
     "output_type": "stream",
     "name": "stdout",
     "text": [
      ".. _iris_dataset:\n\nIris plants dataset\n--------------------\n\n**Data Set Characteristics:**\n\n    :Number of Instances: 150 (50 in each of three classes)\n    :Number of Attributes: 4 numeric, predictive attributes and the class\n    :Attribute Information:\n        - sepal length in cm\n        - sepal width in cm\n        - petal length in cm\n        - petal width in cm\n        - class:\n                - Iris-Setosa\n                - Iris-Versicolour\n                - Iris-Virginica\n                \n    :Summary Statistics:\n\n    ============== ==== ==== ======= ===== ====================\n                    Min  Max   Mean    SD   Class Correlation\n    ============== ==== ==== ======= ===== ====================\n    sepal length:   4.3  7.9   5.84   0.83    0.7826\n    sepal width:    2.0  4.4   3.05   0.43   -0.4194\n    petal length:   1.0  6.9   3.76   1.76    0.9490  (high!)\n    petal width:    0.1  2.5   1.20   0.76    0.9565  (high!)\n    ============== ==== ==== ======= ===== ====================\n\n    :Missing Attribute Values: None\n    :Class Distribution: 33.3% for each of 3 classes.\n    :Creator: R.A. Fisher\n    :Donor: Michael Marshall (MARSHALL%PLU@io.arc.nasa.gov)\n    :Date: July, 1988\n\nThe famous Iris database, first used by Sir R.A. Fisher. The dataset is taken\nfrom Fisher's paper. Note that it's the same as in R, but not as in the UCI\nMachine Learning Repository, which has two wrong data points.\n\nThis is perhaps the best known database to be found in the\npattern recognition literature.  Fisher's paper is a classic in the field and\nis referenced frequently to this day.  (See Duda & Hart, for example.)  The\ndata set contains 3 classes of 50 instances each, where each class refers to a\ntype of iris plant.  One class is linearly separable from the other 2; the\nlatter are NOT linearly separable from each other.\n\n.. topic:: References\n\n   - Fisher, R.A. \"The use of multiple measurements in taxonomic problems\"\n     Annual Eugenics, 7, Part II, 179-188 (1936); also in \"Contributions to\n     Mathematical Statistics\" (John Wiley, NY, 1950).\n   - Duda, R.O., & Hart, P.E. (1973) Pattern Classification and Scene Analysis.\n     (Q327.D83) John Wiley & Sons.  ISBN 0-471-22361-1.  See page 218.\n   - Dasarathy, B.V. (1980) \"Nosing Around the Neighborhood: A New System\n     Structure and Classification Rule for Recognition in Partially Exposed\n     Environments\".  IEEE Transactions on Pattern Analysis and Machine\n     Intelligence, Vol. PAMI-2, No. 1, 67-71.\n   - Gates, G.W. (1972) \"The Reduced Nearest Neighbor Rule\".  IEEE Transactions\n     on Information Theory, May 1972, 431-433.\n   - See also: 1988 MLC Proceedings, 54-64.  Cheeseman et al\"s AUTOCLASS II\n     conceptual clustering system finds 3 classes in the data.\n   - Many, many more ...\n"
     ]
    }
   ],
   "source": [
    "print(iris.DESCR)"
   ]
  },
  {
   "cell_type": "code",
   "execution_count": 5,
   "metadata": {},
   "outputs": [],
   "source": [
    "X = iris.data"
   ]
  },
  {
   "cell_type": "code",
   "execution_count": 6,
   "metadata": {},
   "outputs": [
    {
     "output_type": "execute_result",
     "data": {
      "text/plain": [
       "(150, 4)"
      ]
     },
     "metadata": {},
     "execution_count": 6
    }
   ],
   "source": [
    "X.shape"
   ]
  },
  {
   "cell_type": "code",
   "execution_count": 7,
   "metadata": {},
   "outputs": [],
   "source": [
    "y = iris.target"
   ]
  },
  {
   "cell_type": "code",
   "execution_count": 8,
   "metadata": {},
   "outputs": [
    {
     "output_type": "execute_result",
     "data": {
      "text/plain": [
       "array([0, 0, 0, 0, 0, 0, 0, 0, 0, 0, 0, 0, 0, 0, 0, 0, 0, 0, 0, 0, 0, 0,\n",
       "       0, 0, 0, 0, 0, 0, 0, 0, 0, 0, 0, 0, 0, 0, 0, 0, 0, 0, 0, 0, 0, 0,\n",
       "       0, 0, 0, 0, 0, 0, 1, 1, 1, 1, 1, 1, 1, 1, 1, 1, 1, 1, 1, 1, 1, 1,\n",
       "       1, 1, 1, 1, 1, 1, 1, 1, 1, 1, 1, 1, 1, 1, 1, 1, 1, 1, 1, 1, 1, 1,\n",
       "       1, 1, 1, 1, 1, 1, 1, 1, 1, 1, 1, 1, 2, 2, 2, 2, 2, 2, 2, 2, 2, 2,\n",
       "       2, 2, 2, 2, 2, 2, 2, 2, 2, 2, 2, 2, 2, 2, 2, 2, 2, 2, 2, 2, 2, 2,\n",
       "       2, 2, 2, 2, 2, 2, 2, 2, 2, 2, 2, 2, 2, 2, 2, 2, 2, 2])"
      ]
     },
     "metadata": {},
     "execution_count": 8
    }
   ],
   "source": [
    "y"
   ]
  },
  {
   "cell_type": "code",
   "execution_count": 9,
   "metadata": {},
   "outputs": [],
   "source": [
    "from sklearn.preprocessing import OneHotEncoder"
   ]
  },
  {
   "cell_type": "code",
   "execution_count": 10,
   "metadata": {},
   "outputs": [],
   "source": [
    "enc = OneHotEncoder()"
   ]
  },
  {
   "cell_type": "code",
   "execution_count": 11,
   "metadata": {},
   "outputs": [],
   "source": [
    "y = enc.fit_transform(y.reshape(-1,1))\n",
    "y = y.toarray()"
   ]
  },
  {
   "cell_type": "code",
   "execution_count": 12,
   "metadata": {},
   "outputs": [],
   "source": [
    "from sklearn.model_selection import train_test_split"
   ]
  },
  {
   "cell_type": "code",
   "execution_count": 13,
   "metadata": {},
   "outputs": [],
   "source": [
    "X_train, X_test, y_train, y_test = train_test_split(X, y, test_size = 0.33, random_state = 42)"
   ]
  },
  {
   "cell_type": "code",
   "execution_count": 14,
   "metadata": {},
   "outputs": [],
   "source": [
    "from sklearn.preprocessing import MinMaxScaler"
   ]
  },
  {
   "cell_type": "code",
   "execution_count": 15,
   "metadata": {},
   "outputs": [],
   "source": [
    "sc = MinMaxScaler().fit(X_train)"
   ]
  },
  {
   "cell_type": "code",
   "execution_count": 16,
   "metadata": {},
   "outputs": [],
   "source": [
    "X_train = sc.transform(X_train)\n",
    "X_test = sc.transform(X_test)"
   ]
  },
  {
   "cell_type": "code",
   "execution_count": 17,
   "metadata": {},
   "outputs": [],
   "source": [
    "import tensorflow as tf"
   ]
  },
  {
   "cell_type": "code",
   "execution_count": 18,
   "metadata": {},
   "outputs": [],
   "source": [
    "ann = tf.keras.Sequential()"
   ]
  },
  {
   "cell_type": "code",
   "execution_count": 19,
   "metadata": {},
   "outputs": [],
   "source": [
    "ann.add(tf.keras.layers.Dense(8, activation='relu'))\n",
    "ann.add(tf.keras.layers.Dense(8, activation='relu'))\n",
    "ann.add(tf.keras.layers.Dense(3, activation='softmax'))"
   ]
  },
  {
   "cell_type": "code",
   "execution_count": 20,
   "metadata": {},
   "outputs": [],
   "source": [
    "ann.compile(loss='categorical_crossentropy', optimizer='adam', metrics=['accuracy'])"
   ]
  },
  {
   "cell_type": "code",
   "execution_count": 21,
   "metadata": {},
   "outputs": [
    {
     "output_type": "stream",
     "name": "stdout",
     "text": [
      "Epoch 1/150\n",
      "4/4 - 1s - loss: 1.2589 - accuracy: 0.3100\n",
      "Epoch 2/150\n",
      "4/4 - 0s - loss: 1.2361 - accuracy: 0.3100\n",
      "Epoch 3/150\n",
      "4/4 - 0s - loss: 1.2146 - accuracy: 0.3100\n",
      "Epoch 4/150\n",
      "4/4 - 0s - loss: 1.1933 - accuracy: 0.3100\n",
      "Epoch 5/150\n",
      "4/4 - 0s - loss: 1.1746 - accuracy: 0.3200\n",
      "Epoch 6/150\n",
      "4/4 - 0s - loss: 1.1582 - accuracy: 0.3500\n",
      "Epoch 7/150\n",
      "4/4 - 0s - loss: 1.1419 - accuracy: 0.4900\n",
      "Epoch 8/150\n",
      "4/4 - 0s - loss: 1.1276 - accuracy: 0.5600\n",
      "Epoch 9/150\n",
      "4/4 - 0s - loss: 1.1153 - accuracy: 0.6300\n",
      "Epoch 10/150\n",
      "4/4 - 0s - loss: 1.1034 - accuracy: 0.6300\n",
      "Epoch 11/150\n",
      "4/4 - 0s - loss: 1.0932 - accuracy: 0.6400\n",
      "Epoch 12/150\n",
      "4/4 - 0s - loss: 1.0834 - accuracy: 0.6500\n",
      "Epoch 13/150\n",
      "4/4 - 0s - loss: 1.0749 - accuracy: 0.6500\n",
      "Epoch 14/150\n",
      "4/4 - 0s - loss: 1.0675 - accuracy: 0.6500\n",
      "Epoch 15/150\n",
      "4/4 - 0s - loss: 1.0594 - accuracy: 0.6400\n",
      "Epoch 16/150\n",
      "4/4 - 0s - loss: 1.0514 - accuracy: 0.6400\n",
      "Epoch 17/150\n",
      "4/4 - 0s - loss: 1.0440 - accuracy: 0.6300\n",
      "Epoch 18/150\n",
      "4/4 - 0s - loss: 1.0354 - accuracy: 0.5900\n",
      "Epoch 19/150\n",
      "4/4 - 0s - loss: 1.0284 - accuracy: 0.5700\n",
      "Epoch 20/150\n",
      "4/4 - 0s - loss: 1.0207 - accuracy: 0.5200\n",
      "Epoch 21/150\n",
      "4/4 - 0s - loss: 1.0140 - accuracy: 0.5000\n",
      "Epoch 22/150\n",
      "4/4 - 0s - loss: 1.0075 - accuracy: 0.4900\n",
      "Epoch 23/150\n",
      "4/4 - 0s - loss: 1.0008 - accuracy: 0.5200\n",
      "Epoch 24/150\n",
      "4/4 - 0s - loss: 0.9943 - accuracy: 0.5100\n",
      "Epoch 25/150\n",
      "4/4 - 0s - loss: 0.9873 - accuracy: 0.5000\n",
      "Epoch 26/150\n",
      "4/4 - 0s - loss: 0.9803 - accuracy: 0.5100\n",
      "Epoch 27/150\n",
      "4/4 - 0s - loss: 0.9729 - accuracy: 0.5400\n",
      "Epoch 28/150\n",
      "4/4 - 0s - loss: 0.9656 - accuracy: 0.5700\n",
      "Epoch 29/150\n",
      "4/4 - 0s - loss: 0.9575 - accuracy: 0.5600\n",
      "Epoch 30/150\n",
      "4/4 - 0s - loss: 0.9496 - accuracy: 0.6200\n",
      "Epoch 31/150\n",
      "4/4 - 0s - loss: 0.9420 - accuracy: 0.6300\n",
      "Epoch 32/150\n",
      "4/4 - 0s - loss: 0.9340 - accuracy: 0.6400\n",
      "Epoch 33/150\n",
      "4/4 - 0s - loss: 0.9258 - accuracy: 0.6400\n",
      "Epoch 34/150\n",
      "4/4 - 0s - loss: 0.9178 - accuracy: 0.6400\n",
      "Epoch 35/150\n",
      "4/4 - 0s - loss: 0.9089 - accuracy: 0.6300\n",
      "Epoch 36/150\n",
      "4/4 - 0s - loss: 0.9001 - accuracy: 0.6100\n",
      "Epoch 37/150\n",
      "4/4 - 0s - loss: 0.8910 - accuracy: 0.6200\n",
      "Epoch 38/150\n",
      "4/4 - 0s - loss: 0.8821 - accuracy: 0.6200\n",
      "Epoch 39/150\n",
      "4/4 - 0s - loss: 0.8727 - accuracy: 0.6300\n",
      "Epoch 40/150\n",
      "4/4 - 0s - loss: 0.8633 - accuracy: 0.6300\n",
      "Epoch 41/150\n",
      "4/4 - 0s - loss: 0.8537 - accuracy: 0.6400\n",
      "Epoch 42/150\n",
      "4/4 - 0s - loss: 0.8445 - accuracy: 0.6400\n",
      "Epoch 43/150\n",
      "4/4 - 0s - loss: 0.8350 - accuracy: 0.6400\n",
      "Epoch 44/150\n",
      "4/4 - 0s - loss: 0.8258 - accuracy: 0.6400\n",
      "Epoch 45/150\n",
      "4/4 - 0s - loss: 0.8162 - accuracy: 0.6400\n",
      "Epoch 46/150\n",
      "4/4 - 0s - loss: 0.8068 - accuracy: 0.6400\n",
      "Epoch 47/150\n",
      "4/4 - 0s - loss: 0.7974 - accuracy: 0.6400\n",
      "Epoch 48/150\n",
      "4/4 - 0s - loss: 0.7881 - accuracy: 0.6400\n",
      "Epoch 49/150\n",
      "4/4 - 0s - loss: 0.7788 - accuracy: 0.6400\n",
      "Epoch 50/150\n",
      "4/4 - 0s - loss: 0.7699 - accuracy: 0.6400\n",
      "Epoch 51/150\n",
      "4/4 - 0s - loss: 0.7604 - accuracy: 0.6500\n",
      "Epoch 52/150\n",
      "4/4 - 0s - loss: 0.7512 - accuracy: 0.6600\n",
      "Epoch 53/150\n",
      "4/4 - 0s - loss: 0.7417 - accuracy: 0.6700\n",
      "Epoch 54/150\n",
      "4/4 - 0s - loss: 0.7326 - accuracy: 0.6600\n",
      "Epoch 55/150\n",
      "4/4 - 0s - loss: 0.7234 - accuracy: 0.6600\n",
      "Epoch 56/150\n",
      "4/4 - 0s - loss: 0.7144 - accuracy: 0.6600\n",
      "Epoch 57/150\n",
      "4/4 - 0s - loss: 0.7056 - accuracy: 0.6700\n",
      "Epoch 58/150\n",
      "4/4 - 0s - loss: 0.6970 - accuracy: 0.6800\n",
      "Epoch 59/150\n",
      "4/4 - 0s - loss: 0.6882 - accuracy: 0.6900\n",
      "Epoch 60/150\n",
      "4/4 - 0s - loss: 0.6801 - accuracy: 0.6900\n",
      "Epoch 61/150\n",
      "4/4 - 0s - loss: 0.6718 - accuracy: 0.6900\n",
      "Epoch 62/150\n",
      "4/4 - 0s - loss: 0.6636 - accuracy: 0.6900\n",
      "Epoch 63/150\n",
      "4/4 - 0s - loss: 0.6562 - accuracy: 0.6800\n",
      "Epoch 64/150\n",
      "4/4 - 0s - loss: 0.6479 - accuracy: 0.6700\n",
      "Epoch 65/150\n",
      "4/4 - 0s - loss: 0.6405 - accuracy: 0.6700\n",
      "Epoch 66/150\n",
      "4/4 - 0s - loss: 0.6340 - accuracy: 0.6700\n",
      "Epoch 67/150\n",
      "4/4 - 0s - loss: 0.6270 - accuracy: 0.6600\n",
      "Epoch 68/150\n",
      "4/4 - 0s - loss: 0.6202 - accuracy: 0.6600\n",
      "Epoch 69/150\n",
      "4/4 - 0s - loss: 0.6137 - accuracy: 0.6600\n",
      "Epoch 70/150\n",
      "4/4 - 0s - loss: 0.6079 - accuracy: 0.6500\n",
      "Epoch 71/150\n",
      "4/4 - 0s - loss: 0.6017 - accuracy: 0.6500\n",
      "Epoch 72/150\n",
      "4/4 - 0s - loss: 0.5959 - accuracy: 0.6600\n",
      "Epoch 73/150\n",
      "4/4 - 0s - loss: 0.5900 - accuracy: 0.6700\n",
      "Epoch 74/150\n",
      "4/4 - 0s - loss: 0.5847 - accuracy: 0.6700\n",
      "Epoch 75/150\n",
      "4/4 - 0s - loss: 0.5789 - accuracy: 0.6700\n",
      "Epoch 76/150\n",
      "4/4 - 0s - loss: 0.5738 - accuracy: 0.6800\n",
      "Epoch 77/150\n",
      "4/4 - 0s - loss: 0.5688 - accuracy: 0.6800\n",
      "Epoch 78/150\n",
      "4/4 - 0s - loss: 0.5636 - accuracy: 0.7000\n",
      "Epoch 79/150\n",
      "4/4 - 0s - loss: 0.5595 - accuracy: 0.7200\n",
      "Epoch 80/150\n",
      "4/4 - 0s - loss: 0.5549 - accuracy: 0.7700\n",
      "Epoch 81/150\n",
      "4/4 - 0s - loss: 0.5505 - accuracy: 0.7800\n",
      "Epoch 82/150\n",
      "4/4 - 0s - loss: 0.5460 - accuracy: 0.7800\n",
      "Epoch 83/150\n",
      "4/4 - 0s - loss: 0.5420 - accuracy: 0.7800\n",
      "Epoch 84/150\n",
      "4/4 - 0s - loss: 0.5374 - accuracy: 0.7800\n",
      "Epoch 85/150\n",
      "4/4 - 0s - loss: 0.5333 - accuracy: 0.7800\n",
      "Epoch 86/150\n",
      "4/4 - 0s - loss: 0.5293 - accuracy: 0.8000\n",
      "Epoch 87/150\n",
      "4/4 - 0s - loss: 0.5255 - accuracy: 0.8000\n",
      "Epoch 88/150\n",
      "4/4 - 0s - loss: 0.5218 - accuracy: 0.8000\n",
      "Epoch 89/150\n",
      "4/4 - 0s - loss: 0.5181 - accuracy: 0.8000\n",
      "Epoch 90/150\n",
      "4/4 - 0s - loss: 0.5147 - accuracy: 0.8200\n",
      "Epoch 91/150\n",
      "4/4 - 0s - loss: 0.5111 - accuracy: 0.8300\n",
      "Epoch 92/150\n",
      "4/4 - 0s - loss: 0.5076 - accuracy: 0.8300\n",
      "Epoch 93/150\n",
      "4/4 - 0s - loss: 0.5042 - accuracy: 0.8200\n",
      "Epoch 94/150\n",
      "4/4 - 0s - loss: 0.5008 - accuracy: 0.8200\n",
      "Epoch 95/150\n",
      "4/4 - 0s - loss: 0.4977 - accuracy: 0.8200\n",
      "Epoch 96/150\n",
      "4/4 - 0s - loss: 0.4942 - accuracy: 0.8000\n",
      "Epoch 97/150\n",
      "4/4 - 0s - loss: 0.4910 - accuracy: 0.7900\n",
      "Epoch 98/150\n",
      "4/4 - 0s - loss: 0.4878 - accuracy: 0.7900\n",
      "Epoch 99/150\n",
      "4/4 - 0s - loss: 0.4847 - accuracy: 0.8000\n",
      "Epoch 100/150\n",
      "4/4 - 0s - loss: 0.4815 - accuracy: 0.8300\n",
      "Epoch 101/150\n",
      "4/4 - 0s - loss: 0.4782 - accuracy: 0.8400\n",
      "Epoch 102/150\n",
      "4/4 - 0s - loss: 0.4751 - accuracy: 0.8600\n",
      "Epoch 103/150\n",
      "4/4 - 0s - loss: 0.4718 - accuracy: 0.8600\n",
      "Epoch 104/150\n",
      "4/4 - 0s - loss: 0.4688 - accuracy: 0.8500\n",
      "Epoch 105/150\n",
      "4/4 - 0s - loss: 0.4659 - accuracy: 0.8400\n",
      "Epoch 106/150\n",
      "4/4 - 0s - loss: 0.4634 - accuracy: 0.8300\n",
      "Epoch 107/150\n",
      "4/4 - 0s - loss: 0.4603 - accuracy: 0.8500\n",
      "Epoch 108/150\n",
      "4/4 - 0s - loss: 0.4567 - accuracy: 0.8700\n",
      "Epoch 109/150\n",
      "4/4 - 0s - loss: 0.4540 - accuracy: 0.8700\n",
      "Epoch 110/150\n",
      "4/4 - 0s - loss: 0.4516 - accuracy: 0.8700\n",
      "Epoch 111/150\n",
      "4/4 - 0s - loss: 0.4484 - accuracy: 0.8800\n",
      "Epoch 112/150\n",
      "4/4 - 0s - loss: 0.4458 - accuracy: 0.8900\n",
      "Epoch 113/150\n",
      "4/4 - 0s - loss: 0.4431 - accuracy: 0.9000\n",
      "Epoch 114/150\n",
      "4/4 - 0s - loss: 0.4404 - accuracy: 0.9000\n",
      "Epoch 115/150\n",
      "4/4 - 0s - loss: 0.4377 - accuracy: 0.9000\n",
      "Epoch 116/150\n",
      "4/4 - 0s - loss: 0.4351 - accuracy: 0.9000\n",
      "Epoch 117/150\n",
      "4/4 - 0s - loss: 0.4323 - accuracy: 0.9000\n",
      "Epoch 118/150\n",
      "4/4 - 0s - loss: 0.4301 - accuracy: 0.9100\n",
      "Epoch 119/150\n",
      "4/4 - 0s - loss: 0.4274 - accuracy: 0.9100\n",
      "Epoch 120/150\n",
      "4/4 - 0s - loss: 0.4249 - accuracy: 0.9100\n",
      "Epoch 121/150\n",
      "4/4 - 0s - loss: 0.4223 - accuracy: 0.9000\n",
      "Epoch 122/150\n",
      "4/4 - 0s - loss: 0.4201 - accuracy: 0.9000\n",
      "Epoch 123/150\n",
      "4/4 - 0s - loss: 0.4176 - accuracy: 0.9000\n",
      "Epoch 124/150\n",
      "4/4 - 0s - loss: 0.4153 - accuracy: 0.8900\n",
      "Epoch 125/150\n",
      "4/4 - 0s - loss: 0.4125 - accuracy: 0.9000\n",
      "Epoch 126/150\n",
      "4/4 - 0s - loss: 0.4102 - accuracy: 0.9200\n",
      "Epoch 127/150\n",
      "4/4 - 0s - loss: 0.4074 - accuracy: 0.9200\n",
      "Epoch 128/150\n",
      "4/4 - 0s - loss: 0.4050 - accuracy: 0.9200\n",
      "Epoch 129/150\n",
      "4/4 - 0s - loss: 0.4024 - accuracy: 0.9200\n",
      "Epoch 130/150\n",
      "4/4 - 0s - loss: 0.4003 - accuracy: 0.9200\n",
      "Epoch 131/150\n",
      "4/4 - 0s - loss: 0.3977 - accuracy: 0.9200\n",
      "Epoch 132/150\n",
      "4/4 - 0s - loss: 0.3952 - accuracy: 0.9300\n",
      "Epoch 133/150\n",
      "4/4 - 0s - loss: 0.3930 - accuracy: 0.9200\n",
      "Epoch 134/150\n",
      "4/4 - 0s - loss: 0.3905 - accuracy: 0.9200\n",
      "Epoch 135/150\n",
      "4/4 - 0s - loss: 0.3883 - accuracy: 0.9200\n",
      "Epoch 136/150\n",
      "4/4 - 0s - loss: 0.3860 - accuracy: 0.9200\n",
      "Epoch 137/150\n",
      "4/4 - 0s - loss: 0.3838 - accuracy: 0.9200\n",
      "Epoch 138/150\n",
      "4/4 - 0s - loss: 0.3815 - accuracy: 0.9200\n",
      "Epoch 139/150\n",
      "4/4 - 0s - loss: 0.3793 - accuracy: 0.9200\n",
      "Epoch 140/150\n",
      "4/4 - 0s - loss: 0.3771 - accuracy: 0.9200\n",
      "Epoch 141/150\n",
      "4/4 - 0s - loss: 0.3749 - accuracy: 0.9200\n",
      "Epoch 142/150\n",
      "4/4 - 0s - loss: 0.3725 - accuracy: 0.9200\n",
      "Epoch 143/150\n",
      "4/4 - 0s - loss: 0.3696 - accuracy: 0.9200\n",
      "Epoch 144/150\n",
      "4/4 - 0s - loss: 0.3673 - accuracy: 0.9200\n",
      "Epoch 145/150\n",
      "4/4 - 0s - loss: 0.3656 - accuracy: 0.9200\n",
      "Epoch 146/150\n",
      "4/4 - 0s - loss: 0.3642 - accuracy: 0.9200\n",
      "Epoch 147/150\n",
      "4/4 - 0s - loss: 0.3618 - accuracy: 0.9200\n",
      "Epoch 148/150\n",
      "4/4 - 0s - loss: 0.3596 - accuracy: 0.9200\n",
      "Epoch 149/150\n",
      "4/4 - 0s - loss: 0.3577 - accuracy: 0.9200\n",
      "Epoch 150/150\n",
      "4/4 - 0s - loss: 0.3561 - accuracy: 0.9200\n"
     ]
    },
    {
     "output_type": "execute_result",
     "data": {
      "text/plain": [
       "<tensorflow.python.keras.callbacks.History at 0x24ceb787e80>"
      ]
     },
     "metadata": {},
     "execution_count": 21
    }
   ],
   "source": [
    "ann.fit(X_train, y_train, epochs=150, verbose=2)\n",
    "#                                          |_____ Information report back"
   ]
  },
  {
   "cell_type": "code",
   "execution_count": 22,
   "metadata": {},
   "outputs": [],
   "source": [
    "y_pred = np.argmax(ann.predict(X_test), axis=-1)"
   ]
  },
  {
   "cell_type": "code",
   "execution_count": 23,
   "metadata": {},
   "outputs": [
    {
     "output_type": "execute_result",
     "data": {
      "text/plain": [
       "array([1, 0, 2, 1, 2, 0, 1, 2, 2, 1, 2, 0, 0, 0, 0, 1, 2, 1, 1, 2, 0, 2,\n",
       "       0, 2, 2, 2, 2, 2, 0, 0, 0, 0, 1, 0, 0, 2, 1, 0, 0, 0, 2, 1, 1, 0,\n",
       "       0, 1, 2, 2, 1, 2], dtype=int64)"
      ]
     },
     "metadata": {},
     "execution_count": 23
    }
   ],
   "source": [
    "y_pred"
   ]
  },
  {
   "cell_type": "code",
   "execution_count": 24,
   "metadata": {},
   "outputs": [
    {
     "output_type": "execute_result",
     "data": {
      "text/plain": [
       "array([1, 0, 2, 1, 1, 0, 1, 2, 1, 1, 2, 0, 0, 0, 0, 1, 2, 1, 1, 2, 0, 2,\n",
       "       0, 2, 2, 2, 2, 2, 0, 0, 0, 0, 1, 0, 0, 2, 1, 0, 0, 0, 2, 1, 1, 0,\n",
       "       0, 1, 2, 2, 1, 2], dtype=int64)"
      ]
     },
     "metadata": {},
     "execution_count": 24
    }
   ],
   "source": [
    "y_test.argmax(axis=1)"
   ]
  },
  {
   "cell_type": "code",
   "execution_count": 25,
   "metadata": {},
   "outputs": [],
   "source": [
    "from sklearn import metrics"
   ]
  },
  {
   "cell_type": "code",
   "execution_count": 26,
   "metadata": {},
   "outputs": [
    {
     "output_type": "stream",
     "name": "stdout",
     "text": [
      "[[19  0  0]\n [ 0 13  2]\n [ 0  0 16]]\n"
     ]
    }
   ],
   "source": [
    "print(metrics.confusion_matrix(y_test.argmax(axis=1), y_pred))"
   ]
  },
  {
   "cell_type": "code",
   "execution_count": 27,
   "metadata": {},
   "outputs": [
    {
     "output_type": "stream",
     "name": "stdout",
     "text": [
      "              precision    recall  f1-score   support\n\n           0       1.00      1.00      1.00        19\n           1       1.00      0.87      0.93        15\n           2       0.89      1.00      0.94        16\n\n    accuracy                           0.96        50\n   macro avg       0.96      0.96      0.96        50\nweighted avg       0.96      0.96      0.96        50\n\n"
     ]
    }
   ],
   "source": [
    "print(metrics.classification_report(y_test.argmax(axis=1), y_pred))"
   ]
  },
  {
   "cell_type": "code",
   "execution_count": 28,
   "metadata": {},
   "outputs": [
    {
     "output_type": "stream",
     "name": "stdout",
     "text": [
      "0.96\n"
     ]
    }
   ],
   "source": [
    "print(metrics.accuracy_score(y_test.argmax(axis=1), y_pred))"
   ]
  },
  {
   "source": [
    "## Save the model"
   ],
   "cell_type": "markdown",
   "metadata": {}
  },
  {
   "cell_type": "code",
   "execution_count": 29,
   "metadata": {},
   "outputs": [],
   "source": [
    "ann.save(\"ann_model.h5\")"
   ]
  },
  {
   "source": [
    "## Load the model"
   ],
   "cell_type": "markdown",
   "metadata": {}
  },
  {
   "cell_type": "code",
   "execution_count": 30,
   "metadata": {},
   "outputs": [],
   "source": [
    "from tensorflow.keras.models import load_model"
   ]
  },
  {
   "cell_type": "code",
   "execution_count": 31,
   "metadata": {},
   "outputs": [],
   "source": [
    "new_ann = load_model('ann_model.h5')"
   ]
  },
  {
   "cell_type": "code",
   "execution_count": 32,
   "metadata": {},
   "outputs": [],
   "source": [
    "y_pred_new = np.argmax(new_ann.predict(X_test), axis=-1)"
   ]
  },
  {
   "cell_type": "code",
   "execution_count": 33,
   "metadata": {},
   "outputs": [
    {
     "output_type": "stream",
     "name": "stdout",
     "text": [
      "[[19  0  0]\n [ 0 13  2]\n [ 0  0 16]]\n"
     ]
    }
   ],
   "source": [
    "print(metrics.confusion_matrix(y_test.argmax(axis=1), y_pred_new))"
   ]
  }
 ]
}