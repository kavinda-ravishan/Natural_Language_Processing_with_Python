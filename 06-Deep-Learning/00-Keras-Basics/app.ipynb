{
 "metadata": {
  "language_info": {
   "codemirror_mode": {
    "name": "ipython",
    "version": 3
   },
   "file_extension": ".py",
   "mimetype": "text/x-python",
   "name": "python",
   "nbconvert_exporter": "python",
   "pygments_lexer": "ipython3",
   "version": "3.8.5"
  },
  "orig_nbformat": 4,
  "kernelspec": {
   "name": "python3",
   "display_name": "Python 3.8.5 64-bit ('base': conda)"
  },
  "interpreter": {
   "hash": "293c111297a61481508202fcd690d673b0775ece2d2d867b62b8842b676a9a30"
  }
 },
 "nbformat": 4,
 "nbformat_minor": 2,
 "cells": [
  {
   "cell_type": "code",
   "execution_count": 1,
   "metadata": {},
   "outputs": [],
   "source": [
    "import numpy as np"
   ]
  },
  {
   "cell_type": "code",
   "execution_count": 2,
   "metadata": {},
   "outputs": [],
   "source": [
    "from sklearn.datasets import load_iris"
   ]
  },
  {
   "cell_type": "code",
   "execution_count": 3,
   "metadata": {},
   "outputs": [],
   "source": [
    "iris = load_iris()"
   ]
  },
  {
   "cell_type": "code",
   "execution_count": 4,
   "metadata": {},
   "outputs": [
    {
     "output_type": "stream",
     "name": "stdout",
     "text": [
      ".. _iris_dataset:\n\nIris plants dataset\n--------------------\n\n**Data Set Characteristics:**\n\n    :Number of Instances: 150 (50 in each of three classes)\n    :Number of Attributes: 4 numeric, predictive attributes and the class\n    :Attribute Information:\n        - sepal length in cm\n        - sepal width in cm\n        - petal length in cm\n        - petal width in cm\n        - class:\n                - Iris-Setosa\n                - Iris-Versicolour\n                - Iris-Virginica\n                \n    :Summary Statistics:\n\n    ============== ==== ==== ======= ===== ====================\n                    Min  Max   Mean    SD   Class Correlation\n    ============== ==== ==== ======= ===== ====================\n    sepal length:   4.3  7.9   5.84   0.83    0.7826\n    sepal width:    2.0  4.4   3.05   0.43   -0.4194\n    petal length:   1.0  6.9   3.76   1.76    0.9490  (high!)\n    petal width:    0.1  2.5   1.20   0.76    0.9565  (high!)\n    ============== ==== ==== ======= ===== ====================\n\n    :Missing Attribute Values: None\n    :Class Distribution: 33.3% for each of 3 classes.\n    :Creator: R.A. Fisher\n    :Donor: Michael Marshall (MARSHALL%PLU@io.arc.nasa.gov)\n    :Date: July, 1988\n\nThe famous Iris database, first used by Sir R.A. Fisher. The dataset is taken\nfrom Fisher's paper. Note that it's the same as in R, but not as in the UCI\nMachine Learning Repository, which has two wrong data points.\n\nThis is perhaps the best known database to be found in the\npattern recognition literature.  Fisher's paper is a classic in the field and\nis referenced frequently to this day.  (See Duda & Hart, for example.)  The\ndata set contains 3 classes of 50 instances each, where each class refers to a\ntype of iris plant.  One class is linearly separable from the other 2; the\nlatter are NOT linearly separable from each other.\n\n.. topic:: References\n\n   - Fisher, R.A. \"The use of multiple measurements in taxonomic problems\"\n     Annual Eugenics, 7, Part II, 179-188 (1936); also in \"Contributions to\n     Mathematical Statistics\" (John Wiley, NY, 1950).\n   - Duda, R.O., & Hart, P.E. (1973) Pattern Classification and Scene Analysis.\n     (Q327.D83) John Wiley & Sons.  ISBN 0-471-22361-1.  See page 218.\n   - Dasarathy, B.V. (1980) \"Nosing Around the Neighborhood: A New System\n     Structure and Classification Rule for Recognition in Partially Exposed\n     Environments\".  IEEE Transactions on Pattern Analysis and Machine\n     Intelligence, Vol. PAMI-2, No. 1, 67-71.\n   - Gates, G.W. (1972) \"The Reduced Nearest Neighbor Rule\".  IEEE Transactions\n     on Information Theory, May 1972, 431-433.\n   - See also: 1988 MLC Proceedings, 54-64.  Cheeseman et al\"s AUTOCLASS II\n     conceptual clustering system finds 3 classes in the data.\n   - Many, many more ...\n"
     ]
    }
   ],
   "source": [
    "print(iris.DESCR)"
   ]
  },
  {
   "cell_type": "code",
   "execution_count": 5,
   "metadata": {},
   "outputs": [],
   "source": [
    "X = iris.data"
   ]
  },
  {
   "cell_type": "code",
   "execution_count": 6,
   "metadata": {},
   "outputs": [
    {
     "output_type": "execute_result",
     "data": {
      "text/plain": [
       "(150, 4)"
      ]
     },
     "metadata": {},
     "execution_count": 6
    }
   ],
   "source": [
    "X.shape"
   ]
  },
  {
   "cell_type": "code",
   "execution_count": 7,
   "metadata": {},
   "outputs": [],
   "source": [
    "y = iris.target"
   ]
  },
  {
   "cell_type": "code",
   "execution_count": 8,
   "metadata": {},
   "outputs": [
    {
     "output_type": "execute_result",
     "data": {
      "text/plain": [
       "array([0, 0, 0, 0, 0, 0, 0, 0, 0, 0, 0, 0, 0, 0, 0, 0, 0, 0, 0, 0, 0, 0,\n",
       "       0, 0, 0, 0, 0, 0, 0, 0, 0, 0, 0, 0, 0, 0, 0, 0, 0, 0, 0, 0, 0, 0,\n",
       "       0, 0, 0, 0, 0, 0, 1, 1, 1, 1, 1, 1, 1, 1, 1, 1, 1, 1, 1, 1, 1, 1,\n",
       "       1, 1, 1, 1, 1, 1, 1, 1, 1, 1, 1, 1, 1, 1, 1, 1, 1, 1, 1, 1, 1, 1,\n",
       "       1, 1, 1, 1, 1, 1, 1, 1, 1, 1, 1, 1, 2, 2, 2, 2, 2, 2, 2, 2, 2, 2,\n",
       "       2, 2, 2, 2, 2, 2, 2, 2, 2, 2, 2, 2, 2, 2, 2, 2, 2, 2, 2, 2, 2, 2,\n",
       "       2, 2, 2, 2, 2, 2, 2, 2, 2, 2, 2, 2, 2, 2, 2, 2, 2, 2])"
      ]
     },
     "metadata": {},
     "execution_count": 8
    }
   ],
   "source": [
    "y"
   ]
  },
  {
   "cell_type": "code",
   "execution_count": 9,
   "metadata": {},
   "outputs": [],
   "source": [
    "from keras.utils.np_utils import to_categorical\n",
    "y = to_categorical(y)"
   ]
  },
  {
   "cell_type": "code",
   "execution_count": 10,
   "metadata": {},
   "outputs": [
    {
     "output_type": "execute_result",
     "data": {
      "text/plain": [
       "(150, 3)"
      ]
     },
     "metadata": {},
     "execution_count": 10
    }
   ],
   "source": [
    "y.shape"
   ]
  },
  {
   "cell_type": "code",
   "execution_count": 11,
   "metadata": {},
   "outputs": [],
   "source": [
    "from sklearn.model_selection import train_test_split"
   ]
  },
  {
   "cell_type": "code",
   "execution_count": 12,
   "metadata": {},
   "outputs": [],
   "source": [
    "X_train, X_test, y_train, y_test = train_test_split(X, y, test_size = 0.33, random_state = 42)"
   ]
  },
  {
   "cell_type": "code",
   "execution_count": 13,
   "metadata": {},
   "outputs": [],
   "source": [
    "from sklearn.preprocessing import MinMaxScaler"
   ]
  },
  {
   "cell_type": "code",
   "execution_count": 14,
   "metadata": {},
   "outputs": [],
   "source": [
    "sc = MinMaxScaler().fit(X_train)"
   ]
  },
  {
   "cell_type": "code",
   "execution_count": 15,
   "metadata": {},
   "outputs": [],
   "source": [
    "X_train = sc.transform(X_train)\n",
    "X_test = sc.transform(X_test)"
   ]
  },
  {
   "cell_type": "code",
   "execution_count": 16,
   "metadata": {},
   "outputs": [],
   "source": [
    "import tensorflow as tf"
   ]
  },
  {
   "cell_type": "code",
   "execution_count": 17,
   "metadata": {},
   "outputs": [],
   "source": [
    "ann = tf.keras.Sequential()"
   ]
  },
  {
   "cell_type": "code",
   "execution_count": 18,
   "metadata": {},
   "outputs": [],
   "source": [
    "ann.add(tf.keras.layers.Dense(8, activation='relu'))\n",
    "ann.add(tf.keras.layers.Dense(8, activation='relu'))\n",
    "ann.add(tf.keras.layers.Dense(3, activation='softmax'))"
   ]
  },
  {
   "cell_type": "code",
   "execution_count": 19,
   "metadata": {},
   "outputs": [],
   "source": [
    "ann.compile(loss='categorical_crossentropy', optimizer='adam', metrics=['accuracy'])"
   ]
  },
  {
   "cell_type": "code",
   "execution_count": 20,
   "metadata": {},
   "outputs": [
    {
     "output_type": "stream",
     "name": "stdout",
     "text": [
      "Epoch 1/150\n",
      "4/4 - 1s - loss: 1.0791 - accuracy: 0.3400\n",
      "Epoch 2/150\n",
      "4/4 - 0s - loss: 1.0745 - accuracy: 0.3400\n",
      "Epoch 3/150\n",
      "4/4 - 0s - loss: 1.0705 - accuracy: 0.3400\n",
      "Epoch 4/150\n",
      "4/4 - 0s - loss: 1.0666 - accuracy: 0.3400\n",
      "Epoch 5/150\n",
      "4/4 - 0s - loss: 1.0633 - accuracy: 0.3400\n",
      "Epoch 6/150\n",
      "4/4 - 0s - loss: 1.0594 - accuracy: 0.3400\n",
      "Epoch 7/150\n",
      "4/4 - 0s - loss: 1.0560 - accuracy: 0.3400\n",
      "Epoch 8/150\n",
      "4/4 - 0s - loss: 1.0527 - accuracy: 0.3400\n",
      "Epoch 9/150\n",
      "4/4 - 0s - loss: 1.0497 - accuracy: 0.3400\n",
      "Epoch 10/150\n",
      "4/4 - 0s - loss: 1.0465 - accuracy: 0.3400\n",
      "Epoch 11/150\n",
      "4/4 - 0s - loss: 1.0431 - accuracy: 0.3400\n",
      "Epoch 12/150\n",
      "4/4 - 0s - loss: 1.0396 - accuracy: 0.3400\n",
      "Epoch 13/150\n",
      "4/4 - 0s - loss: 1.0356 - accuracy: 0.3400\n",
      "Epoch 14/150\n",
      "4/4 - 0s - loss: 1.0313 - accuracy: 0.3400\n",
      "Epoch 15/150\n",
      "4/4 - 0s - loss: 1.0263 - accuracy: 0.3400\n",
      "Epoch 16/150\n",
      "4/4 - 0s - loss: 1.0217 - accuracy: 0.3400\n",
      "Epoch 17/150\n",
      "4/4 - 0s - loss: 1.0162 - accuracy: 0.3400\n",
      "Epoch 18/150\n",
      "4/4 - 0s - loss: 1.0109 - accuracy: 0.3400\n",
      "Epoch 19/150\n",
      "4/4 - 0s - loss: 1.0053 - accuracy: 0.3400\n",
      "Epoch 20/150\n",
      "4/4 - 0s - loss: 0.9999 - accuracy: 0.3600\n",
      "Epoch 21/150\n",
      "4/4 - 0s - loss: 0.9948 - accuracy: 0.3800\n",
      "Epoch 22/150\n",
      "4/4 - 0s - loss: 0.9894 - accuracy: 0.3900\n",
      "Epoch 23/150\n",
      "4/4 - 0s - loss: 0.9840 - accuracy: 0.4200\n",
      "Epoch 24/150\n",
      "4/4 - 0s - loss: 0.9785 - accuracy: 0.4300\n",
      "Epoch 25/150\n",
      "4/4 - 0s - loss: 0.9726 - accuracy: 0.4600\n",
      "Epoch 26/150\n",
      "4/4 - 0s - loss: 0.9663 - accuracy: 0.4900\n",
      "Epoch 27/150\n",
      "4/4 - 0s - loss: 0.9600 - accuracy: 0.5000\n",
      "Epoch 28/150\n",
      "4/4 - 0s - loss: 0.9535 - accuracy: 0.5100\n",
      "Epoch 29/150\n",
      "4/4 - 0s - loss: 0.9478 - accuracy: 0.5100\n",
      "Epoch 30/150\n",
      "4/4 - 0s - loss: 0.9413 - accuracy: 0.5300\n",
      "Epoch 31/150\n",
      "4/4 - 0s - loss: 0.9348 - accuracy: 0.5500\n",
      "Epoch 32/150\n",
      "4/4 - 0s - loss: 0.9281 - accuracy: 0.5700\n",
      "Epoch 33/150\n",
      "4/4 - 0s - loss: 0.9211 - accuracy: 0.6000\n",
      "Epoch 34/150\n",
      "4/4 - 0s - loss: 0.9140 - accuracy: 0.6000\n",
      "Epoch 35/150\n",
      "4/4 - 0s - loss: 0.9071 - accuracy: 0.6300\n",
      "Epoch 36/150\n",
      "4/4 - 0s - loss: 0.9002 - accuracy: 0.6400\n",
      "Epoch 37/150\n",
      "4/4 - 0s - loss: 0.8926 - accuracy: 0.6500\n",
      "Epoch 38/150\n",
      "4/4 - 0s - loss: 0.8853 - accuracy: 0.6500\n",
      "Epoch 39/150\n",
      "4/4 - 0s - loss: 0.8777 - accuracy: 0.6500\n",
      "Epoch 40/150\n",
      "4/4 - 0s - loss: 0.8703 - accuracy: 0.6500\n",
      "Epoch 41/150\n",
      "4/4 - 0s - loss: 0.8626 - accuracy: 0.6500\n",
      "Epoch 42/150\n",
      "4/4 - 0s - loss: 0.8553 - accuracy: 0.6500\n",
      "Epoch 43/150\n",
      "4/4 - 0s - loss: 0.8476 - accuracy: 0.6500\n",
      "Epoch 44/150\n",
      "4/4 - 0s - loss: 0.8398 - accuracy: 0.6500\n",
      "Epoch 45/150\n",
      "4/4 - 0s - loss: 0.8318 - accuracy: 0.6500\n",
      "Epoch 46/150\n",
      "4/4 - 0s - loss: 0.8230 - accuracy: 0.6500\n",
      "Epoch 47/150\n",
      "4/4 - 0s - loss: 0.8145 - accuracy: 0.6500\n",
      "Epoch 48/150\n",
      "4/4 - 0s - loss: 0.8058 - accuracy: 0.6500\n",
      "Epoch 49/150\n",
      "4/4 - 0s - loss: 0.7971 - accuracy: 0.6500\n",
      "Epoch 50/150\n",
      "4/4 - 0s - loss: 0.7887 - accuracy: 0.6500\n",
      "Epoch 51/150\n",
      "4/4 - 0s - loss: 0.7800 - accuracy: 0.6500\n",
      "Epoch 52/150\n",
      "4/4 - 0s - loss: 0.7711 - accuracy: 0.6500\n",
      "Epoch 53/150\n",
      "4/4 - 0s - loss: 0.7622 - accuracy: 0.6500\n",
      "Epoch 54/150\n",
      "4/4 - 0s - loss: 0.7534 - accuracy: 0.6500\n",
      "Epoch 55/150\n",
      "4/4 - 0s - loss: 0.7449 - accuracy: 0.6500\n",
      "Epoch 56/150\n",
      "4/4 - 0s - loss: 0.7353 - accuracy: 0.6500\n",
      "Epoch 57/150\n",
      "4/4 - 0s - loss: 0.7264 - accuracy: 0.6500\n",
      "Epoch 58/150\n",
      "4/4 - 0s - loss: 0.7179 - accuracy: 0.6500\n",
      "Epoch 59/150\n",
      "4/4 - 0s - loss: 0.7095 - accuracy: 0.6500\n",
      "Epoch 60/150\n",
      "4/4 - 0s - loss: 0.7004 - accuracy: 0.6500\n",
      "Epoch 61/150\n",
      "4/4 - 0s - loss: 0.6921 - accuracy: 0.6500\n",
      "Epoch 62/150\n",
      "4/4 - 0s - loss: 0.6837 - accuracy: 0.6500\n",
      "Epoch 63/150\n",
      "4/4 - 0s - loss: 0.6750 - accuracy: 0.6500\n",
      "Epoch 64/150\n",
      "4/4 - 0s - loss: 0.6670 - accuracy: 0.6500\n",
      "Epoch 65/150\n",
      "4/4 - 0s - loss: 0.6589 - accuracy: 0.6500\n",
      "Epoch 66/150\n",
      "4/4 - 0s - loss: 0.6509 - accuracy: 0.6500\n",
      "Epoch 67/150\n",
      "4/4 - 0s - loss: 0.6436 - accuracy: 0.6500\n",
      "Epoch 68/150\n",
      "4/4 - 0s - loss: 0.6353 - accuracy: 0.6500\n",
      "Epoch 69/150\n",
      "4/4 - 0s - loss: 0.6279 - accuracy: 0.6500\n",
      "Epoch 70/150\n",
      "4/4 - 0s - loss: 0.6206 - accuracy: 0.6500\n",
      "Epoch 71/150\n",
      "4/4 - 0s - loss: 0.6132 - accuracy: 0.6500\n",
      "Epoch 72/150\n",
      "4/4 - 0s - loss: 0.6061 - accuracy: 0.6500\n",
      "Epoch 73/150\n",
      "4/4 - 0s - loss: 0.5996 - accuracy: 0.6500\n",
      "Epoch 74/150\n",
      "4/4 - 0s - loss: 0.5929 - accuracy: 0.6500\n",
      "Epoch 75/150\n",
      "4/4 - 0s - loss: 0.5875 - accuracy: 0.6500\n",
      "Epoch 76/150\n",
      "4/4 - 0s - loss: 0.5808 - accuracy: 0.6500\n",
      "Epoch 77/150\n",
      "4/4 - 0s - loss: 0.5750 - accuracy: 0.6500\n",
      "Epoch 78/150\n",
      "4/4 - 0s - loss: 0.5695 - accuracy: 0.6500\n",
      "Epoch 79/150\n",
      "4/4 - 0s - loss: 0.5639 - accuracy: 0.6500\n",
      "Epoch 80/150\n",
      "4/4 - 0s - loss: 0.5586 - accuracy: 0.6500\n",
      "Epoch 81/150\n",
      "4/4 - 0s - loss: 0.5536 - accuracy: 0.6500\n",
      "Epoch 82/150\n",
      "4/4 - 0s - loss: 0.5486 - accuracy: 0.6500\n",
      "Epoch 83/150\n",
      "4/4 - 0s - loss: 0.5440 - accuracy: 0.6600\n",
      "Epoch 84/150\n",
      "4/4 - 0s - loss: 0.5392 - accuracy: 0.6700\n",
      "Epoch 85/150\n",
      "4/4 - 0s - loss: 0.5349 - accuracy: 0.6700\n",
      "Epoch 86/150\n",
      "4/4 - 0s - loss: 0.5305 - accuracy: 0.6700\n",
      "Epoch 87/150\n",
      "4/4 - 0s - loss: 0.5264 - accuracy: 0.6700\n",
      "Epoch 88/150\n",
      "4/4 - 0s - loss: 0.5224 - accuracy: 0.6800\n",
      "Epoch 89/150\n",
      "4/4 - 0s - loss: 0.5185 - accuracy: 0.6800\n",
      "Epoch 90/150\n",
      "4/4 - 0s - loss: 0.5147 - accuracy: 0.6800\n",
      "Epoch 91/150\n",
      "4/4 - 0s - loss: 0.5115 - accuracy: 0.6800\n",
      "Epoch 92/150\n",
      "4/4 - 0s - loss: 0.5075 - accuracy: 0.6800\n",
      "Epoch 93/150\n",
      "4/4 - 0s - loss: 0.5039 - accuracy: 0.6800\n",
      "Epoch 94/150\n",
      "4/4 - 0s - loss: 0.5009 - accuracy: 0.7000\n",
      "Epoch 95/150\n",
      "4/4 - 0s - loss: 0.4980 - accuracy: 0.7100\n",
      "Epoch 96/150\n",
      "4/4 - 0s - loss: 0.4947 - accuracy: 0.7300\n",
      "Epoch 97/150\n",
      "4/4 - 0s - loss: 0.4919 - accuracy: 0.7400\n",
      "Epoch 98/150\n",
      "4/4 - 0s - loss: 0.4891 - accuracy: 0.7400\n",
      "Epoch 99/150\n",
      "4/4 - 0s - loss: 0.4865 - accuracy: 0.7500\n",
      "Epoch 100/150\n",
      "4/4 - 0s - loss: 0.4842 - accuracy: 0.7700\n",
      "Epoch 101/150\n",
      "4/4 - 0s - loss: 0.4816 - accuracy: 0.8000\n",
      "Epoch 102/150\n",
      "4/4 - 0s - loss: 0.4793 - accuracy: 0.8100\n",
      "Epoch 103/150\n",
      "4/4 - 0s - loss: 0.4766 - accuracy: 0.8100\n",
      "Epoch 104/150\n",
      "4/4 - 0s - loss: 0.4739 - accuracy: 0.8100\n",
      "Epoch 105/150\n",
      "4/4 - 0s - loss: 0.4712 - accuracy: 0.8000\n",
      "Epoch 106/150\n",
      "4/4 - 0s - loss: 0.4689 - accuracy: 0.7900\n",
      "Epoch 107/150\n",
      "4/4 - 0s - loss: 0.4665 - accuracy: 0.7800\n",
      "Epoch 108/150\n",
      "4/4 - 0s - loss: 0.4639 - accuracy: 0.7800\n",
      "Epoch 109/150\n",
      "4/4 - 0s - loss: 0.4615 - accuracy: 0.7800\n",
      "Epoch 110/150\n",
      "4/4 - 0s - loss: 0.4591 - accuracy: 0.7800\n",
      "Epoch 111/150\n",
      "4/4 - 0s - loss: 0.4571 - accuracy: 0.7600\n",
      "Epoch 112/150\n",
      "4/4 - 0s - loss: 0.4555 - accuracy: 0.7500\n",
      "Epoch 113/150\n",
      "4/4 - 0s - loss: 0.4538 - accuracy: 0.7500\n",
      "Epoch 114/150\n",
      "4/4 - 0s - loss: 0.4513 - accuracy: 0.7600\n",
      "Epoch 115/150\n",
      "4/4 - 0s - loss: 0.4493 - accuracy: 0.7800\n",
      "Epoch 116/150\n",
      "4/4 - 0s - loss: 0.4475 - accuracy: 0.7800\n",
      "Epoch 117/150\n",
      "4/4 - 0s - loss: 0.4457 - accuracy: 0.7900\n",
      "Epoch 118/150\n",
      "4/4 - 0s - loss: 0.4438 - accuracy: 0.7900\n",
      "Epoch 119/150\n",
      "4/4 - 0s - loss: 0.4420 - accuracy: 0.8200\n",
      "Epoch 120/150\n",
      "4/4 - 0s - loss: 0.4408 - accuracy: 0.8300\n",
      "Epoch 121/150\n",
      "4/4 - 0s - loss: 0.4387 - accuracy: 0.8300\n",
      "Epoch 122/150\n",
      "4/4 - 0s - loss: 0.4369 - accuracy: 0.8300\n",
      "Epoch 123/150\n",
      "4/4 - 0s - loss: 0.4351 - accuracy: 0.8300\n",
      "Epoch 124/150\n",
      "4/4 - 0s - loss: 0.4335 - accuracy: 0.8400\n",
      "Epoch 125/150\n",
      "4/4 - 0s - loss: 0.4320 - accuracy: 0.8600\n",
      "Epoch 126/150\n",
      "4/4 - 0s - loss: 0.4303 - accuracy: 0.8700\n",
      "Epoch 127/150\n",
      "4/4 - 0s - loss: 0.4291 - accuracy: 0.8700\n",
      "Epoch 128/150\n",
      "4/4 - 0s - loss: 0.4280 - accuracy: 0.8800\n",
      "Epoch 129/150\n",
      "4/4 - 0s - loss: 0.4259 - accuracy: 0.8800\n",
      "Epoch 130/150\n",
      "4/4 - 0s - loss: 0.4238 - accuracy: 0.8700\n",
      "Epoch 131/150\n",
      "4/4 - 0s - loss: 0.4221 - accuracy: 0.8700\n",
      "Epoch 132/150\n",
      "4/4 - 0s - loss: 0.4205 - accuracy: 0.8700\n",
      "Epoch 133/150\n",
      "4/4 - 0s - loss: 0.4192 - accuracy: 0.8700\n",
      "Epoch 134/150\n",
      "4/4 - 0s - loss: 0.4180 - accuracy: 0.8900\n",
      "Epoch 135/150\n",
      "4/4 - 0s - loss: 0.4168 - accuracy: 0.9000\n",
      "Epoch 136/150\n",
      "4/4 - 0s - loss: 0.4157 - accuracy: 0.9000\n",
      "Epoch 137/150\n",
      "4/4 - 0s - loss: 0.4141 - accuracy: 0.9000\n",
      "Epoch 138/150\n",
      "4/4 - 0s - loss: 0.4121 - accuracy: 0.9000\n",
      "Epoch 139/150\n",
      "4/4 - 0s - loss: 0.4095 - accuracy: 0.8900\n",
      "Epoch 140/150\n",
      "4/4 - 0s - loss: 0.4081 - accuracy: 0.8700\n",
      "Epoch 141/150\n",
      "4/4 - 0s - loss: 0.4067 - accuracy: 0.8700\n",
      "Epoch 142/150\n",
      "4/4 - 0s - loss: 0.4049 - accuracy: 0.8700\n",
      "Epoch 143/150\n",
      "4/4 - 0s - loss: 0.4032 - accuracy: 0.8700\n",
      "Epoch 144/150\n",
      "4/4 - 0s - loss: 0.4019 - accuracy: 0.8700\n",
      "Epoch 145/150\n",
      "4/4 - 0s - loss: 0.4003 - accuracy: 0.8700\n",
      "Epoch 146/150\n",
      "4/4 - 0s - loss: 0.3989 - accuracy: 0.8700\n",
      "Epoch 147/150\n",
      "4/4 - 0s - loss: 0.3973 - accuracy: 0.8900\n",
      "Epoch 148/150\n",
      "4/4 - 0s - loss: 0.3955 - accuracy: 0.8900\n",
      "Epoch 149/150\n",
      "4/4 - 0s - loss: 0.3938 - accuracy: 0.8900\n",
      "Epoch 150/150\n",
      "4/4 - 0s - loss: 0.3928 - accuracy: 0.9000\n"
     ]
    },
    {
     "output_type": "execute_result",
     "data": {
      "text/plain": [
       "<tensorflow.python.keras.callbacks.History at 0x1cef1289670>"
      ]
     },
     "metadata": {},
     "execution_count": 20
    }
   ],
   "source": [
    "ann.fit(X_train, y_train, epochs=150, verbose=2)\n",
    "#                                          |_____ Information report back"
   ]
  },
  {
   "cell_type": "code",
   "execution_count": 21,
   "metadata": {},
   "outputs": [],
   "source": [
    "y_pred = np.argmax(ann.predict(X_test), axis=-1)"
   ]
  },
  {
   "cell_type": "code",
   "execution_count": 22,
   "metadata": {},
   "outputs": [
    {
     "output_type": "execute_result",
     "data": {
      "text/plain": [
       "array([1, 0, 2, 1, 2, 0, 1, 2, 2, 1, 2, 0, 0, 0, 0, 1, 2, 1, 1, 2, 0, 2,\n",
       "       0, 2, 2, 2, 2, 2, 0, 0, 0, 0, 1, 0, 0, 2, 1, 0, 0, 0, 2, 1, 2, 0,\n",
       "       0, 1, 2, 2, 2, 2], dtype=int64)"
      ]
     },
     "metadata": {},
     "execution_count": 22
    }
   ],
   "source": [
    "y_pred"
   ]
  },
  {
   "cell_type": "code",
   "execution_count": 23,
   "metadata": {},
   "outputs": [
    {
     "output_type": "execute_result",
     "data": {
      "text/plain": [
       "array([1, 0, 2, 1, 1, 0, 1, 2, 1, 1, 2, 0, 0, 0, 0, 1, 2, 1, 1, 2, 0, 2,\n",
       "       0, 2, 2, 2, 2, 2, 0, 0, 0, 0, 1, 0, 0, 2, 1, 0, 0, 0, 2, 1, 1, 0,\n",
       "       0, 1, 2, 2, 1, 2], dtype=int64)"
      ]
     },
     "metadata": {},
     "execution_count": 23
    }
   ],
   "source": [
    "y_test.argmax(axis=1)"
   ]
  },
  {
   "cell_type": "code",
   "execution_count": 24,
   "metadata": {},
   "outputs": [],
   "source": [
    "from sklearn import metrics"
   ]
  },
  {
   "cell_type": "code",
   "execution_count": 25,
   "metadata": {},
   "outputs": [
    {
     "output_type": "stream",
     "name": "stdout",
     "text": [
      "[[19  0  0]\n [ 0 11  4]\n [ 0  0 16]]\n"
     ]
    }
   ],
   "source": [
    "print(metrics.confusion_matrix(y_test.argmax(axis=1), y_pred))"
   ]
  },
  {
   "cell_type": "code",
   "execution_count": 26,
   "metadata": {},
   "outputs": [
    {
     "output_type": "stream",
     "name": "stdout",
     "text": [
      "              precision    recall  f1-score   support\n\n           0       1.00      1.00      1.00        19\n           1       1.00      0.73      0.85        15\n           2       0.80      1.00      0.89        16\n\n    accuracy                           0.92        50\n   macro avg       0.93      0.91      0.91        50\nweighted avg       0.94      0.92      0.92        50\n\n"
     ]
    }
   ],
   "source": [
    "print(metrics.classification_report(y_test.argmax(axis=1), y_pred))"
   ]
  },
  {
   "cell_type": "code",
   "execution_count": 27,
   "metadata": {},
   "outputs": [
    {
     "output_type": "stream",
     "name": "stdout",
     "text": [
      "0.92\n"
     ]
    }
   ],
   "source": [
    "print(metrics.accuracy_score(y_test.argmax(axis=1), y_pred))"
   ]
  },
  {
   "source": [
    "## Save the model"
   ],
   "cell_type": "markdown",
   "metadata": {}
  },
  {
   "cell_type": "code",
   "execution_count": 28,
   "metadata": {},
   "outputs": [],
   "source": [
    "ann.save(\"ann_model.h5\")"
   ]
  },
  {
   "source": [
    "## Load the model"
   ],
   "cell_type": "markdown",
   "metadata": {}
  },
  {
   "cell_type": "code",
   "execution_count": 29,
   "metadata": {},
   "outputs": [],
   "source": [
    "from tensorflow.keras.models import load_model"
   ]
  },
  {
   "cell_type": "code",
   "execution_count": 30,
   "metadata": {},
   "outputs": [],
   "source": [
    "new_ann = load_model('ann_model.h5')"
   ]
  },
  {
   "cell_type": "code",
   "execution_count": 31,
   "metadata": {},
   "outputs": [],
   "source": [
    "y_pred_new = np.argmax(new_ann.predict(X_test), axis=-1)"
   ]
  },
  {
   "cell_type": "code",
   "execution_count": 32,
   "metadata": {},
   "outputs": [
    {
     "output_type": "stream",
     "name": "stdout",
     "text": [
      "[[19  0  0]\n [ 0 11  4]\n [ 0  0 16]]\n"
     ]
    }
   ],
   "source": [
    "print(metrics.confusion_matrix(y_test.argmax(axis=1), y_pred_new))"
   ]
  }
 ]
}