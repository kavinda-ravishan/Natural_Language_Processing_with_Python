{
 "metadata": {
  "language_info": {
   "codemirror_mode": {
    "name": "ipython",
    "version": 3
   },
   "file_extension": ".py",
   "mimetype": "text/x-python",
   "name": "python",
   "nbconvert_exporter": "python",
   "pygments_lexer": "ipython3",
   "version": "3.8.5"
  },
  "orig_nbformat": 4,
  "kernelspec": {
   "name": "python3",
   "display_name": "Python 3.8.5 64-bit ('base': conda)"
  },
  "interpreter": {
   "hash": "293c111297a61481508202fcd690d673b0775ece2d2d867b62b8842b676a9a30"
  }
 },
 "nbformat": 4,
 "nbformat_minor": 2,
 "cells": [
  {
   "source": [
    "# Rules based matching"
   ],
   "cell_type": "markdown",
   "metadata": {}
  },
  {
   "cell_type": "code",
   "execution_count": 1,
   "metadata": {},
   "outputs": [],
   "source": [
    "import spacy\n",
    "nlp = spacy.load(\"en_core_web_sm\")"
   ]
  },
  {
   "cell_type": "code",
   "execution_count": 2,
   "metadata": {},
   "outputs": [],
   "source": [
    "from spacy.matcher import Matcher"
   ]
  },
  {
   "cell_type": "code",
   "execution_count": 3,
   "metadata": {},
   "outputs": [],
   "source": [
    "matcher = Matcher(nlp.vocab)"
   ]
  },
  {
   "cell_type": "code",
   "execution_count": 4,
   "metadata": {},
   "outputs": [],
   "source": [
    "pattern1 = [{\"LOWER\": \"solarpower\"}] # SolarPower\n",
    "pattern2 = [{\"LOWER\": \"solar\"}, {\"IS_PUNCT\": True}, {\"LOWER\": \"power\"}] # Solar-power (any punctuation mark between solar and power)\n",
    "pattern3 = [{\"LOWER\": \"solar\"}, {\"LOWER\": \"power\"}] # Solar power"
   ]
  },
  {
   "source": [
    "## Add  Matcher"
   ],
   "cell_type": "markdown",
   "metadata": {}
  },
  {
   "cell_type": "code",
   "execution_count": 5,
   "metadata": {},
   "outputs": [],
   "source": [
    "matcher.add(\"SolarPower\", [pattern1, pattern2, pattern3])\n",
    "#               |             |__________|________|__________ Patterns\n",
    "#               |_____________________________________________ Matcher name (anything)"
   ]
  },
  {
   "cell_type": "code",
   "execution_count": 6,
   "metadata": {},
   "outputs": [],
   "source": [
    "doc = nlp(u'The Solar Power industry continues to grow as demand \\\n",
    "for solarpower increases. (SolaR:pOwEr) Solar-power cars are gaining popularity.')"
   ]
  },
  {
   "cell_type": "code",
   "execution_count": 7,
   "metadata": {},
   "outputs": [],
   "source": [
    "found_matches = matcher(doc)"
   ]
  },
  {
   "cell_type": "code",
   "execution_count": 8,
   "metadata": {},
   "outputs": [
    {
     "output_type": "stream",
     "name": "stdout",
     "text": [
      "[(8656102463236116519, 1, 3), (8656102463236116519, 10, 11), (8656102463236116519, 14, 17), (8656102463236116519, 18, 21)]\n"
     ]
    }
   ],
   "source": [
    "print(found_matches)"
   ]
  },
  {
   "cell_type": "code",
   "execution_count": 9,
   "metadata": {},
   "outputs": [],
   "source": [
    "# (8656102463236116519, 1, 3)\n",
    "#             |         |  |_ End token (exclude 3)\n",
    "#             |         |____ Start token (each words in text have token start from 0 ['The' have token 0])\n",
    "#             |______________ Match ID"
   ]
  },
  {
   "cell_type": "code",
   "execution_count": 10,
   "metadata": {},
   "outputs": [
    {
     "output_type": "stream",
     "name": "stdout",
     "text": [
      "8656102463236116519       SolarPower               1          3 \t Solar Power\n8656102463236116519       SolarPower              10         11 \t solarpower\n8656102463236116519       SolarPower              14         17 \t SolaR:pOwEr\n8656102463236116519       SolarPower              18         21 \t Solar-power\n"
     ]
    }
   ],
   "source": [
    "for match_id, start, end in found_matches:\n",
    "    string_id = nlp.vocab.strings[match_id]  # get string representation\n",
    "    span = doc[start:end]                    # get the matched span\n",
    "    print(f\"{match_id:<{25}} {string_id:{15}} {start:{10}} {end:{10}} \\t {span.text}\")"
   ]
  },
  {
   "source": [
    "## Remove matcher"
   ],
   "cell_type": "markdown",
   "metadata": {}
  },
  {
   "cell_type": "code",
   "execution_count": 11,
   "metadata": {},
   "outputs": [],
   "source": [
    "matcher.remove(\"SolarPower\")"
   ]
  },
  {
   "source": [
    "### Add new"
   ],
   "cell_type": "markdown",
   "metadata": {}
  },
  {
   "cell_type": "code",
   "execution_count": 12,
   "metadata": {},
   "outputs": [],
   "source": [
    "# * : Allow the pattern to match zero or more times\n",
    "patterns = [\n",
    "    [{\"LOWER\": \"solar\"}, {\"IS_PUNCT\": True, \"OP\": '*'}, {\"LOWER\": \"power\"}] # Solar-power, Solar--power ...\n",
    "    ]\n",
    "matcher.add(\"SolarPower\", patterns)"
   ]
  },
  {
   "cell_type": "code",
   "execution_count": 13,
   "metadata": {},
   "outputs": [],
   "source": [
    "doc2 = nlp(u'Solar--power is solar-power or solarpower.')"
   ]
  },
  {
   "cell_type": "code",
   "execution_count": 14,
   "metadata": {},
   "outputs": [],
   "source": [
    "found_matches = matcher(doc2)"
   ]
  },
  {
   "cell_type": "code",
   "execution_count": 15,
   "metadata": {},
   "outputs": [
    {
     "output_type": "stream",
     "name": "stdout",
     "text": [
      "[(8656102463236116519, 0, 3), (8656102463236116519, 4, 7)]\n"
     ]
    }
   ],
   "source": [
    "print(found_matches)"
   ]
  },
  {
   "cell_type": "code",
   "execution_count": 16,
   "metadata": {},
   "outputs": [
    {
     "output_type": "stream",
     "name": "stdout",
     "text": [
      "8656102463236116519       SolarPower               0          3 \t Solar--power\n8656102463236116519       SolarPower               4          7 \t solar-power\n"
     ]
    }
   ],
   "source": [
    "for match_id, start, end in found_matches:\n",
    "    string_id = nlp.vocab.strings[match_id]  # get string representation\n",
    "    span = doc2[start:end]                    # get the matched span\n",
    "    print(f\"{match_id:<{25}} {string_id:{15}} {start:{10}} {end:{10}} \\t {span.text}\")"
   ]
  },
  {
   "source": [
    "# Phrasematcher"
   ],
   "cell_type": "markdown",
   "metadata": {}
  },
  {
   "cell_type": "code",
   "execution_count": 17,
   "metadata": {},
   "outputs": [],
   "source": [
    "from spacy.matcher import PhraseMatcher"
   ]
  },
  {
   "cell_type": "code",
   "execution_count": 18,
   "metadata": {},
   "outputs": [],
   "source": [
    "matcher = PhraseMatcher(nlp.vocab)"
   ]
  },
  {
   "cell_type": "code",
   "execution_count": 19,
   "metadata": {},
   "outputs": [],
   "source": [
    "with open(\"reaganomics.txt\") as f:\n",
    "    doc3 = nlp(f.read())"
   ]
  },
  {
   "cell_type": "code",
   "execution_count": 20,
   "metadata": {},
   "outputs": [],
   "source": [
    "phrase_list = ['voodoo economics', 'supply-side economics', 'trickle-down economics', 'free-market economics']"
   ]
  },
  {
   "cell_type": "code",
   "execution_count": 22,
   "metadata": {},
   "outputs": [],
   "source": [
    "# Next, convert each phrase to a Doc object (list of doc objects)\n",
    "phrase_patterns = [nlp(text) for text in phrase_list]"
   ]
  },
  {
   "cell_type": "code",
   "execution_count": 23,
   "metadata": {},
   "outputs": [],
   "source": [
    "matcher.add('VoodooEconomics', None, *phrase_patterns)"
   ]
  },
  {
   "cell_type": "code",
   "execution_count": 24,
   "metadata": {},
   "outputs": [],
   "source": [
    "matches = matcher(doc3)"
   ]
  },
  {
   "cell_type": "code",
   "execution_count": 25,
   "metadata": {},
   "outputs": [
    {
     "output_type": "execute_result",
     "data": {
      "text/plain": [
       "[(3473369816841043438, 41, 45),\n",
       " (3473369816841043438, 49, 53),\n",
       " (3473369816841043438, 54, 56),\n",
       " (3473369816841043438, 61, 65),\n",
       " (3473369816841043438, 673, 677),\n",
       " (3473369816841043438, 2987, 2991)]"
      ]
     },
     "metadata": {},
     "execution_count": 25
    }
   ],
   "source": [
    "matches"
   ]
  },
  {
   "cell_type": "code",
   "execution_count": 29,
   "metadata": {},
   "outputs": [
    {
     "output_type": "stream",
     "name": "stdout",
     "text": [
      "3473369816841043438       VoodooEconomics         41         45 \t supply-side economics\n3473369816841043438       VoodooEconomics         49         53 \t trickle-down economics\n3473369816841043438       VoodooEconomics         54         56 \t voodoo economics\n3473369816841043438       VoodooEconomics         61         65 \t free-market economics\n3473369816841043438       VoodooEconomics        673        677 \t supply-side economics\n3473369816841043438       VoodooEconomics       2987       2991 \t trickle-down economics\n"
     ]
    }
   ],
   "source": [
    "for match_id, start, end in matches:\n",
    "    string_id = nlp.vocab.strings[match_id]  # get string representation\n",
    "    span = doc3[start:end]                    # get the matched span\n",
    "    print(f\"{match_id:<{25}} {string_id:{15}} {start:{10}} {end:{10}} \\t {span.text}\")"
   ]
  },
  {
   "cell_type": "code",
   "execution_count": 32,
   "metadata": {},
   "outputs": [
    {
     "output_type": "stream",
     "name": "stdout",
     "text": [
      "3473369816841043438       VoodooEconomics         41         45 \t policies are commonly associated with supply-side economics, referred to as trickle\n3473369816841043438       VoodooEconomics         49         53 \t economics, referred to as trickle-down economics or voodoo economics by political\n3473369816841043438       VoodooEconomics         54         56 \t trickle-down economics or voodoo economics by political opponents, and\n3473369816841043438       VoodooEconomics         61         65 \t by political opponents, and free-market economics by political advocates.\n\n\n3473369816841043438       VoodooEconomics        673        677 \t attracted a following from the supply-side economics movement, which formed in\n3473369816841043438       VoodooEconomics       2987       2991 \t became widely known as \"trickle-down economics\", due to the\n"
     ]
    }
   ],
   "source": [
    "for match_id, start, end in matches:\n",
    "    string_id = nlp.vocab.strings[match_id]  # get string representation\n",
    "    span = doc3[start - 5:end + 5]                    # get the matched span\n",
    "    print(f\"{match_id:<{25}} {string_id:{15}} {start:{10}} {end:{10}} \\t {span.text}\")"
   ]
  },
  {
   "cell_type": "code",
   "execution_count": null,
   "metadata": {},
   "outputs": [],
   "source": []
  }
 ]
}