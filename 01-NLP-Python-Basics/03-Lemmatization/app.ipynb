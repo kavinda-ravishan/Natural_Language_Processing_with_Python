{
 "metadata": {
  "language_info": {
   "codemirror_mode": {
    "name": "ipython",
    "version": 3
   },
   "file_extension": ".py",
   "mimetype": "text/x-python",
   "name": "python",
   "nbconvert_exporter": "python",
   "pygments_lexer": "ipython3",
   "version": "3.8.5"
  },
  "orig_nbformat": 4,
  "kernelspec": {
   "name": "python3",
   "display_name": "Python 3.8.5 64-bit ('base': conda)"
  },
  "interpreter": {
   "hash": "293c111297a61481508202fcd690d673b0775ece2d2d867b62b8842b676a9a30"
  }
 },
 "nbformat": 4,
 "nbformat_minor": 2,
 "cells": [
  {
   "cell_type": "code",
   "execution_count": 1,
   "metadata": {},
   "outputs": [],
   "source": [
    "import spacy\n",
    "nlp = spacy.load(\"en_core_web_sm\")"
   ]
  },
  {
   "cell_type": "code",
   "execution_count": 3,
   "metadata": {},
   "outputs": [],
   "source": [
    "doc1 = nlp(u\"I am a runner running in a race because I love run since I ran today.\")"
   ]
  },
  {
   "cell_type": "code",
   "execution_count": 14,
   "metadata": {},
   "outputs": [],
   "source": [
    "def showLemmas(text):\n",
    "    for token in text:\n",
    "        print(f\"{token.text:{15}} {token.pos_:{10}} {token.lemma:<{25}} {token.lemma_:{10}}\")"
   ]
  },
  {
   "cell_type": "code",
   "execution_count": 16,
   "metadata": {},
   "outputs": [
    {
     "output_type": "stream",
     "name": "stdout",
     "text": [
      "I          PRON       4690420944186131903            I         \nam         AUX        10382539506755952630           be        \na          DET        11901859001352538922           a         \nrunner     NOUN       12640964157389618806           runner    \nrunning    VERB       12767647472892411841           run       \nin         ADP        3002984154512732771            in        \na          DET        11901859001352538922           a         \nrace       NOUN       8048469955494714898            race      \nbecause    SCONJ      16950148841647037698           because   \nI          PRON       4690420944186131903            I         \nlove       VERB       3702023516439754181            love      \nrun        VERB       12767647472892411841           run       \nsince      SCONJ      10066841407251338481           since     \nI          PRON       4690420944186131903            I         \nran        VERB       12767647472892411841           run       \ntoday      NOUN       11042482332948150395           today     \n.          PUNCT      12646065887601541794           .         \n"
     ]
    }
   ],
   "source": [
    "showLemmas(doc1)"
   ]
  },
  {
   "cell_type": "code",
   "execution_count": null,
   "metadata": {},
   "outputs": [],
   "source": [
    "# Running, Run and Ran have same hash number 12767647472892411841 (run)"
   ]
  }
 ]
}