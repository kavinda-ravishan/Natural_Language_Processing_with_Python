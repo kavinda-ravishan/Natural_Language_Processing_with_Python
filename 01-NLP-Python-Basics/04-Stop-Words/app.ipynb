{
 "metadata": {
  "language_info": {
   "codemirror_mode": {
    "name": "ipython",
    "version": 3
   },
   "file_extension": ".py",
   "mimetype": "text/x-python",
   "name": "python",
   "nbconvert_exporter": "python",
   "pygments_lexer": "ipython3",
   "version": "3.8.5"
  },
  "orig_nbformat": 4,
  "kernelspec": {
   "name": "python3",
   "display_name": "Python 3.8.5 64-bit ('base': conda)"
  },
  "interpreter": {
   "hash": "293c111297a61481508202fcd690d673b0775ece2d2d867b62b8842b676a9a30"
  }
 },
 "nbformat": 4,
 "nbformat_minor": 2,
 "cells": [
  {
   "source": [
    "# Stop Words"
   ],
   "cell_type": "markdown",
   "metadata": {}
  },
  {
   "source": [
    "## Stop words\n",
    "## Ex : \"a\", \"the\" ..\n",
    "## Usually we remove stop words from text for NLP"
   ],
   "cell_type": "markdown",
   "metadata": {}
  },
  {
   "cell_type": "code",
   "execution_count": 1,
   "metadata": {},
   "outputs": [],
   "source": [
    "import spacy\n",
    "nlp = spacy.load(\"en_core_web_sm\")"
   ]
  },
  {
   "source": [
    "## SPacy stop words"
   ],
   "cell_type": "markdown",
   "metadata": {}
  },
  {
   "cell_type": "code",
   "execution_count": 3,
   "metadata": {},
   "outputs": [
    {
     "output_type": "stream",
     "name": "stdout",
     "text": [
      "326\n{'else', 'on', 'it', 'these', 'such', 'any', 'their', '’d', 'are', 'us', 'for', 'elsewhere', 'once', 'into', 'am', 'whereupon', 'both', 'using', 'made', 'when', 'whereafter', 'while', 'nine', 'myself', 'behind', 'five', 'anyone', 'doing', 'serious', 'not', 'sometimes', 'until', 'ever', 'although', 'front', 'whether', 'your', 'every', 'various', 'keep', 'upon', '‘d', 'thus', 'across', 'nothing', 'afterwards', 'everyone', 'whoever', \"n't\", 'is', 'can', 'because', 'was', 'rather', 'at', 'many', 'themselves', 'anywhere', 'fifty', 'mostly', 'sometime', 'third', 'thence', 'what', 'really', 'part', 'next', 'latter', 'twelve', 'whose', 'meanwhile', 'therefore', 'used', 'between', 'except', 'the', 'thereupon', 'since', 'quite', '’m', 'i', 'twenty', 'per', 'without', 'above', 'due', 'hence', 'that', 'sixty', 'some', 'moreover', 'off', 'them', 'along', 'everything', 'more', 'have', 'wherever', 'in', 'former', 'cannot', 'than', 'before', 'of', 'otherwise', 'been', 'itself', '‘m', 'full', 'her', 'hundred', 'most', 'no', 'never', 'this', 'eleven', 'about', 'two', 'therein', 'whatever', 'seeming', 'one', 'where', \"'d\", 'empty', '‘re', 'few', 'over', 'beyond', 'hers', 'take', 'had', 'nor', 'via', 'name', 'again', 'bottom', '‘s', 'they', 'towards', 'ten', 'either', 'noone', 'already', 'does', 'six', 'amongst', 'our', 'forty', 'will', 'became', 'all', 'say', 'please', 'unless', 'he', 'we', 'a', 'by', 'ca', 'several', 'only', 'same', 'herein', 'whom', 'put', 'be', '‘ll', 'down', 'from', 'hereupon', 'how', 'his', 'always', 'also', 'each', 'eight', 'now', 'me', '’s', 'him', 'among', 'nobody', 'alone', 'after', 'must', 'further', 'might', 'against', 'should', 'around', 'would', 'she', 'just', 'beside', 'other', 'regarding', 'did', 'may', 'often', 'herself', 'almost', 'mine', 'do', 'thereafter', 'call', 'out', 'seemed', 'less', 'well', \"'re\", '‘ve', 'becomes', '’ve', 'through', 'yours', 'latterly', 'yourself', 'move', 'everywhere', 'and', 'n’t', 'together', 'its', \"'m\", 'thereby', 'go', 'with', 'formerly', 'seems', 'seem', 'beforehand', 'or', 'side', 'show', 'becoming', 'being', 'ourselves', 'during', 'too', 'hereafter', '’re', 'top', 'become', 'you', 'if', 'enough', 'back', 'give', 'nevertheless', 'could', 'an', 'toward', \"'ll\", 'namely', 'so', 'get', '’ll', 'but', 'has', 'those', 'himself', 'yourselves', 'first', 'own', 'why', 'whereby', 'someone', 'even', 'whereas', 'anyhow', \"'s\", 'somehow', 'which', 'nowhere', 'below', 'indeed', 'here', 'my', 'though', 'amount', 'however', 'something', \"'ve\", 'last', 'anyway', 'ours', 'thru', 'fifteen', 'neither', 'much', 'whole', 'very', 're', 'within', 'others', 'to', 'yet', 'whence', 'under', 'anything', 'up', 'onto', 'still', 'done', 'hereby', 'wherein', 'somewhere', 'three', 'perhaps', 'n‘t', 'besides', 'who', 'were', 'throughout', 'whenever', 'there', 'see', 'as', 'none', 'four', 'another', 'least', 'then', 'make', 'whither'}\n"
     ]
    }
   ],
   "source": [
    "print(len(nlp.Defaults.stop_words))\n",
    "print(nlp.Defaults.stop_words)\n",
    "# spacy stop words in python SET."
   ]
  },
  {
   "source": [
    "## Check whether the stop word exits in spacy stop words set."
   ],
   "cell_type": "markdown",
   "metadata": {}
  },
  {
   "cell_type": "code",
   "execution_count": 4,
   "metadata": {},
   "outputs": [
    {
     "output_type": "execute_result",
     "data": {
      "text/plain": [
       "True"
      ]
     },
     "metadata": {},
     "execution_count": 4
    }
   ],
   "source": [
    "nlp.vocab[\"is\"].is_stop"
   ]
  },
  {
   "cell_type": "code",
   "execution_count": 5,
   "metadata": {},
   "outputs": [
    {
     "output_type": "execute_result",
     "data": {
      "text/plain": [
       "False"
      ]
     },
     "metadata": {},
     "execution_count": 5
    }
   ],
   "source": [
    "nlp.vocab[\"mystery\"].is_stop"
   ]
  },
  {
   "source": [
    "## Add new stop word to spacy"
   ],
   "cell_type": "markdown",
   "metadata": {}
  },
  {
   "cell_type": "code",
   "execution_count": 6,
   "metadata": {},
   "outputs": [
    {
     "output_type": "execute_result",
     "data": {
      "text/plain": [
       "False"
      ]
     },
     "metadata": {},
     "execution_count": 6
    }
   ],
   "source": [
    "nlp.vocab[\"btw\"].is_stop"
   ]
  },
  {
   "cell_type": "code",
   "execution_count": 7,
   "metadata": {},
   "outputs": [],
   "source": [
    "nlp.Defaults.stop_words.add(\"btw\")"
   ]
  },
  {
   "cell_type": "code",
   "execution_count": 9,
   "metadata": {},
   "outputs": [],
   "source": [
    "nlp.vocab[\"btw\"].is_stop = True"
   ]
  },
  {
   "cell_type": "code",
   "execution_count": 10,
   "metadata": {},
   "outputs": [
    {
     "output_type": "execute_result",
     "data": {
      "text/plain": [
       "True"
      ]
     },
     "metadata": {},
     "execution_count": 10
    }
   ],
   "source": [
    "nlp.vocab[\"btw\"].is_stop"
   ]
  },
  {
   "cell_type": "code",
   "execution_count": 11,
   "metadata": {},
   "outputs": [
    {
     "output_type": "stream",
     "name": "stdout",
     "text": [
      "327\n"
     ]
    }
   ],
   "source": [
    "# 326 previously\n",
    "print(len(nlp.Defaults.stop_words))"
   ]
  },
  {
   "source": [
    "## Remove the stop word from spacy"
   ],
   "cell_type": "markdown",
   "metadata": {}
  },
  {
   "cell_type": "code",
   "execution_count": 12,
   "metadata": {},
   "outputs": [],
   "source": [
    "nlp.Defaults.stop_words.remove(\"btw\")"
   ]
  },
  {
   "cell_type": "code",
   "execution_count": 13,
   "metadata": {},
   "outputs": [],
   "source": [
    "nlp.vocab[\"btw\"].is_stop = False"
   ]
  },
  {
   "cell_type": "code",
   "execution_count": 14,
   "metadata": {},
   "outputs": [
    {
     "output_type": "execute_result",
     "data": {
      "text/plain": [
       "False"
      ]
     },
     "metadata": {},
     "execution_count": 14
    }
   ],
   "source": [
    "nlp.vocab[\"btw\"].is_stop"
   ]
  },
  {
   "cell_type": "code",
   "execution_count": 15,
   "metadata": {},
   "outputs": [
    {
     "output_type": "stream",
     "name": "stdout",
     "text": [
      "326\n"
     ]
    }
   ],
   "source": [
    "# 327 previously\n",
    "print(len(nlp.Defaults.stop_words))"
   ]
  },
  {
   "cell_type": "code",
   "execution_count": null,
   "metadata": {},
   "outputs": [],
   "source": []
  }
 ]
}