{
 "metadata": {
  "language_info": {
   "codemirror_mode": {
    "name": "ipython",
    "version": 3
   },
   "file_extension": ".py",
   "mimetype": "text/x-python",
   "name": "python",
   "nbconvert_exporter": "python",
   "pygments_lexer": "ipython3",
   "version": "3.8.5"
  },
  "orig_nbformat": 4,
  "kernelspec": {
   "name": "python3",
   "display_name": "Python 3.8.5 64-bit ('base': conda)"
  },
  "interpreter": {
   "hash": "293c111297a61481508202fcd690d673b0775ece2d2d867b62b8842b676a9a30"
  }
 },
 "nbformat": 4,
 "nbformat_minor": 2,
 "cells": [
  {
   "cell_type": "code",
   "execution_count": 1,
   "metadata": {},
   "outputs": [],
   "source": [
    "import nltk"
   ]
  },
  {
   "source": [
    "## Porter stemmer"
   ],
   "cell_type": "markdown",
   "metadata": {}
  },
  {
   "cell_type": "code",
   "execution_count": 2,
   "metadata": {},
   "outputs": [],
   "source": [
    "from nltk.stem.porter import PorterStemmer"
   ]
  },
  {
   "cell_type": "code",
   "execution_count": 3,
   "metadata": {},
   "outputs": [],
   "source": [
    "p_stemmer = PorterStemmer()"
   ]
  },
  {
   "cell_type": "code",
   "execution_count": 12,
   "metadata": {},
   "outputs": [],
   "source": [
    "words = [\"run\", \"runner\", \"ran\", \"runs\", \"easily\", \"fairly\", \"fairness\"]"
   ]
  },
  {
   "cell_type": "code",
   "execution_count": 13,
   "metadata": {},
   "outputs": [
    {
     "output_type": "stream",
     "name": "stdout",
     "text": [
      "run        -> run\nrunner     -> runner\nran        -> ran\nruns       -> run\neasily     -> easili\nfairly     -> fairli\nfairness   -> fair\n"
     ]
    }
   ],
   "source": [
    "for word in words:\n",
    "    print(f\"{word:{10}} -> {p_stemmer.stem(word)}\") "
   ]
  },
  {
   "source": [
    "## Snowball stemmer"
   ],
   "cell_type": "markdown",
   "metadata": {}
  },
  {
   "cell_type": "code",
   "execution_count": 8,
   "metadata": {},
   "outputs": [],
   "source": [
    "from nltk.stem.snowball import SnowballStemmer"
   ]
  },
  {
   "cell_type": "code",
   "execution_count": 10,
   "metadata": {},
   "outputs": [],
   "source": [
    "s_stemmer = SnowballStemmer(language=\"english\")"
   ]
  },
  {
   "cell_type": "code",
   "execution_count": 14,
   "metadata": {},
   "outputs": [
    {
     "output_type": "stream",
     "name": "stdout",
     "text": [
      "run        -> run\nrunner     -> runner\nran        -> ran\nruns       -> run\neasily     -> easili\nfairly     -> fair\nfairness   -> fair\n"
     ]
    }
   ],
   "source": [
    "for word in words:\n",
    "    print(f\"{word:{10}} -> {s_stemmer.stem(word)}\") "
   ]
  },
  {
   "cell_type": "code",
   "execution_count": 16,
   "metadata": {},
   "outputs": [
    {
     "output_type": "stream",
     "name": "stdout",
     "text": [
      "generous   -> generous\ngeneration -> generat\ngenerously -> generous\ngenerate   -> generat\n"
     ]
    }
   ],
   "source": [
    "words = [\"generous\", \"generation\", \"generously\", \"generate\"]\n",
    "\n",
    "for word in words:\n",
    "    print(f\"{word:{10}} -> {s_stemmer.stem(word)}\") "
   ]
  },
  {
   "source": [
    "## `Stemming is not very effective therefore spacy use lemmatization.`"
   ],
   "cell_type": "markdown",
   "metadata": {}
  }
 ]
}