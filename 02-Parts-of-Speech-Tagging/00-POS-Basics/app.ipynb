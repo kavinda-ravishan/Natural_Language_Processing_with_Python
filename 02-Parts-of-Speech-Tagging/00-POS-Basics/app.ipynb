{
 "metadata": {
  "language_info": {
   "codemirror_mode": {
    "name": "ipython",
    "version": 3
   },
   "file_extension": ".py",
   "mimetype": "text/x-python",
   "name": "python",
   "nbconvert_exporter": "python",
   "pygments_lexer": "ipython3",
   "version": "3.8.5"
  },
  "orig_nbformat": 4,
  "kernelspec": {
   "name": "python3",
   "display_name": "Python 3.8.5 64-bit ('base': conda)"
  },
  "interpreter": {
   "hash": "293c111297a61481508202fcd690d673b0775ece2d2d867b62b8842b676a9a30"
  }
 },
 "nbformat": 4,
 "nbformat_minor": 2,
 "cells": [
  {
   "cell_type": "code",
   "execution_count": 1,
   "metadata": {},
   "outputs": [],
   "source": [
    "import spacy\n",
    "nlp = spacy.load(\"en_core_web_sm\")"
   ]
  },
  {
   "cell_type": "code",
   "execution_count": 2,
   "metadata": {},
   "outputs": [],
   "source": [
    "doc = nlp(u\"The quick brown fox jumped over the lazy dog's back.\")"
   ]
  },
  {
   "cell_type": "code",
   "execution_count": 3,
   "metadata": {},
   "outputs": [
    {
     "output_type": "stream",
     "name": "stdout",
     "text": [
      "The quick brown fox jumped over the lazy dog's back.\n"
     ]
    }
   ],
   "source": [
    "print(doc.text)"
   ]
  },
  {
   "cell_type": "code",
   "execution_count": 4,
   "metadata": {},
   "outputs": [
    {
     "output_type": "stream",
     "name": "stdout",
     "text": [
      "jumped\n"
     ]
    }
   ],
   "source": [
    "print(doc[4].text)"
   ]
  },
  {
   "cell_type": "code",
   "execution_count": 5,
   "metadata": {},
   "outputs": [
    {
     "output_type": "stream",
     "name": "stdout",
     "text": [
      "jumped\n"
     ]
    }
   ],
   "source": [
    "print(doc[4])"
   ]
  },
  {
   "source": [
    "## Fine-grained tag"
   ],
   "cell_type": "markdown",
   "metadata": {}
  },
  {
   "cell_type": "code",
   "execution_count": 6,
   "metadata": {},
   "outputs": [
    {
     "output_type": "stream",
     "name": "stdout",
     "text": [
      "VERB\n"
     ]
    }
   ],
   "source": [
    "print(doc[4].pos_)"
   ]
  },
  {
   "cell_type": "code",
   "execution_count": 7,
   "metadata": {},
   "outputs": [
    {
     "output_type": "stream",
     "name": "stdout",
     "text": [
      "VBD\n"
     ]
    }
   ],
   "source": [
    "print(doc[4].tag_)"
   ]
  },
  {
   "source": [
    "___\n",
    "## Fine-grained Part-of-speech Tags\n",
    "Tokens are subsequently given a fine-grained tag as determined by morphology:\n",
    "<table>\n",
    "<tr><th>POS</th><th>Description</th><th>Fine-grained Tag</th><th>Description</th><th>Morphology</th></tr>\n",
    "<tr><td>VERB</td><td></td><td>VBD</td><td>verb, past tense</td><td>VerbForm=fin Tense=past</td></tr>\n",
    "</table>"
   ],
   "cell_type": "markdown",
   "metadata": {}
  },
  {
   "cell_type": "code",
   "execution_count": 8,
   "metadata": {},
   "outputs": [
    {
     "output_type": "stream",
     "name": "stdout",
     "text": [
      "The        determiner           determiner          \nquick      adjective            adjective           \nbrown      adjective            adjective           \nfox        noun                 noun, singular or mass\njumped     verb                 verb, past tense    \nover       adposition           conjunction, subordinating or preposition\nthe        determiner           determiner          \nlazy       adjective            adjective           \ndog        noun                 noun, singular or mass\n's         particle             possessive ending   \nback       noun                 noun, singular or mass\n.          punctuation          punctuation mark, sentence closer\n"
     ]
    }
   ],
   "source": [
    "for token in doc:\n",
    "    print(f\"{token.text:{10}} {spacy.explain(token.pos_):{20}} {spacy.explain(token.tag_):{20}}\")"
   ]
  },
  {
   "cell_type": "code",
   "execution_count": 9,
   "metadata": {},
   "outputs": [
    {
     "output_type": "stream",
     "name": "stdout",
     "text": [
      "am         auxiliary            verb, non-3rd person singular present\n"
     ]
    }
   ],
   "source": [
    "doc = nlp(u\"I am reading a book on NLP.\")\n",
    "token = doc[1] # reading\n",
    "print(f\"{token.text:{10}} {spacy.explain(token.pos_):{20}} {spacy.explain(token.tag_):{20}}\")"
   ]
  },
  {
   "cell_type": "code",
   "execution_count": 10,
   "metadata": {},
   "outputs": [
    {
     "output_type": "stream",
     "name": "stdout",
     "text": [
      "read       verb                 verb, past tense    \n"
     ]
    }
   ],
   "source": [
    "doc = nlp(u\"I read a book on NLP.\")\n",
    "token = doc[1] # read\n",
    "print(f\"{token.text:{10}} {spacy.explain(token.pos_):{20}} {spacy.explain(token.tag_):{20}}\")"
   ]
  },
  {
   "source": [
    "## Parts of speech count"
   ],
   "cell_type": "markdown",
   "metadata": {}
  },
  {
   "cell_type": "code",
   "execution_count": 11,
   "metadata": {},
   "outputs": [],
   "source": [
    "doc = nlp(u\"The quick brown fox jumped over the lazy dog's back.\")"
   ]
  },
  {
   "cell_type": "code",
   "execution_count": 12,
   "metadata": {},
   "outputs": [
    {
     "output_type": "execute_result",
     "data": {
      "text/plain": [
       "{90: 2, 84: 3, 92: 3, 100: 1, 85: 1, 94: 1, 97: 1}"
      ]
     },
     "metadata": {},
     "execution_count": 12
    }
   ],
   "source": [
    "POS_count = doc.count_by(spacy.attrs.POS)\n",
    "POS_count"
   ]
  },
  {
   "cell_type": "code",
   "execution_count": 13,
   "metadata": {},
   "outputs": [
    {
     "output_type": "execute_result",
     "data": {
      "text/plain": [
       "'adjective'"
      ]
     },
     "metadata": {},
     "execution_count": 13
    }
   ],
   "source": [
    "spacy.explain(doc.vocab[84].text) # 84: 3 -> there are 3 adjectives in sentence"
   ]
  },
  {
   "cell_type": "code",
   "execution_count": 14,
   "metadata": {},
   "outputs": [
    {
     "output_type": "execute_result",
     "data": {
      "text/plain": [
       "84"
      ]
     },
     "metadata": {},
     "execution_count": 14
    }
   ],
   "source": [
    "doc[2].pos"
   ]
  },
  {
   "cell_type": "code",
   "execution_count": 15,
   "metadata": {},
   "outputs": [
    {
     "output_type": "stream",
     "name": "stdout",
     "text": [
      "   84. \t ADJ        adjective            3\n   85. \t ADP        adposition           1\n   90. \t DET        determiner           2\n   92. \t NOUN       noun                 3\n   94. \t PART       particle             1\n   97. \t PUNCT      punctuation          1\n  100. \t VERB       verb                 1\n"
     ]
    }
   ],
   "source": [
    "for k,v in sorted(POS_count.items()):\n",
    "    print(f\"{k:{5}}. \\t {doc.vocab[k].text:{10}} {spacy.explain(doc.vocab[k].text):{20}} {v}\")"
   ]
  },
  {
   "cell_type": "code",
   "execution_count": 16,
   "metadata": {},
   "outputs": [
    {
     "output_type": "stream",
     "name": "stdout",
     "text": [
      "                  74. \t POS        possessive ending                                  1\n 1292078113972184607. \t IN         conjunction, subordinating or preposition          1\n10554686591937588953. \t JJ         adjective                                          3\n12646065887601541794. \t .          punctuation mark, sentence closer                  1\n15267657372422890137. \t DT         determiner                                         2\n15308085513773655218. \t NN         noun, singular or mass                             3\n17109001835818727656. \t VBD        verb, past tense                                   1\n"
     ]
    }
   ],
   "source": [
    "TAG_count = doc.count_by(spacy.attrs.TAG)\n",
    "for k,v in sorted(TAG_count.items()):\n",
    "    print(f\"{k:{20}}. \\t {doc.vocab[k].text:{10}} {spacy.explain(doc.vocab[k].text):{50}} {v}\")"
   ]
  },
  {
   "cell_type": "code",
   "execution_count": 17,
   "metadata": {},
   "outputs": [
    {
     "output_type": "stream",
     "name": "stdout",
     "text": [
      "                 402. \t amod       adjectival modifier                                3\n                 415. \t det        determiner                                         2\n                 429. \t nsubj      nominal subject                                    1\n                 439. \t pobj       object of preposition                              1\n                 440. \t poss       possession modifier                                1\n                 443. \t prep       prepositional modifier                             1\n                 445. \t punct      punctuation                                        1\n 8110129090154140942. \t case       case marking                                       1\n 8206900633647566924. \t ROOT       ROOT                                               1\n"
     ]
    }
   ],
   "source": [
    "DEP_count = doc.count_by(spacy.attrs.DEP)\n",
    "for k,v in sorted(DEP_count.items()):\n",
    "    try:\n",
    "        print(f\"{k:{20}}. \\t {doc.vocab[k].text:{10}} {spacy.explain(doc.vocab[k].text):{50}} {v}\")\n",
    "    except:\n",
    "        print(f\"{k:{20}}. \\t {doc.vocab[k].text:{10}} {doc.vocab[k].text:{50}} {v}\")"
   ]
  },
  {
   "cell_type": "code",
   "execution_count": null,
   "metadata": {},
   "outputs": [],
   "source": []
  }
 ]
}