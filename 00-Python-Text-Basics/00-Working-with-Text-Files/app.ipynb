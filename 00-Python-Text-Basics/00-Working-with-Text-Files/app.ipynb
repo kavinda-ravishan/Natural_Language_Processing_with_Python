{
 "metadata": {
  "language_info": {
   "codemirror_mode": {
    "name": "ipython",
    "version": 3
   },
   "file_extension": ".py",
   "mimetype": "text/x-python",
   "name": "python",
   "nbconvert_exporter": "python",
   "pygments_lexer": "ipython3",
   "version": "3.8.5"
  },
  "orig_nbformat": 2,
  "kernelspec": {
   "name": "python385jvsc74a57bd0293c111297a61481508202fcd690d673b0775ece2d2d867b62b8842b676a9a30",
   "display_name": "Python 3.8.5 64-bit ('base': conda)"
  }
 },
 "nbformat": 4,
 "nbformat_minor": 2,
 "cells": [
  {
   "source": [
    "## 1"
   ],
   "cell_type": "markdown",
   "metadata": {}
  },
  {
   "cell_type": "code",
   "execution_count": 1,
   "metadata": {},
   "outputs": [
    {
     "output_type": "stream",
     "name": "stdout",
     "text": [
      "my name is kavinda\nmy name is kavinda and 25 years old.\n"
     ]
    }
   ],
   "source": [
    "person = {\"name\": \"kavinda\", \"age\": 25}\n",
    "\n",
    "# old way, before python 3\n",
    "print(\"my name is {}\".format(person['name']))\n",
    "\n",
    "# new way\n",
    "print(f\"my name is {person['name']} and {person['age']} years old.\")"
   ]
  },
  {
   "source": [
    "## 2"
   ],
   "cell_type": "markdown",
   "metadata": {}
  },
  {
   "cell_type": "code",
   "execution_count": 2,
   "metadata": {},
   "outputs": [],
   "source": [
    "library = [('Author', 'Topic', 'Pages'), ('Twain', 'Rafting', 601), ('Feynman', 'Physics', 95), ('Hamilton', 'Mythology', 144)]"
   ]
  },
  {
   "cell_type": "code",
   "execution_count": 3,
   "metadata": {},
   "outputs": [
    {
     "output_type": "stream",
     "name": "stdout",
     "text": [
      "Author Topic Pages\nTwain Rafting 601\nFeynman Physics 95\nHamilton Mythology 144\n\nAuthor Topic Pages\nTwain Rafting 601\nFeynman Physics 95\nHamilton Mythology 144\n"
     ]
    }
   ],
   "source": [
    "for book in library:\n",
    "    print(f\"{book[0]} {book[1]} {book[2]}\")\n",
    "\n",
    "print(\"\")\n",
    "\n",
    "for author,topic,pages in library:\n",
    "    print(f\"{author} {topic} {pages}\") "
   ]
  },
  {
   "cell_type": "code",
   "execution_count": 4,
   "metadata": {},
   "outputs": [
    {
     "output_type": "stream",
     "name": "stdout",
     "text": [
      "Author     Topic                          Pages     \n",
      "Twain      Rafting                               601\n",
      "Feynman    Physics                                95\n",
      "Hamilton   Mythology                             144\n",
      "\n",
      "Author     Topic                               Pages\n",
      "Twain      Rafting                               601\n",
      "Feynman    Physics                                95\n",
      "Hamilton   Mythology                             144\n",
      "\n",
      "Author     Topic                          .....Pages\n",
      "Twain      Rafting                        .......601\n",
      "Feynman    Physics                        ........95\n",
      "Hamilton   Mythology                      .......144\n"
     ]
    }
   ],
   "source": [
    "for author,topic,pages in library:\n",
    "    print(f\"{author:{10}} {topic:{30}} {pages:{10}}\")\n",
    "\n",
    "print(\"\")\n",
    "\n",
    "for author,topic,pages in library:\n",
    "    print(f\"{author:{10}} {topic:{30}} {pages:>{10}}\")\n",
    "\n",
    "print(\"\")\n",
    "\n",
    "for author,topic,pages in library:\n",
    "    print(f\"{author:{10}} {topic:{30}} {pages:.>{10}}\")  "
   ]
  },
  {
   "source": [
    "## 3"
   ],
   "cell_type": "markdown",
   "metadata": {}
  },
  {
   "source": [
    "### https://strftime.org/"
   ],
   "cell_type": "markdown",
   "metadata": {}
  },
  {
   "cell_type": "code",
   "execution_count": 5,
   "metadata": {},
   "outputs": [],
   "source": [
    "from datetime import datetime"
   ]
  },
  {
   "cell_type": "code",
   "execution_count": 6,
   "metadata": {},
   "outputs": [
    {
     "output_type": "stream",
     "name": "stdout",
     "text": [
      "2020-06-10 00:00:00\nJune\nJune 10, 2020\n"
     ]
    }
   ],
   "source": [
    "today = datetime(year=2020, month=6, day=10)\n",
    "\n",
    "print(f\"{today}\")\n",
    "\n",
    "print(f\"{today:%B}\")\n",
    "\n",
    "print(f\"{today:%B %d, %Y}\")"
   ]
  },
  {
   "cell_type": "code",
   "execution_count": null,
   "metadata": {},
   "outputs": [],
   "source": []
  }
 ]
}