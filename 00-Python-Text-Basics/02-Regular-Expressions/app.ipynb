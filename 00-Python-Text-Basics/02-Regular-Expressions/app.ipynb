{
 "metadata": {
  "language_info": {
   "codemirror_mode": {
    "name": "ipython",
    "version": 3
   },
   "file_extension": ".py",
   "mimetype": "text/x-python",
   "name": "python",
   "nbconvert_exporter": "python",
   "pygments_lexer": "ipython3",
   "version": "3.8.5"
  },
  "orig_nbformat": 2,
  "kernelspec": {
   "name": "python3",
   "display_name": "Python 3.8.5 64-bit ('base': conda)"
  },
  "interpreter": {
   "hash": "293c111297a61481508202fcd690d673b0775ece2d2d867b62b8842b676a9a30"
  }
 },
 "nbformat": 4,
 "nbformat_minor": 2,
 "cells": [
  {
   "cell_type": "code",
   "execution_count": 1,
   "metadata": {},
   "outputs": [],
   "source": [
    "text = \"my phone number is 408-555-1234. call soon\""
   ]
  },
  {
   "cell_type": "code",
   "execution_count": 2,
   "metadata": {},
   "outputs": [
    {
     "output_type": "execute_result",
     "data": {
      "text/plain": [
       "True"
      ]
     },
     "metadata": {},
     "execution_count": 2
    }
   ],
   "source": [
    "\"408-555-1234\" in text"
   ]
  },
  {
   "cell_type": "code",
   "execution_count": 3,
   "metadata": {},
   "outputs": [
    {
     "output_type": "execute_result",
     "data": {
      "text/plain": [
       "False"
      ]
     },
     "metadata": {},
     "execution_count": 3
    }
   ],
   "source": [
    "\"408-123-1234\" in text"
   ]
  },
  {
   "source": [
    "### regular expression allows for pattern searching in a text document\n",
    "### 408-555-1234 : xxx-xxx-xxxx : r'\\d{3}-\\d{3}-\\d{4}'\n",
    "### Every character type has a corresponding pattern code\n",
    "### Digits : \\d ( '\\' back slash for tell 'd' is a special character)"
   ],
   "cell_type": "markdown",
   "metadata": {}
  },
  {
   "cell_type": "code",
   "execution_count": 4,
   "metadata": {},
   "outputs": [],
   "source": [
    "import re"
   ]
  },
  {
   "cell_type": "code",
   "execution_count": 5,
   "metadata": {},
   "outputs": [],
   "source": [
    "pattern = \"phone\""
   ]
  },
  {
   "cell_type": "code",
   "execution_count": 6,
   "metadata": {},
   "outputs": [
    {
     "output_type": "execute_result",
     "data": {
      "text/plain": [
       "<re.Match object; span=(3, 8), match='phone'>"
      ]
     },
     "metadata": {},
     "execution_count": 6
    }
   ],
   "source": [
    "re.search(pattern, text)"
   ]
  },
  {
   "cell_type": "code",
   "execution_count": 7,
   "metadata": {},
   "outputs": [],
   "source": [
    "my_match = re.search(pattern, text)"
   ]
  },
  {
   "cell_type": "code",
   "execution_count": 8,
   "metadata": {},
   "outputs": [
    {
     "output_type": "execute_result",
     "data": {
      "text/plain": [
       "(3, 8)"
      ]
     },
     "metadata": {},
     "execution_count": 8
    }
   ],
   "source": [
    "my_match.span()"
   ]
  },
  {
   "cell_type": "code",
   "execution_count": 9,
   "metadata": {},
   "outputs": [],
   "source": [
    "# (3, 8)\n",
    "#  |  |__ go upto index 8\n",
    "#  |_____ start from index 3"
   ]
  },
  {
   "cell_type": "code",
   "execution_count": 10,
   "metadata": {},
   "outputs": [
    {
     "output_type": "execute_result",
     "data": {
      "text/plain": [
       "3"
      ]
     },
     "metadata": {},
     "execution_count": 10
    }
   ],
   "source": [
    "my_match.start()"
   ]
  },
  {
   "cell_type": "code",
   "execution_count": 11,
   "metadata": {},
   "outputs": [
    {
     "output_type": "execute_result",
     "data": {
      "text/plain": [
       "8"
      ]
     },
     "metadata": {},
     "execution_count": 11
    }
   ],
   "source": [
    "my_match.end()"
   ]
  },
  {
   "cell_type": "code",
   "execution_count": 12,
   "metadata": {},
   "outputs": [],
   "source": [
    "text = \"my phone number is new phone\"\n",
    "pattern = \"phone\""
   ]
  },
  {
   "cell_type": "code",
   "execution_count": 13,
   "metadata": {},
   "outputs": [
    {
     "output_type": "execute_result",
     "data": {
      "text/plain": [
       "(3, 8)"
      ]
     },
     "metadata": {},
     "execution_count": 13
    }
   ],
   "source": [
    "my_match = re.search(pattern, text)\n",
    "my_match.span() # only get first match"
   ]
  },
  {
   "cell_type": "code",
   "execution_count": 14,
   "metadata": {},
   "outputs": [
    {
     "output_type": "execute_result",
     "data": {
      "text/plain": [
       "['phone', 'phone']"
      ]
     },
     "metadata": {},
     "execution_count": 14
    }
   ],
   "source": [
    "all_matches = re.findall(pattern, text)\n",
    "all_matches"
   ]
  },
  {
   "cell_type": "code",
   "execution_count": 15,
   "metadata": {},
   "outputs": [
    {
     "output_type": "execute_result",
     "data": {
      "text/plain": [
       "2"
      ]
     },
     "metadata": {},
     "execution_count": 15
    }
   ],
   "source": [
    "len(all_matches)"
   ]
  },
  {
   "cell_type": "code",
   "execution_count": 16,
   "metadata": {},
   "outputs": [
    {
     "output_type": "stream",
     "name": "stdout",
     "text": [
      "(3, 8)\n(23, 28)\n"
     ]
    }
   ],
   "source": [
    "for match in re.finditer(pattern, text):\n",
    "    print(match.span())"
   ]
  },
  {
   "source": [
    "## Pattern searching"
   ],
   "cell_type": "markdown",
   "metadata": {}
  },
  {
   "cell_type": "code",
   "execution_count": 17,
   "metadata": {},
   "outputs": [],
   "source": [
    "text = \"my phone numbers are 408-555-1234 and 408-123-4567. call soon\""
   ]
  },
  {
   "cell_type": "code",
   "execution_count": 18,
   "metadata": {},
   "outputs": [],
   "source": [
    "pattern = r'\\d\\d\\d-\\d\\d\\d-\\d\\d\\d\\d'"
   ]
  },
  {
   "cell_type": "code",
   "execution_count": 19,
   "metadata": {},
   "outputs": [],
   "source": [
    "phone_number = re.search(pattern, text)"
   ]
  },
  {
   "cell_type": "code",
   "execution_count": 20,
   "metadata": {},
   "outputs": [
    {
     "output_type": "execute_result",
     "data": {
      "text/plain": [
       "<re.Match object; span=(21, 33), match='408-555-1234'>"
      ]
     },
     "metadata": {},
     "execution_count": 20
    }
   ],
   "source": [
    "phone_number"
   ]
  },
  {
   "cell_type": "code",
   "execution_count": 21,
   "metadata": {},
   "outputs": [
    {
     "output_type": "execute_result",
     "data": {
      "text/plain": [
       "'408-555-1234'"
      ]
     },
     "metadata": {},
     "execution_count": 21
    }
   ],
   "source": [
    "phone_number.group()"
   ]
  },
  {
   "source": [
    "## with quantifiers"
   ],
   "cell_type": "markdown",
   "metadata": {}
  },
  {
   "cell_type": "code",
   "execution_count": 22,
   "metadata": {},
   "outputs": [
    {
     "output_type": "execute_result",
     "data": {
      "text/plain": [
       "'408-555-1234'"
      ]
     },
     "metadata": {},
     "execution_count": 22
    }
   ],
   "source": [
    "pattern = r'\\d{3}-\\d{3}-\\d{4}'\n",
    "phone_number = re.search(pattern, text)\n",
    "phone_number.group()"
   ]
  },
  {
   "cell_type": "code",
   "execution_count": 23,
   "metadata": {},
   "outputs": [
    {
     "output_type": "execute_result",
     "data": {
      "text/plain": [
       "['408-555-1234', '408-123-4567']"
      ]
     },
     "metadata": {},
     "execution_count": 23
    }
   ],
   "source": [
    "all_matches = re.findall(pattern, text)\n",
    "all_matches"
   ]
  },
  {
   "cell_type": "code",
   "execution_count": 24,
   "metadata": {},
   "outputs": [
    {
     "output_type": "stream",
     "name": "stdout",
     "text": [
      "(21, 33)\n(38, 50)\n"
     ]
    }
   ],
   "source": [
    "for match in re.finditer(pattern, text):\n",
    "    print(match.span())"
   ]
  },
  {
   "source": [
    "## Groups"
   ],
   "cell_type": "markdown",
   "metadata": {}
  },
  {
   "cell_type": "code",
   "execution_count": 25,
   "metadata": {},
   "outputs": [],
   "source": [
    "text = \"my phone numbers are 408-555-1234 and 408-123-4567. call soon\""
   ]
  },
  {
   "cell_type": "code",
   "execution_count": 26,
   "metadata": {},
   "outputs": [],
   "source": [
    "pattern = r'(\\d{3}-)(\\d{3})-(\\d{4})'\n",
    "#              |       |      |\n",
    "#  Group ()    1       2      3"
   ]
  },
  {
   "cell_type": "code",
   "execution_count": 27,
   "metadata": {},
   "outputs": [],
   "source": [
    "mymatch = re.search(pattern, text)"
   ]
  },
  {
   "cell_type": "code",
   "execution_count": 28,
   "metadata": {},
   "outputs": [
    {
     "output_type": "execute_result",
     "data": {
      "text/plain": [
       "'408-'"
      ]
     },
     "metadata": {},
     "execution_count": 28
    }
   ],
   "source": [
    "mymatch.group(1)"
   ]
  },
  {
   "cell_type": "code",
   "execution_count": 29,
   "metadata": {},
   "outputs": [
    {
     "output_type": "execute_result",
     "data": {
      "text/plain": [
       "'555'"
      ]
     },
     "metadata": {},
     "execution_count": 29
    }
   ],
   "source": [
    "mymatch.group(2)"
   ]
  },
  {
   "cell_type": "code",
   "execution_count": 30,
   "metadata": {},
   "outputs": [
    {
     "output_type": "execute_result",
     "data": {
      "text/plain": [
       "'1234'"
      ]
     },
     "metadata": {},
     "execution_count": 30
    }
   ],
   "source": [
    "mymatch.group(3)"
   ]
  },
  {
   "cell_type": "code",
   "execution_count": 31,
   "metadata": {},
   "outputs": [
    {
     "output_type": "execute_result",
     "data": {
      "text/plain": [
       "'408-555-1234'"
      ]
     },
     "metadata": {},
     "execution_count": 31
    }
   ],
   "source": [
    "mymatch.group()"
   ]
  },
  {
   "source": [
    "## Pipe operator"
   ],
   "cell_type": "markdown",
   "metadata": {}
  },
  {
   "cell_type": "code",
   "execution_count": 32,
   "metadata": {},
   "outputs": [
    {
     "output_type": "execute_result",
     "data": {
      "text/plain": [
       "<re.Match object; span=(5, 8), match='man'>"
      ]
     },
     "metadata": {},
     "execution_count": 32
    }
   ],
   "source": [
    "# Or '|'\n",
    "re.search(r\"man|woman\", \"This man was here.\")"
   ]
  },
  {
   "cell_type": "code",
   "execution_count": 33,
   "metadata": {},
   "outputs": [
    {
     "output_type": "execute_result",
     "data": {
      "text/plain": [
       "<re.Match object; span=(5, 10), match='woman'>"
      ]
     },
     "metadata": {},
     "execution_count": 33
    }
   ],
   "source": [
    "re.search(r\"man|woman\", \"This woman was here.\")"
   ]
  },
  {
   "source": [
    "## Wildcard characters"
   ],
   "cell_type": "markdown",
   "metadata": {}
  },
  {
   "cell_type": "code",
   "execution_count": 34,
   "metadata": {},
   "outputs": [
    {
     "output_type": "execute_result",
     "data": {
      "text/plain": [
       "['cat', 'hat', 'sat', 'lat']"
      ]
     },
     "metadata": {},
     "execution_count": 34
    }
   ],
   "source": [
    "re.findall(r\".at\", \"The cat in the hat sat splat.\")\n",
    "#            |_ Wildcard character"
   ]
  },
  {
   "cell_type": "code",
   "execution_count": 35,
   "metadata": {},
   "outputs": [
    {
     "output_type": "execute_result",
     "data": {
      "text/plain": [
       "[' cat', ' hat', ' sat', 'plat']"
      ]
     },
     "metadata": {},
     "execution_count": 35
    }
   ],
   "source": [
    "re.findall(r\"..at\", \"The cat in the hat sat splat.\")"
   ]
  },
  {
   "source": [
    "## Start or end with ( ^ : start with, $ : end with)"
   ],
   "cell_type": "markdown",
   "metadata": {}
  },
  {
   "cell_type": "code",
   "execution_count": 36,
   "metadata": {},
   "outputs": [
    {
     "output_type": "execute_result",
     "data": {
      "text/plain": [
       "['2']"
      ]
     },
     "metadata": {},
     "execution_count": 36
    }
   ],
   "source": [
    "re.findall(r\"\\d$\", \"This ends with number 2\") # this is for entire string"
   ]
  },
  {
   "cell_type": "code",
   "execution_count": 37,
   "metadata": {},
   "outputs": [
    {
     "output_type": "execute_result",
     "data": {
      "text/plain": [
       "['1']"
      ]
     },
     "metadata": {},
     "execution_count": 37
    }
   ],
   "source": [
    "re.findall(r\"^\\d\", \"1 is here and, this ends with number 2\")"
   ]
  },
  {
   "cell_type": "code",
   "execution_count": 38,
   "metadata": {},
   "outputs": [],
   "source": [
    "phrase = \"there are 3 numbers 34 inside 5 this sentence\""
   ]
  },
  {
   "cell_type": "code",
   "execution_count": 39,
   "metadata": {},
   "outputs": [
    {
     "output_type": "execute_result",
     "data": {
      "text/plain": [
       "['t',\n",
       " 'h',\n",
       " 'e',\n",
       " 'r',\n",
       " 'e',\n",
       " ' ',\n",
       " 'a',\n",
       " 'r',\n",
       " 'e',\n",
       " ' ',\n",
       " ' ',\n",
       " 'n',\n",
       " 'u',\n",
       " 'm',\n",
       " 'b',\n",
       " 'e',\n",
       " 'r',\n",
       " 's',\n",
       " ' ',\n",
       " ' ',\n",
       " 'i',\n",
       " 'n',\n",
       " 's',\n",
       " 'i',\n",
       " 'd',\n",
       " 'e',\n",
       " ' ',\n",
       " ' ',\n",
       " 't',\n",
       " 'h',\n",
       " 'i',\n",
       " 's',\n",
       " ' ',\n",
       " 's',\n",
       " 'e',\n",
       " 'n',\n",
       " 't',\n",
       " 'e',\n",
       " 'n',\n",
       " 'c',\n",
       " 'e']"
      ]
     },
     "metadata": {},
     "execution_count": 39
    }
   ],
   "source": [
    "re.findall(r\"[^\\d]\", phrase) # [] : exclude"
   ]
  },
  {
   "cell_type": "code",
   "execution_count": 40,
   "metadata": {},
   "outputs": [
    {
     "output_type": "execute_result",
     "data": {
      "text/plain": [
       "['3', '3', '4', '5']"
      ]
     },
     "metadata": {},
     "execution_count": 40
    }
   ],
   "source": [
    "re.findall(r\"\\d\", phrase)"
   ]
  },
  {
   "cell_type": "code",
   "execution_count": 41,
   "metadata": {},
   "outputs": [
    {
     "output_type": "execute_result",
     "data": {
      "text/plain": [
       "['3', '34', '5']"
      ]
     },
     "metadata": {},
     "execution_count": 41
    }
   ],
   "source": [
    "re.findall(r\"\\d+\", phrase)"
   ]
  },
  {
   "cell_type": "code",
   "execution_count": 42,
   "metadata": {},
   "outputs": [
    {
     "output_type": "execute_result",
     "data": {
      "text/plain": [
       "['3', '34', '5']"
      ]
     },
     "metadata": {},
     "execution_count": 42
    }
   ],
   "source": [
    "re.findall(r\"[\\d]+\", phrase)"
   ]
  },
  {
   "cell_type": "code",
   "execution_count": 43,
   "metadata": {},
   "outputs": [
    {
     "output_type": "execute_result",
     "data": {
      "text/plain": [
       "['there are ', ' numbers ', ' inside ', ' this sentence']"
      ]
     },
     "metadata": {},
     "execution_count": 43
    }
   ],
   "source": [
    "re.findall(r\"[^\\d]+\", phrase)"
   ]
  },
  {
   "cell_type": "code",
   "execution_count": 44,
   "metadata": {},
   "outputs": [],
   "source": [
    "test_phrase = \"there is a string! but it has punctuation. How to remove it?\""
   ]
  },
  {
   "cell_type": "code",
   "execution_count": 45,
   "metadata": {},
   "outputs": [
    {
     "output_type": "execute_result",
     "data": {
      "text/plain": [
       "['there',\n",
       " 'is',\n",
       " 'a',\n",
       " 'string!',\n",
       " 'but',\n",
       " 'it',\n",
       " 'has',\n",
       " 'punctuation.',\n",
       " 'How',\n",
       " 'to',\n",
       " 'remove',\n",
       " 'it?']"
      ]
     },
     "metadata": {},
     "execution_count": 45
    }
   ],
   "source": [
    "re.findall(r\"[^ ]+\", test_phrase)\n",
    "#              |_ space (exclude space)"
   ]
  },
  {
   "cell_type": "code",
   "execution_count": 46,
   "metadata": {},
   "outputs": [],
   "source": [
    "mylist = re.findall(r\"[^!.? ]+\", test_phrase)\n",
    "#             ||||__ exclude '^', '!', '.', '?', ' '"
   ]
  },
  {
   "cell_type": "code",
   "execution_count": 47,
   "metadata": {},
   "outputs": [
    {
     "output_type": "execute_result",
     "data": {
      "text/plain": [
       "['there',\n",
       " 'is',\n",
       " 'a',\n",
       " 'string',\n",
       " 'but',\n",
       " 'it',\n",
       " 'has',\n",
       " 'punctuation',\n",
       " 'How',\n",
       " 'to',\n",
       " 'remove',\n",
       " 'it']"
      ]
     },
     "metadata": {},
     "execution_count": 47
    }
   ],
   "source": [
    "mylist"
   ]
  },
  {
   "cell_type": "code",
   "execution_count": 48,
   "metadata": {},
   "outputs": [
    {
     "output_type": "execute_result",
     "data": {
      "text/plain": [
       "'there is a string but it has punctuation How to remove it'"
      ]
     },
     "metadata": {},
     "execution_count": 48
    }
   ],
   "source": [
    "' '.join(mylist) # join the list with spaces between."
   ]
  },
  {
   "cell_type": "code",
   "execution_count": 49,
   "metadata": {},
   "outputs": [],
   "source": [
    "text = \"Only find the hyphen-words. Were are the long-ish dash words.\""
   ]
  },
  {
   "cell_type": "code",
   "execution_count": 50,
   "metadata": {},
   "outputs": [
    {
     "output_type": "execute_result",
     "data": {
      "text/plain": [
       "['hyphen-words', 'long-ish']"
      ]
     },
     "metadata": {},
     "execution_count": 50
    }
   ],
   "source": [
    "re.findall(r\"\\w+-\\w+\", text)"
   ]
  },
  {
   "cell_type": "code",
   "execution_count": 51,
   "metadata": {},
   "outputs": [
    {
     "output_type": "execute_result",
     "data": {
      "text/plain": [
       "['hyphen-words', 'long-ish']"
      ]
     },
     "metadata": {},
     "execution_count": 51
    }
   ],
   "source": [
    "re.findall(r\"[\\w]+-[\\w]+\", text)"
   ]
  },
  {
   "cell_type": "code",
   "execution_count": null,
   "metadata": {},
   "outputs": [],
   "source": []
  }
 ]
}